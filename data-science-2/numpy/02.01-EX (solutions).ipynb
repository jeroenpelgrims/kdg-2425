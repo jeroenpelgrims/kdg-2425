{
 "cells": [
  {
   "cell_type": "markdown",
   "id": "96bcea7e4909a41e",
   "metadata": {
    "collapsed": false
   },
   "source": [
    "# 1. Understanding how integers and other datatypes are stored in Python\n",
    "a. Create an integer with value 1.\\\n",
    "b. Check how many bytes the variable occupies in memory (use getsizeof() of the sys module)\\\n",
    "c. Can you explain the difference with an integer in C which occupies 2 or 4 bytes in memory?\\"
   ]
  },
  {
   "cell_type": "code",
   "execution_count": 1,
   "id": "initial_id",
   "metadata": {
    "ExecuteTime": {
     "end_time": "2024-08-22T08:15:32.006439800Z",
     "start_time": "2024-08-22T08:15:31.924495100Z"
    },
    "collapsed": true
   },
   "outputs": [
    {
     "data": {
      "text/plain": [
       "28"
      ]
     },
     "execution_count": 1,
     "metadata": {},
     "output_type": "execute_result"
    }
   ],
   "source": [
    "#SOLUTION_START\n",
    "# #a\n",
    "i = 1\n",
    "#b\n",
    "import sys\n",
    "sys.getsizeof(i)\n",
    "#c\n",
    "# Data types in Python are complex by default. It's'not only a reference to a memory location, it is a struct-type containing information like the count, size...\n",
    "#SOLUTION_END"
   ]
  },
  {
   "cell_type": "markdown",
   "id": "aa7124780778bfaf",
   "metadata": {
    "collapsed": false
   },
   "source": [
    "# 2. Understanding the difference between lists and np arrays\n",
    "a. Create a Python list with 3 one-digit integers. \\\n",
    "b. Append one item to the list with string value \"X\".\\\n",
    "c. Check how many bytes the list occupies in memory. \\\n",
    "_In case of a list, the total size is the sum of the list-object + the size of each seperate object in the list (as the list object only contain references to the list objects). You can use a __[list-comprehension](https://www.w3schools.com/python/python_lists_comprehension.asp)__ to loop through all the items_\\\n",
    "d. Now create a Numpy ndarray with the same 3 integers. Check the objectsize with getsizeof(). How many bytes does the ndarray occupy\\\n",
    "e. Also check the size of an indivdual element in the array with the 'itemsize' property of the ndarray object. How many bytes does one integer occupy? Explain the difference with a list object. _Using the list-comprehension as done with the list object will give confusing results as Python will convert the stored integer to a fully fledged \"int\" python object and will show the 28 byes of that object).\\\n",
    "f. Now 'append' an extra item with value 4 to the ndarray. Check the size of the ndarray again. How many bytes where added? Why?\\"
   ]
  },
  {
   "cell_type": "code",
   "execution_count": 4,
   "id": "be0fd641d5e34b05",
   "metadata": {
    "ExecuteTime": {
     "end_time": "2024-08-22T08:15:32.495729300Z",
     "start_time": "2024-08-22T08:15:32.018407800Z"
    },
    "collapsed": false
   },
   "outputs": [
    {
     "name": "stdout",
     "output_type": "stream",
     "text": [
      "[0, 1, 2, 'X']\n",
      "The size of the list is: 88 bytes\n",
      "The sizes of the elements are: [28, 28, 28, 50] bytes\n",
      "The total size is : 222 bytes\n",
      "The size of the array is: 124 bytes\n",
      "The sizes of the elements are: 4 bytes\n",
      "The size of the array is: 128 bytes\n"
     ]
    }
   ],
   "source": [
    "#SOLUTION_START\n",
    "import math\n",
    "#a\n",
    "L_size = 3\n",
    "L = list(range(L_size))\n",
    "#b\n",
    "L.append(\"X\")\n",
    "print(L)\n",
    "#c\n",
    "#When using f before the string, you can use variables in the string by using curly brackets {}.\n",
    "print(f\"The size of the list is: {sys.getsizeof(L)} bytes\")\n",
    "print(f\"The sizes of the elements are: {[sys.getsizeof(E) for E in L]} bytes\")\n",
    "print(f\"The total size is : {sum([sys.getsizeof(E) for E in L]) + sys.getsizeof(L)} bytes\")\n",
    "#d\n",
    "import numpy as np\n",
    "A_size= 3\n",
    "A = np.array(range(A_size))\n",
    "print(f\"The size of the array is: {sys.getsizeof(A)} bytes\")\n",
    "#e\n",
    "print(f\"The sizes of the elements are: {A.itemsize} bytes\")\n",
    "#f\n",
    "A= np.append(4, A)\n",
    "print(f\"The size of the array is: {sys.getsizeof(A)} bytes\")\n",
    "#SOLUTION_END"
   ]
  },
  {
   "cell_type": "markdown",
   "id": "e5f61b68aebf329f",
   "metadata": {
    "collapsed": false
   },
   "source": [
    "# 3. Creating Numpy arrays\n",
    "a. Array a1 has 10 ones of type float\\\n",
    "b. Array a2 has a range of numbers from 50 to (and including) 100 with steps of 2\\\n",
    "c. Array a3 has 10 random integers between 0 and 100. To do so, first create a random number generator with the default seed, then use the 'integers' method to create the array. _The seed makes sure that the random numbers are the same each time the code is executed._\\\n",
    "d. Array a4 has to contain the values of list 'l_ex3' \\\n",
    "e. Array a5 is a compact copy a2. Look for a dtype with a smaller size knowing that the values will never be higher then 100. _As you will be working with big datasets, reducing the size of the arrays will have a big impact on processing the data._\\\n",
    "f. Array a6 is an array of ones with 2 dimensions of 2 by 4. \\\n"
   ]
  },
  {
   "cell_type": "code",
   "execution_count": 7,
   "id": "bec2b9e375d10a63",
   "metadata": {
    "ExecuteTime": {
     "end_time": "2024-08-22T08:19:28.054521400Z",
     "start_time": "2024-08-22T08:19:27.996472300Z"
    },
    "collapsed": false
   },
   "outputs": [
    {
     "name": "stdout",
     "output_type": "stream",
     "text": [
      "a1=[1. 1. 1. 1. 1. 1. 1. 1. 1. 1.]\n",
      "a2=[50 52 54 56 58 60 62 64 66 68 70 72 74 76 78 80 82 84 86 88 90 92 94 96\n",
      " 98]\n",
      "a3=[ 9 78 66 44 43 86  8 70 20  9]\n",
      "a4=[1.   2.   3.14 4.  ]\n",
      "a5=[50 52 54 56 58 60 62 64 66 68 70 72 74 76 78 80 82 84 86 88 90 92 94 96\n",
      " 98]\n",
      "The size of a2 was reduced from 212 to 137 bytes\n",
      "a6=[[1. 1. 1. 1.]\n",
      " [1. 1. 1. 1.]]\n"
     ]
    }
   ],
   "source": [
    "l_oef3= [1,2,3.14,4]\n",
    "#SOLUTION_START\n",
    "a1= np.ones(10,dtype= 'float')\n",
    "print(f\"a1={a1}\")\n",
    "a2 = np.arange(50,100,2)\n",
    "print(f\"a2={a2}\")\n",
    "rng= np.random.default_rng(42)\n",
    "a3 = rng.integers(0,101,10) #high must be one above the to be drawn integer\"\n",
    "print(f\"a3={a3}\")\n",
    "a4 = np.array(l_oef3, dtype=np.float16)\n",
    "print(f\"a4={a4}\")\n",
    "a5 = np.array(a2,dtype= np.int8)\n",
    "print(f\"a5={a5}\")\n",
    "print(f\"The size of a2 was reduced from {sys.getsizeof(a2)} to {sys.getsizeof(a5)} bytes\")\n",
    "a6 = np.ones((2,4))\n",
    "print(f\"a6={a6}\")\n",
    "#SOLUTION_END"
   ]
  }
 ],
 "metadata": {
  "kernelspec": {
   "display_name": ".venv",
   "language": "python",
   "name": "python3"
  },
  "language_info": {
   "codemirror_mode": {
    "name": "ipython",
    "version": 3
   },
   "file_extension": ".py",
   "mimetype": "text/x-python",
   "name": "python",
   "nbconvert_exporter": "python",
   "pygments_lexer": "ipython3",
   "version": "3.12.7"
  }
 },
 "nbformat": 4,
 "nbformat_minor": 5
}
