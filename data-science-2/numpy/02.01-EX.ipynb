{
  "cells": [
    {
      "cell_type": "markdown",
      "id": "96bcea7e4909a41e",
      "metadata": {
        "collapsed": false
      },
      "source": [
        "# 1. Understanding how integers and other datatypes are stored in Python\n",
        "a. Create an integer with value 1.\\\n",
        "b. Check how many bytes the variable occupies in memory (use getsizeof() of the sys module)\\\n",
        "c. Can you explain the difference with an integer in C which occupies 2 or 4 bytes in memory?\\"
      ]
    },
    {
      "cell_type": "code",
      "execution_count": 15,
      "id": "initial_id",
      "metadata": {
        "ExecuteTime": {
          "end_time": "2024-08-22T08:15:32.006439800Z",
          "start_time": "2024-08-22T08:15:31.924495100Z"
        },
        "collapsed": true
      },
      "outputs": [
        {
          "data": {
            "text/plain": [
              "28"
            ]
          },
          "execution_count": 15,
          "metadata": {},
          "output_type": "execute_result"
        }
      ],
      "source": [
        "from sys import getsizeof\n",
        "\n",
        "getsizeof(1)"
      ]
    },
    {
      "cell_type": "markdown",
      "id": "aa7124780778bfaf",
      "metadata": {
        "collapsed": false
      },
      "source": [
        "# 2. Understanding the difference between lists and np arrays\n",
        "a. Create a Python list with 3 one-digit integers. \\\n",
        "b. Append one item to the list with string value \"X\".\\\n",
        "c. Check how many bytes the list occupies in memory. \\\n",
        "_In case of a list, the total size is the sum of the list-object + the size of each seperate object in the list (as the list object only contain references to the list objects). You can use a __[list-comprehension](https://www.w3schools.com/python/python_lists_comprehension.asp)__ to loop through all the items_\\\n",
        "d. Now create a Numpy ndarray with the same 3 integers. Check the objectsize with getsizeof(). How many bytes does the ndarray occupy\\\n",
        "e. Also check the size of an indivdual element in the array with the 'itemsize' property of the ndarray object. How many bytes does one integer occupy? Explain the difference with a list object. _Using the list-comprehension as done with the list object will give confusing results as Python will convert the stored integer to a fully fledged \"int\" python object and will show the 28 byes of that object).\\\n",
        "f. Now 'append' an extra item with value 4 to the ndarray. Check the size of the ndarray again. How many bytes where added? Why?\\"
      ]
    },
    {
      "cell_type": "code",
      "execution_count": 23,
      "id": "be0fd641d5e34b05",
      "metadata": {
        "ExecuteTime": {
          "end_time": "2024-08-22T08:15:32.495729300Z",
          "start_time": "2024-08-22T08:15:32.018407800Z"
        },
        "collapsed": false
      },
      "outputs": [
        {
          "name": "stdout",
          "output_type": "stream",
          "text": [
            "172 214\n",
            "136\n",
            "8\n",
            "144\n"
          ]
        }
      ],
      "source": [
        "import numpy as np\n",
        "\n",
        "def list_size(xs):\n",
        "    return getsizeof(xs) + sum(getsizeof(e) for e in xs)\n",
        "\n",
        "a = [1, 2, 3]\n",
        "ab = [*a, 'X']    \n",
        "print(list_size(a), list_size(ab))\n",
        "\n",
        "xs = np.array([1, 2, 3])\n",
        "print(getsizeof(xs))\n",
        "print(xs.itemsize)\n",
        "xs = np.append(xs, 4)\n",
        "print(getsizeof(xs))"
      ]
    },
    {
      "cell_type": "markdown",
      "id": "e5f61b68aebf329f",
      "metadata": {
        "collapsed": false
      },
      "source": [
        "# 3. Creating Numpy arrays\n",
        "a. Array a1 has 10 ones of type float\\\n",
        "b. Array a2 has a range of numbers from 50 to (and including) 100 with steps of 2\\\n",
        "c. Array a3 has 10 random integers between 0 and 100. To do so, first create a random number generator with the default seed, then use the 'integers' method to create the array. _The seed makes sure that the random numbers are the same each time the code is executed._\\\n",
        "d. Array a4 has to contain the values of list 'l_ex3' \\\n",
        "e. Array a5 is a compact copy a2. Look for a dtype with a smaller size knowing that the values will never be higher then 100. _As you will be working with big datasets, reducing the size of the arrays will have a big impact on processing the data._\\\n",
        "f. Array a6 is an array of ones with 2 dimensions of 2 by 4. \\\n"
      ]
    },
    {
      "cell_type": "code",
      "execution_count": 2,
      "id": "bec2b9e375d10a63",
      "metadata": {
        "ExecuteTime": {
          "end_time": "2024-08-22T08:19:28.054521400Z",
          "start_time": "2024-08-22T08:19:27.996472300Z"
        },
        "collapsed": false
      },
      "outputs": [
        {
          "name": "stdout",
          "output_type": "stream",
          "text": [
            "a1 [1. 1. 1. 1. 1. 1. 1. 1. 1. 1.]\n",
            "a2 [ 50  52  54  56  58  60  62  64  66  68  70  72  74  76  78  80  82  84\n",
            "  86  88  90  92  94  96  98 100]\n",
            "a3 [43 29 62 82 62 41 18  0 61 63]\n",
            "a4 [1.   2.   3.14 4.  ]\n",
            "a5 [ 50  52  54  56  58  60  62  64  66  68  70  72  74  76  78  80  82  84\n",
            "  86  88  90  92  94  96  98 100]\n",
            "320 138 208 26\n",
            "[[1. 1.]\n",
            " [1. 1.]]\n"
          ]
        }
      ],
      "source": [
        "import numpy as np\n",
        "from sys import getsizeof\n",
        "\n",
        "l_oef3 = [1,2,3.14,4]\n",
        "\n",
        "a1 = np.ones(10, dtype=float)\n",
        "print('a1', a1)\n",
        "a2 = np.arange(50, 101, 2)\n",
        "print('a2', a2)\n",
        "a3 = np.random.randint(0, 101, 10)\n",
        "print('a3', a3)\n",
        "a4 = np.array(l_oef3)\n",
        "print('a4', a4)\n",
        "a5 = np.array(a2, dtype=np.int8)\n",
        "print('a5', a5)\n",
        "print(getsizeof(a2), getsizeof(a5), a2.nbytes, a5.nbytes)\n",
        "\n",
        "a6 = np.ones((2,2))\n",
        "print(a6)"
      ]
    }
  ],
  "metadata": {
    "kernelspec": {
      "display_name": ".venv",
      "language": "python",
      "name": "python3"
    },
    "language_info": {
      "codemirror_mode": {
        "name": "ipython",
        "version": 3
      },
      "file_extension": ".py",
      "mimetype": "text/x-python",
      "name": "python",
      "nbconvert_exporter": "python",
      "pygments_lexer": "ipython3",
      "version": "3.12.7"
    }
  },
  "nbformat": 4,
  "nbformat_minor": 5
}
