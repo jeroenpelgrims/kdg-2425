{
 "cells": [
  {
   "cell_type": "code",
   "execution_count": 3,
   "id": "initial_id",
   "metadata": {
    "ExecuteTime": {
     "end_time": "2025-01-24T15:17:53.957157Z",
     "start_time": "2025-01-24T15:17:53.945461Z"
    },
    "collapsed": true,
    "id": "initial_id"
   },
   "outputs": [
    {
     "name": "stdout",
     "output_type": "stream",
     "text": [
      "['sepal length (cm)', 'sepal width (cm)', 'petal length (cm)', 'petal width (cm)']\n"
     ]
    }
   ],
   "source": [
    "import numpy as np\n",
    "import sklearn.datasets as ds\n",
    "\n",
    "a = np.array(ds.load_iris().data)\n",
    "b= a[:,1]\n",
    "\n",
    "print(ds.load_iris().feature_names)"
   ]
  },
  {
   "cell_type": "markdown",
   "id": "c6ce828adc87543d",
   "metadata": {
    "collapsed": false,
    "id": "c6ce828adc87543d"
   },
   "source": [
    "# 1. Numpy Array Attributes\n",
    "In this exercise we will use the `iris` dataset from the sklearn module. The features (independent variables) define properties of the flowers (see output above). The target (dependent variable) is the species of the flower. We stored the features in the array a.\n",
    "\n",
    " a. Get the number of dimensions of array a. Use the correct attribute\\\n",
    " b. Get the shape of the array. How many rows and columns does the array have.\\\n",
    " c. What datatype is used in the array?\\"
   ]
  },
  {
   "cell_type": "code",
   "execution_count": 4,
   "id": "973cb3606c20de7d",
   "metadata": {
    "ExecuteTime": {
     "end_time": "2024-08-19T13:24:32.430492100Z",
     "start_time": "2024-08-19T13:24:32.419357900Z"
    },
    "id": "973cb3606c20de7d",
    "outputId": "ed2af434-549a-4879-d43c-a83bb1e0858d"
   },
   "outputs": [
    {
     "name": "stdout",
     "output_type": "stream",
     "text": [
      "The number of dimensions is 2. The array has  150 rows and 4 columns with dtype float64\n"
     ]
    }
   ],
   "source": [
    "print(f'The number of dimensions is {a.ndim}. '\n",
    "      f'The array has  {a.shape[0]} rows and {a.shape[1]} columns '\n",
    "      f'with dtype {a.dtype}')\n"
   ]
  },
  {
   "cell_type": "markdown",
   "id": "fc6ea28d15355f81",
   "metadata": {
    "collapsed": false,
    "id": "fc6ea28d15355f81"
   },
   "source": [
    "# 2. Indexing\n",
    "Array b contains the second column of array a.\\\n",
    "\n",
    "a. From array b, get the 3th value (should be 3.2)\\\n",
    "b. From array b, get the 3th last value  (should be 3.0)\\\n",
    "c. From array a, get the value of the 3th column of the 91st row of array a (should be 4.4)\\\n",
    "d. From array a, from the last row get the first column (should be 5.9)\\"
   ]
  },
  {
   "cell_type": "code",
   "execution_count": 5,
   "id": "bc2d4d0124abf621",
   "metadata": {
    "ExecuteTime": {
     "end_time": "2025-01-24T15:23:24.664196Z",
     "start_time": "2025-01-24T15:23:24.657906Z"
    },
    "id": "bc2d4d0124abf621",
    "outputId": "942ef322-6aae-4277-fa50-144ac2b8a018"
   },
   "outputs": [
    {
     "name": "stdout",
     "output_type": "stream",
     "text": [
      "3.2\n",
      "3.0\n",
      "4.4\n",
      "5.9\n"
     ]
    }
   ],
   "source": [
    "#SOLUTION_START\n",
    "#a\n",
    "print(b[2])\n",
    "#b\n",
    "print(b[-3])\n",
    "#c\n",
    "print(a[90,2])\n",
    "#d\n",
    "print(a[-1,0])\n",
    "#SOLUTION_END"
   ]
  },
  {
   "cell_type": "markdown",
   "id": "3c837e7bec6956ad",
   "metadata": {
    "collapsed": false,
    "id": "3c837e7bec6956ad"
   },
   "source": [
    "## 3. Slicing\n",
    "a. From array b, get the first 10 elements. (The features of the first 10 flowers.)\\\n",
    "b. From array b, get the flowers starting from the 10th row until the 20th row (including the 20th elemement)\\\n",
    "b. From array b, get all the flowers after the 50th row\\\n",
    "d. From array b, display the last 5 flowers\\\n",
    "e. From array b, display only every 3th flower\\\n",
    "f. From array b, display each 5th flower from the first 100 flowers\\\n",
    "g. From array a, display the rows of the first 10 elements (flowers)\\\n",
    "h. From array a, display the last two columns of the rows with index 10 to 20 (20 not included)\\\n",
    "i. From array a, display the second column of each second element.\\\n",
    "j. Based on array a, make a new array c with the 20 first rows with column 1 and 2. Make sure changes in the new array are not applied on the original aray.\\\n",
    "k. change element c[0,0] to 1. Check if a[0,0] is not changed\\\n",
    "l. Based on array a, make a new array l with 100 by 6 instead of 150 by 4.\\\n",
    "The outputs should look like this:\n",
    "```\n",
    "a=[3.5 3.  3.2 3.1 3.6 3.9 3.4 3.4 2.9 3.1]\n",
    "b=[3.1 3.7 3.4 3.  3.  4.  4.4 3.9 3.5 3.8 3.8]\n",
    "c=[3.2 3.2 3.1 2.3 2.8 2.8 3.3 2.4 2.9 2.7 2.  3.  2.2 2.9 2.9 3.1 3.  2.7\n",
    " 2.2 2.5 3.2 2.8 2.5 2.8 2.9 3.  2.8 3.  2.9 2.6 2.4 2.4 2.7 2.7 3.  3.4\n",
    " 3.1 2.3 3.  2.5 2.6 3.  2.6 2.3 2.7 3.  2.9 2.9 2.5 2.8 3.3 2.7 3.  2.9\n",
    " 3.  3.  2.5 2.9 2.5 3.6 3.2 2.7 3.  2.5 2.8 3.2 3.  3.8 2.6 2.2 3.2 2.8\n",
    " 2.8 2.7 3.3 3.2 2.8 3.  2.8 3.  2.8 3.8 2.8 2.8 2.6 3.  3.4 3.1 3.  3.1\n",
    " 3.1 3.1 2.7 3.2 3.3 3.  2.5 3.  3.4 3. ]\n",
    "d=[3.  2.5 3.  3.4 3. ]\n",
    "e=[3.5 3.1 3.4 3.1 3.  4.4 3.8 3.7 3.4 3.5 3.1 4.2 3.5 3.4 3.2 3.  3.7 3.2\n",
    " 2.8 2.4 2.  2.9 3.  2.5 2.5 3.  2.9 2.4 3.  2.3 2.6 2.3 2.9 2.8 3.  3.\n",
    " 2.5 2.7 2.8 3.8 3.2 2.7 2.8 3.  2.8 3.  3.  3.1 3.3 3. ]\n",
    "f=[3.6 3.1 4.  3.8 3.4 3.2 3.1 3.4 3.8 3.3 2.8 2.7 2.9 2.5 2.9 2.6 3.  2.5\n",
    " 2.7 2.8]\n",
    "g1=[[5.1 3.5 1.4 0.2]\n",
    " [4.9 3.  1.4 0.2]\n",
    " [4.7 3.2 1.3 0.2]\n",
    " [4.6 3.1 1.5 0.2]\n",
    " [5.  3.6 1.4 0.2]\n",
    " [5.4 3.9 1.7 0.4]\n",
    " [4.6 3.4 1.4 0.3]\n",
    " [5.  3.4 1.5 0.2]\n",
    " [4.4 2.9 1.4 0.2]\n",
    " [4.9 3.1 1.5 0.1]]\n",
    "g2=[[5.1 3.5 1.4 0.2]\n",
    " [4.9 3.  1.4 0.2]\n",
    " [4.7 3.2 1.3 0.2]\n",
    " [4.6 3.1 1.5 0.2]\n",
    " [5.  3.6 1.4 0.2]\n",
    " [5.4 3.9 1.7 0.4]\n",
    " [4.6 3.4 1.4 0.3]\n",
    " [5.  3.4 1.5 0.2]\n",
    " [4.4 2.9 1.4 0.2]\n",
    " [4.9 3.1 1.5 0.1]]\n",
    "h=[[1.5 0.2]\n",
    " [1.6 0.2]\n",
    " [1.4 0.1]\n",
    " [1.1 0.1]\n",
    " [1.2 0.2]\n",
    " [1.5 0.4]\n",
    " [1.3 0.4]\n",
    " [1.4 0.3]\n",
    " [1.7 0.3]\n",
    " [1.5 0.3]]\n",
    "i=[3.5 3.2 3.6 3.4 2.9 3.7 3.  4.  3.9 3.8 3.4 3.6 3.4 3.4 3.4 3.1 4.1 3.1\n",
    " 3.5 3.  3.5 3.2 3.8 3.8 3.7 3.2 3.1 2.8 3.3 2.9 2.  2.2 2.9 3.  2.2 3.2\n",
    " 2.5 2.9 2.8 2.9 2.4 2.7 3.  3.1 3.  2.6 2.6 2.7 2.9 2.5 3.3 3.  3.  2.5\n",
    " 2.5 3.2 3.  2.8 3.  2.6 3.2 2.8 3.3 2.8 2.8 2.8 2.8 2.6 3.4 3.  3.1 2.7\n",
    " 3.3 2.5 3.4]\n",
    "c[0,0]=1.0, a[0,0]=5.1\n",
    "l. The shape of array l is (100, 6)\n",
    "```\n"
   ]
  },
  {
   "cell_type": "code",
   "execution_count": 6,
   "id": "c0bb63c59f6b93",
   "metadata": {
    "ExecuteTime": {
     "end_time": "2024-08-20T08:27:25.073485700Z",
     "start_time": "2024-08-20T08:27:25.049331100Z"
    },
    "id": "c0bb63c59f6b93",
    "outputId": "8db65784-acb8-4a97-d760-a9b2fc9b000f"
   },
   "outputs": [
    {
     "name": "stdout",
     "output_type": "stream",
     "text": [
      "a=[3.5 3.  3.2 3.1 3.6 3.9 3.4 3.4 2.9 3.1]\n",
      "b=[3.1 3.7 3.4 3.  3.  4.  4.4 3.9 3.5 3.8 3.8]\n",
      "c=[3.2 3.2 3.1 2.3 2.8 2.8 3.3 2.4 2.9 2.7 2.  3.  2.2 2.9 2.9 3.1 3.  2.7\n",
      " 2.2 2.5 3.2 2.8 2.5 2.8 2.9 3.  2.8 3.  2.9 2.6 2.4 2.4 2.7 2.7 3.  3.4\n",
      " 3.1 2.3 3.  2.5 2.6 3.  2.6 2.3 2.7 3.  2.9 2.9 2.5 2.8 3.3 2.7 3.  2.9\n",
      " 3.  3.  2.5 2.9 2.5 3.6 3.2 2.7 3.  2.5 2.8 3.2 3.  3.8 2.6 2.2 3.2 2.8\n",
      " 2.8 2.7 3.3 3.2 2.8 3.  2.8 3.  2.8 3.8 2.8 2.8 2.6 3.  3.4 3.1 3.  3.1\n",
      " 3.1 3.1 2.7 3.2 3.3 3.  2.5 3.  3.4 3. ]\n",
      "d=[3.  2.5 3.  3.4 3. ]\n",
      "e=[3.5 3.1 3.4 3.1 3.  4.4 3.8 3.7 3.4 3.5 3.1 4.2 3.5 3.4 3.2 3.  3.7 3.2\n",
      " 2.8 2.4 2.  2.9 3.  2.5 2.5 3.  2.9 2.4 3.  2.3 2.6 2.3 2.9 2.8 3.  3.\n",
      " 2.5 2.7 2.8 3.8 3.2 2.7 2.8 3.  2.8 3.  3.  3.1 3.3 3. ]\n",
      "f=[3.6 3.1 4.  3.8 3.4 3.2 3.1 3.4 3.8 3.3 2.8 2.7 2.9 2.5 2.9 2.6 3.  2.5\n",
      " 2.7 2.8]\n",
      "g1=[[5.1 3.5 1.4 0.2]\n",
      " [4.9 3.  1.4 0.2]\n",
      " [4.7 3.2 1.3 0.2]\n",
      " [4.6 3.1 1.5 0.2]\n",
      " [5.  3.6 1.4 0.2]\n",
      " [5.4 3.9 1.7 0.4]\n",
      " [4.6 3.4 1.4 0.3]\n",
      " [5.  3.4 1.5 0.2]\n",
      " [4.4 2.9 1.4 0.2]\n",
      " [4.9 3.1 1.5 0.1]]\n",
      "g2=[[5.1 3.5 1.4 0.2]\n",
      " [4.9 3.  1.4 0.2]\n",
      " [4.7 3.2 1.3 0.2]\n",
      " [4.6 3.1 1.5 0.2]\n",
      " [5.  3.6 1.4 0.2]\n",
      " [5.4 3.9 1.7 0.4]\n",
      " [4.6 3.4 1.4 0.3]\n",
      " [5.  3.4 1.5 0.2]\n",
      " [4.4 2.9 1.4 0.2]\n",
      " [4.9 3.1 1.5 0.1]]\n",
      "h=[[1.5 0.2]\n",
      " [1.6 0.2]\n",
      " [1.4 0.1]\n",
      " [1.1 0.1]\n",
      " [1.2 0.2]\n",
      " [1.5 0.4]\n",
      " [1.3 0.4]\n",
      " [1.4 0.3]\n",
      " [1.7 0.3]\n",
      " [1.5 0.3]]\n",
      "i=[3.5 3.2 3.6 3.4 2.9 3.7 3.  4.  3.9 3.8 3.4 3.6 3.4 3.4 3.4 3.1 4.1 3.1\n",
      " 3.5 3.  3.5 3.2 3.8 3.8 3.7 3.2 3.1 2.8 3.3 2.9 2.  2.2 2.9 3.  2.2 3.2\n",
      " 2.5 2.9 2.8 2.9 2.4 2.7 3.  3.1 3.  2.6 2.6 2.7 2.9 2.5 3.3 3.  3.  2.5\n",
      " 2.5 3.2 3.  2.8 3.  2.6 3.2 2.8 3.3 2.8 2.8 2.8 2.8 2.6 3.4 3.  3.1 2.7\n",
      " 3.3 2.5 3.4]\n",
      "c[0,0]=1.0, a[0,0]=5.1\n",
      "The shape of array d is (100, 6)\n"
     ]
    }
   ],
   "source": [
    "#SOLUTION_START\n",
    "print(f'a={b[0:10]}') #Elements with index 0 to 9 (excluding the element with index 10)\n",
    "print(f'b={b[9:20]}') #Elements with index 9 to 18\n",
    "print(f'c={b[50:]}') #AFter 50th element = starting from index 50\n",
    "print(f'd={b[-5:]}')\n",
    "print(f'e={b[::3]}')\n",
    "print(f'f={b[4:100:5]}') #The first 5th element has index. We take steps of 5 from there and we stop before index 100 (which is the 101th element)\n",
    "print(f'g1={a[0:10,:]}')  #or shorter\n",
    "print(f'g2={a[0:10]}')\n",
    "print(f'h={a[10:20,-2:]}')\n",
    "print(f'i={a[::2,1]}')\n",
    "#j\n",
    "j= a[:20,0:2].copy()\n",
    "#k\n",
    "j[0,0]=1\n",
    "print(f'c[0,0]={j[0,0]}, a[0,0]={a[0,0]}')\n",
    "#l\n",
    "l = a.reshape((100,6))\n",
    "print(f\"The shape of array d is {l.shape}\")\n",
    "#m\n",
    "#SOLUTION_START"
   ]
  },
  {
   "cell_type": "markdown",
   "id": "22784b6baeb0d3f0",
   "metadata": {
    "collapsed": false,
    "id": "22784b6baeb0d3f0"
   },
   "source": [
    "## 4. Concatenation\n",
    "a. Create a new array ca that concatenates the second column of array a with array b\n",
    "b. Create a new array cb that concatenates the first 10 and last then rows of array a\n",
    "\n"
   ]
  },
  {
   "cell_type": "code",
   "execution_count": 7,
   "id": "6e20f37efcefc3c2",
   "metadata": {
    "ExecuteTime": {
     "end_time": "2024-08-20T08:46:36.212214300Z",
     "start_time": "2024-08-20T08:46:36.172108200Z"
    },
    "id": "6e20f37efcefc3c2",
    "outputId": "07b4c1d0-e880-48fe-8eda-bd47538ed2a9"
   },
   "outputs": [],
   "source": [
    "#SOLUTION_START\n",
    "a.dtype\n",
    "b.dtype\n",
    "ca = np.concatenate([a[:,0], b])\n",
    "cb = np.concatenate([a[0:10], a[-10:]])\n",
    "#SOLUTION_END"
   ]
  }
 ],
 "metadata": {
  "colab": {
   "provenance": []
  },
  "kernelspec": {
   "display_name": ".venv",
   "language": "python",
   "name": "python3"
  },
  "language_info": {
   "codemirror_mode": {
    "name": "ipython",
    "version": 3
   },
   "file_extension": ".py",
   "mimetype": "text/x-python",
   "name": "python",
   "nbconvert_exporter": "python",
   "pygments_lexer": "ipython3",
   "version": "3.12.7"
  }
 },
 "nbformat": 4,
 "nbformat_minor": 5
}
