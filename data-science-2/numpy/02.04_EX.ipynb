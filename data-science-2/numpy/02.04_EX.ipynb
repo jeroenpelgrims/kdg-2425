{
  "cells": [
    {
      "cell_type": "code",
      "execution_count": 15,
      "id": "initial_id",
      "metadata": {
        "ExecuteTime": {
          "end_time": "2025-01-27T08:39:10.150073Z",
          "start_time": "2025-01-27T08:39:10.133980Z"
        },
        "collapsed": true
      },
      "outputs": [
        {
          "name": "stdout",
          "output_type": "stream",
          "text": [
            "The shape of large_array is (10000,) and its dtype is float64\n"
          ]
        }
      ],
      "source": [
        "import numpy as np\n",
        "import sklearn.datasets as ds\n",
        "import numpy as np\n",
        "large_array, _ = ds.make_gaussian_quantiles(n_samples=10000, n_features=1, random_state=42)\n",
        "large_array= large_array.reshape((10000,))\n",
        "a = np.array(ds.load_iris().data)\n",
        "print(f\"The shape of large_array is {large_array.shape} and its dtype is {large_array.dtype}\")"
      ]
    },
    {
      "cell_type": "markdown",
      "id": "adae51bffadde368",
      "metadata": {
        "collapsed": false
      },
      "source": [
        "## 2. Aggregations\n",
        "large_array is generated with dummy data. You do not have to understand how it's done. You can consult the shape and dtype of large_array in the output above.\\\n",
        "a. Calculate the mean of array a.\\\n",
        "b. Calculate the sum of all the columns in a.\\\n",
        "c. Calculate the product of all the rows in a.\n",
        "\n"
      ]
    },
    {
      "cell_type": "code",
      "execution_count": 16,
      "id": "3e4c1bb4c1aa1a4b",
      "metadata": {
        "ExecuteTime": {
          "end_time": "2025-01-24T12:28:57.337368Z",
          "start_time": "2025-01-24T12:28:57.322256Z"
        },
        "collapsed": false
      },
      "outputs": [
        {
          "name": "stdout",
          "output_type": "stream",
          "text": [
            "3.4644999999999997\n",
            "[876.5 458.6 563.7 179.9]\n",
            "[  4.998    4.116    3.9104   4.278    5.04    14.3208   6.5688   5.1\n",
            "   3.5728   2.2785   5.994    5.2224   2.016    1.419    5.568   15.048\n",
            "  10.9512   7.497   11.0466   8.721    6.2424  11.322    3.312   14.3055\n",
            "   6.2016   4.8     10.88     5.46     4.9504   4.8128   4.7616  11.016\n",
            "   3.198    6.468    4.557    3.84     5.005    2.4696   3.432    5.202\n",
            "   6.825    4.0365   3.6608  16.8     14.7288   6.048    6.2016   4.1216\n",
            "   5.883    4.62   147.392  138.24   157.2165  65.78   125.58    93.366\n",
            " 156.3408  38.808  114.4572  76.6584  35.     111.51    52.8    116.4002\n",
            "  76.0032 127.9432 113.4     64.206   92.07    60.06   163.1232  88.816\n",
            " 115.7625  96.3312 103.7504 121.968  127.9488 170.85   117.45    51.87\n",
            "  55.176   48.84    73.2888 132.192  109.35   146.88   146.4285  82.8828\n",
            "  89.544   71.5     75.504  117.852   72.384   37.95    82.5552  86.184\n",
            "  90.2538 100.5082  42.075   85.0668 311.85   151.7454 263.907  184.1616\n",
            " 248.82   316.008   93.7125 240.0678 174.87   395.28   212.16   174.0096\n",
            " 235.62   142.5    198.7776 249.6512 193.05   431.2924 317.7174  99.\n",
            " 289.4688 153.664  288.904  150.0282 264.6567 248.832  149.9904 161.406\n",
            " 210.7392 200.448  240.1448 384.256  220.7744 134.946  124.3424 324.093\n",
            " 287.8848 196.416  155.52   242.5626 279.1488 250.9047 151.7454 295.2832\n",
            " 315.0675 240.396  149.625  202.8    261.8136 162.486 ]\n"
          ]
        }
      ],
      "source": [
        "print(a.mean())\n",
        "print(a.sum(axis=0))\n",
        "print(a.prod(axis=1))"
      ]
    },
    {
      "cell_type": "markdown",
      "id": "aa12de36838d0f42",
      "metadata": {
        "collapsed": false
      },
      "source": [
        "d. Calculate the standard deviation of the first column in `a` by calculating the standard deviation of every column of array `a` and then selecting the first element of the resulting array."
      ]
    },
    {
      "cell_type": "code",
      "execution_count": 17,
      "id": "8e05d131730b06d",
      "metadata": {
        "ExecuteTime": {
          "end_time": "2025-01-24T12:29:01.218762Z",
          "start_time": "2025-01-24T12:28:57.723011Z"
        },
        "collapsed": false
      },
      "outputs": [
        {
          "name": "stdout",
          "output_type": "stream",
          "text": [
            "16.6 μs ± 241 ns per loop (mean ± std. dev. of 7 runs, 100,000 loops each)\n"
          ]
        }
      ],
      "source": [
        "%%timeit\n",
        "a.std(axis=0)[0]"
      ]
    },
    {
      "cell_type": "markdown",
      "id": "b1a4e69b64e9b9c",
      "metadata": {
        "collapsed": false
      },
      "source": [
        "\n",
        "e. Calculate the standard deviation of the first column in a by selecting the first column and then calculating the standard deviation."
      ]
    },
    {
      "cell_type": "code",
      "execution_count": 18,
      "id": "66e5746bca89efa9",
      "metadata": {
        "ExecuteTime": {
          "end_time": "2025-01-24T12:29:03.752956Z",
          "start_time": "2025-01-24T12:29:01.279769Z"
        },
        "collapsed": false
      },
      "outputs": [
        {
          "name": "stdout",
          "output_type": "stream",
          "text": [
            "9.63 μs ± 114 ns per loop (mean ± std. dev. of 7 runs, 100,000 loops each)\n"
          ]
        }
      ],
      "source": [
        "%%timeit\n",
        "a[:,0].std()"
      ]
    },
    {
      "cell_type": "markdown",
      "id": "f06ee6d2ff271a49",
      "metadata": {
        "collapsed": false
      },
      "source": [
        "f. Compare the time it takes to calculate the standard deviation of the first column in a using the two methods above. Which method is faster? Why"
      ]
    },
    {
      "cell_type": "code",
      "execution_count": 8,
      "id": "dd9325c76be23450",
      "metadata": {
        "ExecuteTime": {
          "end_time": "2025-01-24T12:31:36.085631Z",
          "start_time": "2025-01-24T12:31:30.512944Z"
        },
        "collapsed": false
      },
      "outputs": [],
      "source": []
    },
    {
      "cell_type": "markdown",
      "id": "7a0cf5080120dc37",
      "metadata": {
        "collapsed": false
      },
      "source": [
        "This is another example where chosing the right method can make a big difference in performance. Chosing an efficient solution will be taken into account when evaluating. "
      ]
    }
  ],
  "metadata": {
    "kernelspec": {
      "display_name": ".venv",
      "language": "python",
      "name": "python3"
    },
    "language_info": {
      "codemirror_mode": {
        "name": "ipython",
        "version": 3
      },
      "file_extension": ".py",
      "mimetype": "text/x-python",
      "name": "python",
      "nbconvert_exporter": "python",
      "pygments_lexer": "ipython3",
      "version": "3.12.7"
    }
  },
  "nbformat": 4,
  "nbformat_minor": 5
}
