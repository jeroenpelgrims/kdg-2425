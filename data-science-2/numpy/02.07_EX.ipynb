{
  "cells": [
    {
      "cell_type": "code",
      "execution_count": null,
      "id": "initial_id",
      "metadata": {
        "ExecuteTime": {
          "end_time": "2025-01-24T14:59:57.168270Z",
          "start_time": "2025-01-24T14:59:57.153262Z"
        },
        "collapsed": true
      },
      "outputs": [],
      "source": [
        "import numpy as np\n",
        "import sklearn.datasets as ds\n",
        "import numpy as np\n",
        "wine_x= np.array(ds.load_wine().data)\n",
        "wine_y= np.array(ds.load_wine().target)\n",
        "descr= ds.load_wine().DESCR\n",
        "print(descr)"
      ]
    },
    {
      "cell_type": "markdown",
      "id": "b9f9f114befe26a4",
      "metadata": {
        "collapsed": false
      },
      "source": [
        "## 1. Fancy Indexing\n",
        "\n",
        "In this exercise we will use a wine dataset from the sklearn module. The features (independent variables) are stored in the array wine_x. The target wineclass (dependent variable) is stored in the array wine_y. See the description above for more information on the dataset.\n",
        "\n",
        "\n",
        "a. Select the 1st, 5th and 10th row of wine_x. Do it with one statement.\\\n",
        "b. We want to pick a sample of the wine_x dataset. Pick a sample of 5 rows of wine_x. Use the random module of numpy.\\\n",
        "c. Pick a sample of 20 rows of wine_x. We only want to select columns Alcohol, Malic Acid and Ash (first tree columns). Use combined indexing. Do it with one statement.\\\n",
        "d. In column 0 of wine_x change the values of row 5,20,38,45,60 to 0."
      ]
    },
    {
      "cell_type": "code",
      "execution_count": null,
      "id": "6cc5ef6201a553de",
      "metadata": {
        "ExecuteTime": {
          "end_time": "2025-01-24T15:10:52.662041Z",
          "start_time": "2025-01-24T15:10:52.652272Z"
        },
        "collapsed": false
      },
      "outputs": [],
      "source": [
        "# a\n",
        "print(wine_x[[0,4,9]])"
      ]
    },
    {
      "cell_type": "code",
      "execution_count": null,
      "id": "ff15de614486ec17",
      "metadata": {},
      "outputs": [],
      "source": [
        "# b\n",
        "np.random.seed(42)\n",
        "rows, cols = wine_x.shape\n",
        "indexes = np.random.choice(np.arange(0, rows), 5, replace=False)\n",
        "wine_x[indexes]\n"
      ]
    },
    {
      "cell_type": "code",
      "execution_count": null,
      "id": "bf02b897",
      "metadata": {},
      "outputs": [],
      "source": [
        "# c\n",
        "rows, cols = wine_x.shape\n",
        "indexes = np.random.choice(np.arange(0, rows), 20, replace=False)\n",
        "wine_x[indexes, :3]"
      ]
    },
    {
      "cell_type": "code",
      "execution_count": 13,
      "id": "5c172d0b",
      "metadata": {},
      "outputs": [],
      "source": [
        "# d \n",
        "wine_x[[5, 20, 38, 45, 60]] = 0"
      ]
    }
  ],
  "metadata": {
    "kernelspec": {
      "display_name": ".venv",
      "language": "python",
      "name": "python3"
    },
    "language_info": {
      "codemirror_mode": {
        "name": "ipython",
        "version": 3
      },
      "file_extension": ".py",
      "mimetype": "text/x-python",
      "name": "python",
      "nbconvert_exporter": "python",
      "pygments_lexer": "ipython3",
      "version": "3.12.7"
    }
  },
  "nbformat": 4,
  "nbformat_minor": 5
}
