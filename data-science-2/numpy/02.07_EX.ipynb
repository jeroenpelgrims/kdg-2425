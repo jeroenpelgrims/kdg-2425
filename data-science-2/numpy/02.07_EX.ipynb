{
  "cells": [
    {
      "cell_type": "code",
      "id": "initial_id",
      "metadata": {
        "collapsed": true,
        "ExecuteTime": {
          "end_time": "2025-01-24T14:59:57.168270Z",
          "start_time": "2025-01-24T14:59:57.153262Z"
        }
      },
      "source": [
        "import numpy as np\n",
        "import sklearn.datasets as ds\n",
        "import numpy as np\n",
        "wine_x= np.array(ds.load_wine().data)\n",
        "wine_y= np.array(ds.load_wine().target)\n",
        "descr= ds.load_wine().DESCR\n",
        "print(descr)"
      ],
      "outputs": [],
      "execution_count": 3
    },
    {
      "cell_type": "markdown",
      "source": [
        "## 1. Fancy Indexing\n",
        "\n",
        "In this exercise we will use a wine dataset from the sklearn module. The features (independent variables) are stored in the array wine_x. The target wineclass (dependent variable) is stored in the array wine_y. See the description above for more information on the dataset.\n",
        "\n",
        "\n",
        "a. Select the 1st, 5th and 10th row of wine_x. Do it with one statement.\\\n",
        "b. We want to pick a sample of the wine_x dataset. Pick a sample of 5 rows of wine_x. Use the random module of numpy.\\\n",
        "c. Pick a sample of 20 rows of wine_x. We only want to select columns Alcohol, Malic Acid and Ash (first tree columns). Use combined indexing. Do it with one statement.\\\n",
        "d. In column 0 of wine_x change the values of row 5,20,38,45,60 to 0."
      ],
      "metadata": {
        "collapsed": false
      },
      "id": "b9f9f114befe26a4"
    },
    {
      "cell_type": "code",
      "source": [],
      "metadata": {
        "collapsed": false,
        "ExecuteTime": {
          "end_time": "2025-01-24T15:10:52.662041Z",
          "start_time": "2025-01-24T15:10:52.652272Z"
        }
      },
      "id": "6cc5ef6201a553de",
      "outputs": [],
      "execution_count": 10
    },
    {
      "metadata": {},
      "cell_type": "code",
      "outputs": [],
      "execution_count": null,
      "source": [],
      "id": "ff15de614486ec17"
    }
  ],
  "metadata": {
    "kernelspec": {
      "display_name": "Python 3",
      "language": "python",
      "name": "python3"
    },
    "language_info": {
      "codemirror_mode": {
        "name": "ipython",
        "version": 2
      },
      "file_extension": ".py",
      "mimetype": "text/x-python",
      "name": "python",
      "nbconvert_exporter": "python",
      "pygments_lexer": "ipython2",
      "version": "2.7.6"
    }
  },
  "nbformat": 4,
  "nbformat_minor": 5
}