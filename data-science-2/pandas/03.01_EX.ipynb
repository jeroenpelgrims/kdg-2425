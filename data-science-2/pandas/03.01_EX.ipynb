{
  "cells": [
    {
      "metadata": {},
      "cell_type": "markdown",
      "source": "For this exercise we create following simple series:",
      "id": "c8889a2c03c83ed8"
    },
    {
      "cell_type": "code",
      "id": "initial_id",
      "metadata": {
        "collapsed": true,
        "ExecuteTime": {
          "end_time": "2025-02-04T10:44:57.950597Z",
          "start_time": "2025-02-04T10:44:57.942812Z"
        }
      },
      "source": [
        "import numpy as np\n",
        "import pandas as pd\n",
        "s_a = pd.Series([1, 2, 3, 4], index=['a', 'b', 'c', 'd'])\n",
        "s_a2 = pd.Series([\"one\", \"two\", \"three\", \"four\"], index=['a', 'b', 'c', 'd'])\n",
        "s_a3 = pd.Series([\"one\", \"two\", \"three\", \"four\"], index=['d', 'c', 'b', 'a'])"
      ],
      "outputs": [],
      "execution_count": 13
    },
    {
      "cell_type": "markdown",
      "source": [
        "## 1. Series basics\n",
        "a. print the values of s_a\\\n",
        "b. print the index of s_a\\\n",
        "c. print the data type of s_a\\\n",
        "d. print the shape of s_a\\\n",
        "e. print the number of dimensions of s_a\\\n",
        "f. print the size of s_a\\\n",
        "g. print the memory usage of s_a\\\n"
      ],
      "metadata": {
        "collapsed": false
      },
      "id": "a8f982f2eeccae3a"
    },
    {
      "cell_type": "code",
      "source": [
        "#\n"
      ],
      "metadata": {
        "collapsed": false,
        "ExecuteTime": {
          "end_time": "2025-02-04T10:44:37.422960Z",
          "start_time": "2025-02-04T10:44:37.412756Z"
        }
      },
      "id": "7bd051dc74d4cbd9",
      "outputs": [],
      "execution_count": 10
    },
    {
      "cell_type": "markdown",
      "source": [
        "## 2. Creating Series\n",
        "a. create a Series s_b with the same values as s_a but with an index of [1,2,3,4].\\\n",
        "b. create a Series s_c with the same values as s_b, but with a data type of int8 instead of int64. Check the difference in memory usage between s_b and s_c.\\\n",
        "c. create a Series s_d with the same values as s_b, but use np.arange() to define the index. The range should start at 1 and end at the number of elements in s_d.\\\n",
        "d. create a Series s_e with the same values, but use a dictionary to define the Series.\\\n",
        "e. create a Series s_f with the index the numbers written out as strings (e.g. 'one', 'two', 'three', 'four')."
      ],
      "metadata": {
        "collapsed": false
      },
      "id": "9eea872d89197627"
    },
    {
      "cell_type": "code",
      "source": [],
      "metadata": {
        "collapsed": false,
        "ExecuteTime": {
          "end_time": "2025-02-04T10:44:37.974138Z",
          "start_time": "2025-02-04T10:44:37.942932Z"
        }
      },
      "id": "868cef7de0d2f13e",
      "outputs": [],
      "execution_count": 11
    },
    {
      "cell_type": "markdown",
      "source": [
        "### 3. Dataframes basics and creation\n",
        "a. create a DataFrame df_a with the values of s_a and s_b as columns.\\\n",
        "b. Look at the creation of s_a2 and s_a3 in the first cell. You are going to create a DataFrame df_b with the values of s_a2 and s_a3 as columns. Before doing that, try to predict how the dataframe will look like. Then create the DataFrame. Did you expect this result? Can you explain why the values are not aligned?\n",
        "c. create a Dataframe df_c based on a two-dimensional numpy array created with np.arange().\\\n",
        "d. create a Dataframe df_d like df_c. The index should be ['a', 'b', 'c'] and the columns should be ['x', 'y', 'z', 'w'].\\\n",
        "e.  Try to change te first indexvalue of df_c. What happens? Can you explain why this happens?"
      ],
      "metadata": {
        "collapsed": false
      },
      "id": "d0d4019ad65acd93"
    },
    {
      "cell_type": "code",
      "source": [],
      "metadata": {
        "collapsed": false,
        "ExecuteTime": {
          "end_time": "2025-02-04T10:45:02.285158Z",
          "start_time": "2025-02-04T10:45:02.241067Z"
        }
      },
      "id": "7c5010a0ca9ac9db",
      "outputs": [],
      "execution_count": 14
    },
    {
      "cell_type": "markdown",
      "source": [],
      "metadata": {
        "collapsed": false
      },
      "id": "ab4314addde323a5"
    }
  ],
  "metadata": {
    "kernelspec": {
      "display_name": "Python 3",
      "language": "python",
      "name": "python3"
    },
    "language_info": {
      "codemirror_mode": {
        "name": "ipython",
        "version": 2
      },
      "file_extension": ".py",
      "mimetype": "text/x-python",
      "name": "python",
      "nbconvert_exporter": "python",
      "pygments_lexer": "ipython2",
      "version": "2.7.6"
    }
  },
  "nbformat": 4,
  "nbformat_minor": 5
}