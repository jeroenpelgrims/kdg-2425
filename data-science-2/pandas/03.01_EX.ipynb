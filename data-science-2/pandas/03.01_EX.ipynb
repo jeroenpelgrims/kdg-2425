{
  "cells": [
    {
      "cell_type": "markdown",
      "id": "c8889a2c03c83ed8",
      "metadata": {},
      "source": [
        "For this exercise we create following simple series:"
      ]
    },
    {
      "cell_type": "code",
      "execution_count": 2,
      "id": "initial_id",
      "metadata": {
        "ExecuteTime": {
          "end_time": "2025-02-04T10:44:57.950597Z",
          "start_time": "2025-02-04T10:44:57.942812Z"
        },
        "collapsed": true
      },
      "outputs": [],
      "source": [
        "import numpy as np\n",
        "import pandas as pd\n",
        "s_a = pd.Series([1, 2, 3, 4], index=['a', 'b', 'c', 'd'])\n",
        "s_a2 = pd.Series([\"one\", \"two\", \"three\", \"four\"], index=['a', 'b', 'c', 'd'])\n",
        "s_a3 = pd.Series([\"one\", \"two\", \"three\", \"four\"], index=['d', 'c', 'b', 'a'])"
      ]
    },
    {
      "cell_type": "markdown",
      "id": "a8f982f2eeccae3a",
      "metadata": {
        "collapsed": false
      },
      "source": [
        "## 1. Series basics\n",
        "a. print the values of s_a\\\n",
        "b. print the index of s_a\\\n",
        "c. print the data type of s_a\\\n",
        "d. print the shape of s_a\\\n",
        "e. print the number of dimensions of s_a\\\n",
        "f. print the size of s_a\\\n",
        "g. print the memory usage of s_a\\\n"
      ]
    },
    {
      "cell_type": "code",
      "execution_count": 6,
      "id": "7bd051dc74d4cbd9",
      "metadata": {
        "ExecuteTime": {
          "end_time": "2025-02-04T10:44:37.422960Z",
          "start_time": "2025-02-04T10:44:37.412756Z"
        },
        "collapsed": false
      },
      "outputs": [
        {
          "name": "stdout",
          "output_type": "stream",
          "text": [
            "[1 2 3 4]\n",
            "Index(['a', 'b', 'c', 'd'], dtype='object')\n",
            "int64\n",
            "(4,)\n",
            "1\n",
            "4\n",
            "64\n"
          ]
        }
      ],
      "source": [
        "# \n",
        "print(s_a.values)\n",
        "print(s_a.index)\n",
        "print(s_a.dtype)\n",
        "print(s_a.shape)\n",
        "print(s_a.ndim)\n",
        "print(s_a.size)\n",
        "print(s_a.memory_usage())\n"
      ]
    },
    {
      "cell_type": "markdown",
      "id": "9eea872d89197627",
      "metadata": {
        "collapsed": false
      },
      "source": [
        "## 2. Creating Series\n",
        "a. create a Series s_b with the same values as s_a but with an index of [1,2,3,4].\\\n",
        "b. create a Series s_c with the same values as s_b, but with a data type of int8 instead of int64. Check the difference in memory usage between s_b and s_c.\\\n",
        "c. create a Series s_d with the same values as s_b, but use np.arange() to define the index. The range should start at 1 and end at the number of elements in s_d.\\\n",
        "d. create a Series s_e with the same values, but use a dictionary to define the Series.\\\n",
        "e. create a Series s_f with the index the numbers written out as strings (e.g. 'one', 'two', 'three', 'four')."
      ]
    },
    {
      "cell_type": "code",
      "execution_count": 27,
      "id": "868cef7de0d2f13e",
      "metadata": {
        "ExecuteTime": {
          "end_time": "2025-02-04T10:44:37.974138Z",
          "start_time": "2025-02-04T10:44:37.942932Z"
        },
        "collapsed": false
      },
      "outputs": [
        {
          "name": "stdout",
          "output_type": "stream",
          "text": [
            "1    1\n",
            "2    2\n",
            "3    3\n",
            "4    4\n",
            "dtype: int64\n",
            "1    1\n",
            "2    2\n",
            "3    3\n",
            "4    4\n",
            "dtype: int8\n",
            "64 8\n",
            "1    1\n",
            "2    2\n",
            "3    3\n",
            "4    4\n",
            "dtype: int64\n",
            "1    1\n",
            "2    2\n",
            "3    3\n",
            "4    4\n",
            "dtype: int64\n",
            "one      1\n",
            "two      2\n",
            "three    3\n",
            "four     4\n",
            "dtype: int64\n"
          ]
        }
      ],
      "source": [
        "# a\n",
        "s_b = pd.Series(s_a.values, index=[1,2,3,4])\n",
        "print(s_b)\n",
        "\n",
        "# b\n",
        "s_c = pd.Series(s_b.values, dtype='int8', index=pd.Index([1,2,3,4], dtype='int8'))\n",
        "print(s_c)\n",
        "print(s_b.memory_usage(), s_c.memory_usage())\n",
        "\n",
        "# c\n",
        "s_d = pd.Series(s_b.values, index=np.arange(1, s_b.size + 1))\n",
        "print(s_d)\n",
        "\n",
        "# d\n",
        "s_e = pd.Series({ x: x for x in range(1, 5) })\n",
        "print(s_e)\n",
        "\n",
        "# e\n",
        "s_f = pd.Series({ 'one': 1, 'two': 2, 'three': 3, 'four': 4 })\n",
        "print(s_f)"
      ]
    },
    {
      "cell_type": "markdown",
      "id": "d0d4019ad65acd93",
      "metadata": {
        "collapsed": false
      },
      "source": [
        "### 3. Dataframes basics and creation\n",
        "a. create a DataFrame df_a with the values of s_a and s_b as columns.\\\n",
        "b. Look at the creation of s_a2 and s_a3 in the first cell. You are going to create a DataFrame df_b with the values of s_a2 and s_a3 as columns. Before doing that, try to predict how the dataframe will look like. Then create the DataFrame. Did you expect this result? Can you explain why the values are not aligned? \\\n",
        "c. create a Dataframe df_c based on a two-dimensional numpy array created with np.arange().\\\n",
        "d. create a Dataframe df_d like df_c. The index should be ['a', 'b', 'c'] and the columns should be ['x', 'y', 'z', 'w'].\\\n",
        "e.  Try to change te first indexvalue of df_c. What happens? Can you explain why this happens?"
      ]
    },
    {
      "cell_type": "code",
      "execution_count": 43,
      "id": "7c5010a0ca9ac9db",
      "metadata": {
        "ExecuteTime": {
          "end_time": "2025-02-04T10:45:02.285158Z",
          "start_time": "2025-02-04T10:45:02.241067Z"
        },
        "collapsed": false
      },
      "outputs": [
        {
          "name": "stdout",
          "output_type": "stream",
          "text": [
            "a    1\n",
            "b    2\n",
            "c    3\n",
            "d    4\n",
            "dtype: int64\n",
            "1    1\n",
            "2    2\n",
            "3    3\n",
            "4    4\n",
            "dtype: int64\n",
            "   s_a    s_b\n",
            "a    1    one\n",
            "b    2    two\n",
            "c    3  three\n",
            "d    4   four\n",
            "    s_a2   s_a3\n",
            "a    one   four\n",
            "b    two  three\n",
            "c  three    two\n",
            "d   four    one\n",
            "   0  1   2   3\n",
            "0  0  1   2   3\n",
            "1  4  5   6   7\n",
            "2  8  9  10  11\n",
            "   x  y   z   w\n",
            "a  0  1   2   3\n",
            "b  4  5   6   7\n",
            "c  8  9  10  11\n"
          ]
        }
      ],
      "source": [
        "print(s_a)\n",
        "print(s_b)\n",
        "\n",
        "# a\n",
        "df_a = pd.DataFrame({ 's_a': s_a, 's_b': s_a2 })\n",
        "print(df_a)\n",
        "\n",
        "# b\n",
        "df_b = pd.DataFrame({ 's_a2': s_a2, 's_a3': s_a3 })\n",
        "print(df_b)\n",
        "\n",
        "# c\n",
        "df_c = pd.DataFrame(np.arange(12).reshape((3, 4)))\n",
        "print(df_c)\n",
        "\n",
        "# d\n",
        "df_d = pd.DataFrame(np.arange(12).reshape((3, 4)), index=['a', 'b', 'c'], columns=['x', 'y', 'z', 'w'])\n",
        "print(df_d)\n",
        "\n",
        "# e\n",
        "# pd.Index = immutable"
      ]
    },
    {
      "cell_type": "markdown",
      "id": "ab4314addde323a5",
      "metadata": {
        "collapsed": false
      },
      "source": []
    }
  ],
  "metadata": {
    "kernelspec": {
      "display_name": ".venv",
      "language": "python",
      "name": "python3"
    },
    "language_info": {
      "codemirror_mode": {
        "name": "ipython",
        "version": 3
      },
      "file_extension": ".py",
      "mimetype": "text/x-python",
      "name": "python",
      "nbconvert_exporter": "python",
      "pygments_lexer": "ipython3",
      "version": "3.12.7"
    }
  },
  "nbformat": 4,
  "nbformat_minor": 5
}
