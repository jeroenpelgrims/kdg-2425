{
  "cells": [
    {
      "cell_type": "code",
      "execution_count": 1,
      "id": "initial_id",
      "metadata": {
        "ExecuteTime": {
          "end_time": "2025-02-04T10:54:52.003975Z",
          "start_time": "2025-02-04T10:54:47.212334Z"
        },
        "collapsed": true
      },
      "outputs": [],
      "source": [
        "import numpy as np\n",
        "import pandas as pd\n",
        "import sklearn.datasets as ds\n",
        "\n",
        "#Data preperation\n",
        "iris_bunch = ds.load_iris(as_frame=True)\n",
        "iris = pd.DataFrame(iris_bunch.data.to_numpy(), index=np.arange(1, 151), columns=iris_bunch.data.columns)\n",
        "iris_sepal_length = iris['sepal length (cm)']\n",
        "iris_sepal_length_b = pd.Series(iris['sepal length (cm)'], index=np.arange(1, 151))\n",
        "# create a dataframe with the countries of europe as the index, with a column population and gbp\n",
        "countries = ['France', 'Germany', 'Italy', 'Spain', 'Portugal', 'Greece', 'Belgium', 'Netherlands', 'Luxembourg', 'Austria', 'Switzerland', 'Denmark', 'Sweden', 'Norway', 'Finland', 'Iceland', 'Ireland', 'United Kingdom']\n",
        "population = [67, 83, 60, 47, 10, 11, 11, 17, 0.6, 9, 8, 6, 10, 5, 5, 0.3, 5, 67]\n",
        "GDP = [2.78, 4.42, 2.08, 1.39, 0.23, 0.18, 0.53, 0.91, 0.06, 0.45, 0.70, 0.35, 0.53, 0.40, 0.27, 0.02, 0.33, 2.83]\n",
        "europe = pd.DataFrame({'population': population, 'GDP': GDP}, index=countries)\n",
        "europe.sort_index(inplace=True)"
      ]
    },
    {
      "cell_type": "markdown",
      "id": "f880b1c5f98431c2",
      "metadata": {
        "collapsed": false
      },
      "source": [
        "# Selection slicing and dicing\n",
        "### Series objects\n",
        "\n"
      ]
    },
    {
      "cell_type": "markdown",
      "id": "5a4b3fd9d39045c6",
      "metadata": {
        "collapsed": false
      },
      "source": [
        "\n",
        "The iris dataframe is a 150x4 dataframe with properties of iris flowers (To find out more of the dataset visit the dedicated [wikipedia](https://en.wikipedia.org/wiki/Iris_flower_data_set]) page. In the cel above, we also extracted one column of the dataframe.\n",
        "\n",
        "```\n",
        "iris = pd.DataFrame(iris, index=np.arange(1, 151)) #creates a dataframe with an explicit index from 1 to 150\n",
        "iris_sepal_length = iris['sepal length (cm)'] #creates a series with the sepal length of the flowers\n",
        "```\n",
        "a. Excecute iris_sepal_length[0]. What do you get? Why?\\\n",
        "b. Execute iris_sepal_length[1]. What do you get? Why?\\\n",
        "c. Execute iris_sepal_length[1:3]. What do you get? Why?"
      ]
    },
    {
      "cell_type": "code",
      "execution_count": 6,
      "id": "59d10586741af830",
      "metadata": {
        "ExecuteTime": {
          "end_time": "2025-02-04T10:54:52.033402Z",
          "start_time": "2025-02-04T10:54:52.015982Z"
        },
        "collapsed": false
      },
      "outputs": [
        {
          "data": {
            "text/plain": [
              "2    4.9\n",
              "3    4.7\n",
              "Name: sepal length (cm), dtype: float64"
            ]
          },
          "execution_count": 6,
          "metadata": {},
          "output_type": "execute_result"
        }
      ],
      "source": [
        "# a\n",
        "# iris_sepal_length[0]\n",
        "\n",
        "# b\n",
        "iris_sepal_length[1]\n",
        "\n",
        "# c\n",
        "iris_sepal_length[1:3]"
      ]
    },
    {
      "cell_type": "markdown",
      "id": "8d8eb55418075815",
      "metadata": {
        "collapsed": false
      },
      "source": [
        "Because of the confusion the explicit index can cause with the bracket notation, it is better to use the loc and iloc attributes. You are always sure of what you are getting.\n",
        "\n",
        "d. Use the explicit index to get the first row\\\n",
        "e. Use the implicit index to get the first row\\\n",
        "f. Use the explicit index to get the first 10 rows\\\n",
        "g. Use the implicit index to get the first 10 rows"
      ]
    },
    {
      "cell_type": "code",
      "execution_count": 11,
      "id": "2b09001a55b1f4d6",
      "metadata": {
        "ExecuteTime": {
          "end_time": "2025-02-04T10:56:07.831250Z",
          "start_time": "2025-02-04T10:56:07.823243Z"
        },
        "collapsed": false
      },
      "outputs": [
        {
          "data": {
            "text/plain": [
              "1     5.1\n",
              "2     4.9\n",
              "3     4.7\n",
              "4     4.6\n",
              "5     5.0\n",
              "6     5.4\n",
              "7     4.6\n",
              "8     5.0\n",
              "9     4.4\n",
              "10    4.9\n",
              "Name: sepal length (cm), dtype: float64"
            ]
          },
          "execution_count": 11,
          "metadata": {},
          "output_type": "execute_result"
        }
      ],
      "source": [
        "# d\n",
        "iris_sepal_length.loc[1]\n",
        "\n",
        "# e\n",
        "iris_sepal_length.iloc[0]\n",
        "\n",
        "# f\n",
        "iris_sepal_length.loc[:10]\n",
        "\n",
        "# f\n",
        "iris_sepal_length.iloc[:10]"
      ]
    },
    {
      "cell_type": "markdown",
      "id": "efbe793422e7cd6a",
      "metadata": {
        "collapsed": false
      },
      "source": [
        "### DataFrame objects\n",
        "In the first dataset we created a dataframe with the countries of Europe as the index, with a column population and gbp.\n",
        "\n",
        "a. Print the europe dataframe. What is the index of the dataframe? Wich columns does it have?\\\n",
        "b. From the europe dataframe, get the data for France using the loc attribute\\\n",
        "c. From the europe dataframe, get the population for all countries. Try do to this using 4 different ways to select data."
      ]
    },
    {
      "cell_type": "code",
      "execution_count": 20,
      "id": "f9960b55c6dc2cec",
      "metadata": {
        "ExecuteTime": {
          "end_time": "2025-02-04T10:54:52.665797Z",
          "start_time": "2025-02-04T10:54:52.621446Z"
        },
        "collapsed": false
      },
      "outputs": [
        {
          "name": "stdout",
          "output_type": "stream",
          "text": [
            "                population   GDP\n",
            "Austria                9.0  0.45\n",
            "Belgium               11.0  0.53\n",
            "Denmark                6.0  0.35\n",
            "Finland                5.0  0.27\n",
            "France                67.0  2.78\n",
            "Germany               83.0  4.42\n",
            "Greece                11.0  0.18\n",
            "Iceland                0.3  0.02\n",
            "Ireland                5.0  0.33\n",
            "Italy                 60.0  2.08\n",
            "Luxembourg             0.6  0.06\n",
            "Netherlands           17.0  0.91\n",
            "Norway                 5.0  0.40\n",
            "Portugal              10.0  0.23\n",
            "Spain                 47.0  1.39\n",
            "Sweden                10.0  0.53\n",
            "Switzerland            8.0  0.70\n",
            "United Kingdom        67.0  2.83\n",
            "population    67.00\n",
            "GDP            2.78\n",
            "Name: France, dtype: float64\n"
          ]
        },
        {
          "data": {
            "text/plain": [
              "Austria            9.0\n",
              "Belgium           11.0\n",
              "Denmark            6.0\n",
              "Finland            5.0\n",
              "France            67.0\n",
              "Germany           83.0\n",
              "Greece            11.0\n",
              "Iceland            0.3\n",
              "Ireland            5.0\n",
              "Italy             60.0\n",
              "Luxembourg         0.6\n",
              "Netherlands       17.0\n",
              "Norway             5.0\n",
              "Portugal          10.0\n",
              "Spain             47.0\n",
              "Sweden            10.0\n",
              "Switzerland        8.0\n",
              "United Kingdom    67.0\n",
              "Name: population, dtype: float64"
            ]
          },
          "execution_count": 20,
          "metadata": {},
          "output_type": "execute_result"
        }
      ],
      "source": [
        "# a\n",
        "print(europe)\n",
        "\n",
        "# b\n",
        "print(europe.loc['France'])\n",
        "\n",
        "# c\n",
        "europe['population']\n",
        "europe.loc[:,'population']\n",
        "europe.iloc[:,0]"
      ]
    },
    {
      "cell_type": "markdown",
      "id": "2a16befbdd80def6",
      "metadata": {
        "collapsed": false
      },
      "source": []
    },
    {
      "cell_type": "markdown",
      "id": "f04c5fbee0c7334d",
      "metadata": {
        "collapsed": false
      },
      "source": [
        "d. Try to get an insight in the data. Print the iris dataframe. Use the functions describe() and info() to get a summary of the data.\\\n",
        " __From now on, you are always supposed to use these functions to get an insight in the data. Investigate every dataframe you use and is unfamiliar with these three steps.__\\\n",
        "e. Get the last 10 rows of the iris dataframe. Choose correctly between using the explicit and implicit index.\\\n",
        "f. Get the rows with the dataframe indexvalues from 100 to and including 110."
      ]
    },
    {
      "cell_type": "code",
      "execution_count": 27,
      "id": "afa8e7de58b2f7f1",
      "metadata": {
        "ExecuteTime": {
          "end_time": "2025-02-04T11:00:51.106813Z",
          "start_time": "2025-02-04T11:00:51.011153Z"
        },
        "collapsed": false
      },
      "outputs": [
        {
          "name": "stdout",
          "output_type": "stream",
          "text": [
            "     sepal length (cm)  sepal width (cm)  petal length (cm)  petal width (cm)\n",
            "1                  5.1               3.5                1.4               0.2\n",
            "2                  4.9               3.0                1.4               0.2\n",
            "3                  4.7               3.2                1.3               0.2\n",
            "4                  4.6               3.1                1.5               0.2\n",
            "5                  5.0               3.6                1.4               0.2\n",
            "..                 ...               ...                ...               ...\n",
            "146                6.7               3.0                5.2               2.3\n",
            "147                6.3               2.5                5.0               1.9\n",
            "148                6.5               3.0                5.2               2.0\n",
            "149                6.2               3.4                5.4               2.3\n",
            "150                5.9               3.0                5.1               1.8\n",
            "\n",
            "[150 rows x 4 columns]\n",
            "       sepal length (cm)  sepal width (cm)  petal length (cm)  \\\n",
            "count         150.000000        150.000000         150.000000   \n",
            "mean            5.843333          3.057333           3.758000   \n",
            "std             0.828066          0.435866           1.765298   \n",
            "min             4.300000          2.000000           1.000000   \n",
            "25%             5.100000          2.800000           1.600000   \n",
            "50%             5.800000          3.000000           4.350000   \n",
            "75%             6.400000          3.300000           5.100000   \n",
            "max             7.900000          4.400000           6.900000   \n",
            "\n",
            "       petal width (cm)  \n",
            "count        150.000000  \n",
            "mean           1.199333  \n",
            "std            0.762238  \n",
            "min            0.100000  \n",
            "25%            0.300000  \n",
            "50%            1.300000  \n",
            "75%            1.800000  \n",
            "max            2.500000  \n",
            "<class 'pandas.core.frame.DataFrame'>\n",
            "Index: 150 entries, 1 to 150\n",
            "Data columns (total 4 columns):\n",
            " #   Column             Non-Null Count  Dtype  \n",
            "---  ------             --------------  -----  \n",
            " 0   sepal length (cm)  150 non-null    float64\n",
            " 1   sepal width (cm)   150 non-null    float64\n",
            " 2   petal length (cm)  150 non-null    float64\n",
            " 3   petal width (cm)   150 non-null    float64\n",
            "dtypes: float64(4)\n",
            "memory usage: 9.9 KB\n",
            "None\n"
          ]
        }
      ],
      "source": [
        "# d\n",
        "print(iris)\n",
        "print(iris.describe())\n",
        "print(iris.info())"
      ]
    },
    {
      "cell_type": "code",
      "execution_count": 31,
      "id": "fe6971b336ee5569",
      "metadata": {},
      "outputs": [
        {
          "data": {
            "text/html": [
              "<div>\n",
              "<style scoped>\n",
              "    .dataframe tbody tr th:only-of-type {\n",
              "        vertical-align: middle;\n",
              "    }\n",
              "\n",
              "    .dataframe tbody tr th {\n",
              "        vertical-align: top;\n",
              "    }\n",
              "\n",
              "    .dataframe thead th {\n",
              "        text-align: right;\n",
              "    }\n",
              "</style>\n",
              "<table border=\"1\" class=\"dataframe\">\n",
              "  <thead>\n",
              "    <tr style=\"text-align: right;\">\n",
              "      <th></th>\n",
              "      <th>sepal length (cm)</th>\n",
              "      <th>sepal width (cm)</th>\n",
              "      <th>petal length (cm)</th>\n",
              "      <th>petal width (cm)</th>\n",
              "    </tr>\n",
              "  </thead>\n",
              "  <tbody>\n",
              "    <tr>\n",
              "      <th>141</th>\n",
              "      <td>6.7</td>\n",
              "      <td>3.1</td>\n",
              "      <td>5.6</td>\n",
              "      <td>2.4</td>\n",
              "    </tr>\n",
              "    <tr>\n",
              "      <th>142</th>\n",
              "      <td>6.9</td>\n",
              "      <td>3.1</td>\n",
              "      <td>5.1</td>\n",
              "      <td>2.3</td>\n",
              "    </tr>\n",
              "    <tr>\n",
              "      <th>143</th>\n",
              "      <td>5.8</td>\n",
              "      <td>2.7</td>\n",
              "      <td>5.1</td>\n",
              "      <td>1.9</td>\n",
              "    </tr>\n",
              "    <tr>\n",
              "      <th>144</th>\n",
              "      <td>6.8</td>\n",
              "      <td>3.2</td>\n",
              "      <td>5.9</td>\n",
              "      <td>2.3</td>\n",
              "    </tr>\n",
              "    <tr>\n",
              "      <th>145</th>\n",
              "      <td>6.7</td>\n",
              "      <td>3.3</td>\n",
              "      <td>5.7</td>\n",
              "      <td>2.5</td>\n",
              "    </tr>\n",
              "    <tr>\n",
              "      <th>146</th>\n",
              "      <td>6.7</td>\n",
              "      <td>3.0</td>\n",
              "      <td>5.2</td>\n",
              "      <td>2.3</td>\n",
              "    </tr>\n",
              "    <tr>\n",
              "      <th>147</th>\n",
              "      <td>6.3</td>\n",
              "      <td>2.5</td>\n",
              "      <td>5.0</td>\n",
              "      <td>1.9</td>\n",
              "    </tr>\n",
              "    <tr>\n",
              "      <th>148</th>\n",
              "      <td>6.5</td>\n",
              "      <td>3.0</td>\n",
              "      <td>5.2</td>\n",
              "      <td>2.0</td>\n",
              "    </tr>\n",
              "    <tr>\n",
              "      <th>149</th>\n",
              "      <td>6.2</td>\n",
              "      <td>3.4</td>\n",
              "      <td>5.4</td>\n",
              "      <td>2.3</td>\n",
              "    </tr>\n",
              "    <tr>\n",
              "      <th>150</th>\n",
              "      <td>5.9</td>\n",
              "      <td>3.0</td>\n",
              "      <td>5.1</td>\n",
              "      <td>1.8</td>\n",
              "    </tr>\n",
              "  </tbody>\n",
              "</table>\n",
              "</div>"
            ],
            "text/plain": [
              "     sepal length (cm)  sepal width (cm)  petal length (cm)  petal width (cm)\n",
              "141                6.7               3.1                5.6               2.4\n",
              "142                6.9               3.1                5.1               2.3\n",
              "143                5.8               2.7                5.1               1.9\n",
              "144                6.8               3.2                5.9               2.3\n",
              "145                6.7               3.3                5.7               2.5\n",
              "146                6.7               3.0                5.2               2.3\n",
              "147                6.3               2.5                5.0               1.9\n",
              "148                6.5               3.0                5.2               2.0\n",
              "149                6.2               3.4                5.4               2.3\n",
              "150                5.9               3.0                5.1               1.8"
            ]
          },
          "execution_count": 31,
          "metadata": {},
          "output_type": "execute_result"
        }
      ],
      "source": [
        "# e\n",
        "iris.iloc[-10:]"
      ]
    },
    {
      "cell_type": "code",
      "execution_count": 32,
      "id": "c4d1ef3f",
      "metadata": {},
      "outputs": [
        {
          "data": {
            "text/html": [
              "<div>\n",
              "<style scoped>\n",
              "    .dataframe tbody tr th:only-of-type {\n",
              "        vertical-align: middle;\n",
              "    }\n",
              "\n",
              "    .dataframe tbody tr th {\n",
              "        vertical-align: top;\n",
              "    }\n",
              "\n",
              "    .dataframe thead th {\n",
              "        text-align: right;\n",
              "    }\n",
              "</style>\n",
              "<table border=\"1\" class=\"dataframe\">\n",
              "  <thead>\n",
              "    <tr style=\"text-align: right;\">\n",
              "      <th></th>\n",
              "      <th>sepal length (cm)</th>\n",
              "      <th>sepal width (cm)</th>\n",
              "      <th>petal length (cm)</th>\n",
              "      <th>petal width (cm)</th>\n",
              "    </tr>\n",
              "  </thead>\n",
              "  <tbody>\n",
              "    <tr>\n",
              "      <th>101</th>\n",
              "      <td>6.3</td>\n",
              "      <td>3.3</td>\n",
              "      <td>6.0</td>\n",
              "      <td>2.5</td>\n",
              "    </tr>\n",
              "    <tr>\n",
              "      <th>102</th>\n",
              "      <td>5.8</td>\n",
              "      <td>2.7</td>\n",
              "      <td>5.1</td>\n",
              "      <td>1.9</td>\n",
              "    </tr>\n",
              "    <tr>\n",
              "      <th>103</th>\n",
              "      <td>7.1</td>\n",
              "      <td>3.0</td>\n",
              "      <td>5.9</td>\n",
              "      <td>2.1</td>\n",
              "    </tr>\n",
              "    <tr>\n",
              "      <th>104</th>\n",
              "      <td>6.3</td>\n",
              "      <td>2.9</td>\n",
              "      <td>5.6</td>\n",
              "      <td>1.8</td>\n",
              "    </tr>\n",
              "    <tr>\n",
              "      <th>105</th>\n",
              "      <td>6.5</td>\n",
              "      <td>3.0</td>\n",
              "      <td>5.8</td>\n",
              "      <td>2.2</td>\n",
              "    </tr>\n",
              "    <tr>\n",
              "      <th>106</th>\n",
              "      <td>7.6</td>\n",
              "      <td>3.0</td>\n",
              "      <td>6.6</td>\n",
              "      <td>2.1</td>\n",
              "    </tr>\n",
              "    <tr>\n",
              "      <th>107</th>\n",
              "      <td>4.9</td>\n",
              "      <td>2.5</td>\n",
              "      <td>4.5</td>\n",
              "      <td>1.7</td>\n",
              "    </tr>\n",
              "    <tr>\n",
              "      <th>108</th>\n",
              "      <td>7.3</td>\n",
              "      <td>2.9</td>\n",
              "      <td>6.3</td>\n",
              "      <td>1.8</td>\n",
              "    </tr>\n",
              "    <tr>\n",
              "      <th>109</th>\n",
              "      <td>6.7</td>\n",
              "      <td>2.5</td>\n",
              "      <td>5.8</td>\n",
              "      <td>1.8</td>\n",
              "    </tr>\n",
              "    <tr>\n",
              "      <th>110</th>\n",
              "      <td>7.2</td>\n",
              "      <td>3.6</td>\n",
              "      <td>6.1</td>\n",
              "      <td>2.5</td>\n",
              "    </tr>\n",
              "    <tr>\n",
              "      <th>111</th>\n",
              "      <td>6.5</td>\n",
              "      <td>3.2</td>\n",
              "      <td>5.1</td>\n",
              "      <td>2.0</td>\n",
              "    </tr>\n",
              "  </tbody>\n",
              "</table>\n",
              "</div>"
            ],
            "text/plain": [
              "     sepal length (cm)  sepal width (cm)  petal length (cm)  petal width (cm)\n",
              "101                6.3               3.3                6.0               2.5\n",
              "102                5.8               2.7                5.1               1.9\n",
              "103                7.1               3.0                5.9               2.1\n",
              "104                6.3               2.9                5.6               1.8\n",
              "105                6.5               3.0                5.8               2.2\n",
              "106                7.6               3.0                6.6               2.1\n",
              "107                4.9               2.5                4.5               1.7\n",
              "108                7.3               2.9                6.3               1.8\n",
              "109                6.7               2.5                5.8               1.8\n",
              "110                7.2               3.6                6.1               2.5\n",
              "111                6.5               3.2                5.1               2.0"
            ]
          },
          "execution_count": 32,
          "metadata": {},
          "output_type": "execute_result"
        }
      ],
      "source": [
        "# f\n",
        "iris.iloc[100:111]"
      ]
    }
  ],
  "metadata": {
    "kernelspec": {
      "display_name": ".venv",
      "language": "python",
      "name": "python3"
    },
    "language_info": {
      "codemirror_mode": {
        "name": "ipython",
        "version": 3
      },
      "file_extension": ".py",
      "mimetype": "text/x-python",
      "name": "python",
      "nbconvert_exporter": "python",
      "pygments_lexer": "ipython3",
      "version": "3.12.7"
    }
  },
  "nbformat": 4,
  "nbformat_minor": 5
}
