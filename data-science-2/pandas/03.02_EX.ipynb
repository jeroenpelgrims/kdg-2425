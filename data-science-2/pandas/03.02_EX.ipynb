{
  "cells": [
    {
      "cell_type": "code",
      "id": "initial_id",
      "metadata": {
        "collapsed": true,
        "ExecuteTime": {
          "end_time": "2025-02-04T10:54:52.003975Z",
          "start_time": "2025-02-04T10:54:47.212334Z"
        }
      },
      "source": [
        "import numpy as np\n",
        "import pandas as pd\n",
        "import sklearn.datasets as ds\n",
        "\n",
        "#Data preperation\n",
        "iris_bunch = ds.load_iris(as_frame=True)\n",
        "iris = pd.DataFrame(iris_bunch.data.to_numpy(), index=np.arange(1, 151), columns=iris_bunch.data.columns)\n",
        "iris_sepal_length = iris['sepal length (cm)']\n",
        "iris_sepal_length_b = pd.Series(iris['sepal length (cm)'], index=np.arange(1, 151))\n",
        "# create a dataframe with the countries of europe as the index, with a column population and gbp\n",
        "countries = ['France', 'Germany', 'Italy', 'Spain', 'Portugal', 'Greece', 'Belgium', 'Netherlands', 'Luxembourg', 'Austria', 'Switzerland', 'Denmark', 'Sweden', 'Norway', 'Finland', 'Iceland', 'Ireland', 'United Kingdom']\n",
        "population = [67, 83, 60, 47, 10, 11, 11, 17, 0.6, 9, 8, 6, 10, 5, 5, 0.3, 5, 67]\n",
        "GDP = [2.78, 4.42, 2.08, 1.39, 0.23, 0.18, 0.53, 0.91, 0.06, 0.45, 0.70, 0.35, 0.53, 0.40, 0.27, 0.02, 0.33, 2.83]\n",
        "europe = pd.DataFrame({'population': population, 'GDP': GDP}, index=countries)\n",
        "europe.sort_index(inplace=True)"
      ],
      "outputs": [],
      "execution_count": 3
    },
    {
      "cell_type": "markdown",
      "source": [
        "# Selection slicing and dicing\n",
        "### Series objects\n",
        "\n"
      ],
      "metadata": {
        "collapsed": false
      },
      "id": "f880b1c5f98431c2"
    },
    {
      "cell_type": "markdown",
      "source": [
        "\n",
        "The iris dataframe is a 150x4 dataframe with properties of iris flowers (To find out more of the dataset visit the dedicated [wikipedia](https://en.wikipedia.org/wiki/Iris_flower_data_set]) page. In the cel above, we also extracted one column of the dataframe.\n",
        "\n",
        "```\n",
        "iris = pd.DataFrame(iris, index=np.arange(1, 151)) #creates a dataframe with an explicit index from 1 to 150\n",
        "iris_sepal_length = iris['sepal length (cm)'] #creates a series with the sepal length of the flowers\n",
        "```\n",
        "a. Excecute iris_sepal_length[0]. What do you get? Why?\\\n",
        "b. Execute iris_sepal_length[1]. What do you get? Why?\\\n",
        "c. Execute iris_sepal_length[1:3]. What do you get? Why?"
      ],
      "metadata": {
        "collapsed": false
      },
      "id": "5a4b3fd9d39045c6"
    },
    {
      "cell_type": "code",
      "source": [],
      "metadata": {
        "collapsed": false,
        "ExecuteTime": {
          "end_time": "2025-02-04T10:54:52.033402Z",
          "start_time": "2025-02-04T10:54:52.015982Z"
        }
      },
      "id": "59d10586741af830",
      "outputs": [],
      "execution_count": 4
    },
    {
      "cell_type": "markdown",
      "source": [
        "Because of the confusion the explicit index can cause with the bracket notation, it is better to use the loc and iloc attributes. You are always sure of what you are getting.\n",
        "\n",
        "d. Use the explicit index to get the first row\\\n",
        "e. Use the implicit index to get the first row\\\n",
        "f. Use the explicit index to get the first 10 rows\\\n",
        "g. Use the implicit index to get the first 10 rows"
      ],
      "metadata": {
        "collapsed": false
      },
      "id": "8d8eb55418075815"
    },
    {
      "cell_type": "code",
      "source": [],
      "metadata": {
        "collapsed": false,
        "ExecuteTime": {
          "end_time": "2025-02-04T10:56:07.831250Z",
          "start_time": "2025-02-04T10:56:07.823243Z"
        }
      },
      "id": "2b09001a55b1f4d6",
      "outputs": [],
      "execution_count": 8
    },
    {
      "cell_type": "markdown",
      "source": [
        "### DataFrame objects\n",
        "In the first dataset we created a dataframe with the countries of Europe as the index, with a column population and gbp.\n",
        "\n",
        "a. Print the europe dataframe. What is the index of the dataframe? Wich columns does it have?\\\n",
        "b. From the europe dataframe, get the data for France using the loc attribute\\\n",
        "c. From the europe dataframe, get the population for all countries. Try do to this using 4 different ways to select data."
      ],
      "metadata": {
        "collapsed": false
      },
      "id": "efbe793422e7cd6a"
    },
    {
      "cell_type": "code",
      "source": [],
      "metadata": {
        "collapsed": false,
        "ExecuteTime": {
          "end_time": "2025-02-04T10:54:52.665797Z",
          "start_time": "2025-02-04T10:54:52.621446Z"
        }
      },
      "id": "f9960b55c6dc2cec",
      "outputs": [],
      "execution_count": 6
    },
    {
      "cell_type": "markdown",
      "source": [],
      "metadata": {
        "collapsed": false
      },
      "id": "2a16befbdd80def6"
    },
    {
      "cell_type": "markdown",
      "source": [
        "d. Try to get an insight in the data. Print the iris dataframe. Use the functions describe() and info() to get a summary of the data.\\\n",
        " __From now on, you are always supposed to use these functions to get an insight in the data. Investigate every dataframe you use and is unfamiliar with these three steps.__\\\n",
        "e. Get the last 10 rows of the iris dataframe. Choose correctly between using the explicit and implicit index.\\\n",
        "f. Get the rows with the dataframe indexvalues from 100 to and including 110."
      ],
      "metadata": {
        "collapsed": false
      },
      "id": "f04c5fbee0c7334d"
    },
    {
      "cell_type": "code",
      "source": [],
      "metadata": {
        "collapsed": false,
        "ExecuteTime": {
          "end_time": "2025-02-04T11:00:51.106813Z",
          "start_time": "2025-02-04T11:00:51.011153Z"
        }
      },
      "id": "afa8e7de58b2f7f1",
      "outputs": [],
      "execution_count": 9
    },
    {
      "metadata": {},
      "cell_type": "code",
      "outputs": [],
      "execution_count": null,
      "source": [],
      "id": "fe6971b336ee5569"
    }
  ],
  "metadata": {
    "kernelspec": {
      "display_name": "Python 3",
      "language": "python",
      "name": "python3"
    },
    "language_info": {
      "codemirror_mode": {
        "name": "ipython",
        "version": 2
      },
      "file_extension": ".py",
      "mimetype": "text/x-python",
      "name": "python",
      "nbconvert_exporter": "python",
      "pygments_lexer": "ipython2",
      "version": "2.7.6"
    }
  },
  "nbformat": 4,
  "nbformat_minor": 5
}