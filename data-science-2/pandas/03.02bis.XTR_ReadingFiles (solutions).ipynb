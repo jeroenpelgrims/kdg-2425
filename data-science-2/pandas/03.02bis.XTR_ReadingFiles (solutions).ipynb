{
 "cells": [
  {
   "cell_type": "code",
   "outputs": [],
   "source": [
    "import pandas as pd"
   ],
   "metadata": {
    "collapsed": false,
    "ExecuteTime": {
     "end_time": "2024-10-04T08:31:51.799893600Z",
     "start_time": "2024-10-04T08:31:51.216728900Z"
    }
   },
   "id": "30b4e3417867625a",
   "execution_count": 3
  },
  {
   "cell_type": "markdown",
   "source": [
    "# Reading Data\n",
    "\n",
    "Very often you will need to read data from a file. In most cases, this will be a CSV file. A CSV file can be read and placed into a Pandas `DataFrame`. The first row of the file is usually used as a header. Pandas will automatically create column names based on the header, but you can also provide your own column names. You can also read data from other sources such as an SQL database, an Excel file, a JSON file, etc. For more information on reading data, see the [Pandas documentation](https://pandas.pydata.org/pandas-docs/stable/user_guide/io.html).\n",
    "\n",
    "## Reading CSV files and working with a dataframe\n",
    "### CSV File format\n",
    "Data in Data Science is often stored in files with the extension *.csv*. CSV stands for **Comma Separated Value**. This means that the values are separated by commas, and it is a standard that was established in the 1970s. That abbreviation has remained, but nowadays values can also be separated by other characters, such as a Tab or a semicolon (;). That character is also called the delimiter or the separator. In CSV files, strings are usually also placed between quotation marks, especially when they contain spaces (or the separator, for example), so it is clear where the string begins and ends within a CSV.\n",
    "\n",
    "Decimal numbers can be stored in two ways: with a decimal point or with a decimal comma. If you save a file in a Dutch-language Excel, you will see that a decimal comma is automatically used. In an English-language Excel, it will be a decimal point. Therefore, we recommend, only for this course, not to work with Excel.\n",
    "\n",
    "Before reading a *.csv* file, you should always first check in a text editor how it is stored. By which character are the values separated? What is the decimal notation? In PyCharm, this can also be done, and moreover, PyCharm offers the possibility to immediately view a CSV file as a real table.\n",
    "\n",
    "Go to the `data` folder and open a CSV file in PyCharm. You will notice that there are tabs at the bottom that allow you to choose how you\n",
    "In PyCharm, you can view a CSV file as a table.\n",
    "\n",
    "### Reading a CSV file"
   ],
   "metadata": {
    "collapsed": false
   },
   "id": "96c37e3f8431c0a9"
  },
  {
   "cell_type": "markdown",
   "source": [
    "```data = pd.read_csv('datasets/persons1.csv', )```"
   ],
   "metadata": {
    "collapsed": false
   },
   "id": "9ca1f39822ec4ff1"
  },
  {
   "cell_type": "markdown",
   "source": [
    "__READING A CSV FILE IS ONE OF THE MOST COMMON TASKS IN DATA SCIENCE. YOU ARE EXPECTED TO BE ABLE TO DO THIS FLUENTLY DURING EVALUATIONS. MANY STUDENTS LOSE UNNECESSARY TIME OR ARE NOT ABLE TO SOLVE THE QUESTIONS BECAUSE THEY ARE NOT FAMILIAR WITH THIS TASK.__\n",
    "\n",
    "Go to the data directory and open BicycleWeather.csv in PyCharm. \n",
    "a. What is the seperator in this file?\n",
    "b. Read the dataset into a DataFrame using the read_csv function. Use the sep parameter to specify the separator.\n"
   ],
   "metadata": {
    "collapsed": false
   },
   "id": "30f3eb05b61ebdef"
  },
  {
   "cell_type": "code",
   "outputs": [],
   "source": [
    "#SOLUTION_START\n",
    "data = pd.read_csv('../../datasets/BicycleWeather.csv', sep=',')\n",
    "#SOLUTION_END"
   ],
   "metadata": {
    "collapsed": false,
    "ExecuteTime": {
     "end_time": "2024-10-04T08:31:52.049991600Z",
     "start_time": "2024-10-04T08:31:51.803827Z"
    }
   },
   "id": "3d71bcc66ae52ccd",
   "execution_count": 4
  },
  {
   "cell_type": "markdown",
   "source": [
    "In PyCharm you can view the dataframe in a table format. Go to the data variable in the jupyter tab and click on \"View as DataFrame\".\n",
    "You can of course also print the data in a cell."
   ],
   "metadata": {
    "collapsed": false
   },
   "id": "2919c06ac119c4f7"
  },
  {
   "cell_type": "code",
   "outputs": [
    {
     "name": "stdout",
     "output_type": "stream",
     "text": [
      "                STATION                                STATION_NAME      DATE  \\\n",
      "0     GHCND:USW00024233  SEATTLE TACOMA INTERNATIONAL AIRPORT WA US  20120101   \n",
      "1     GHCND:USW00024233  SEATTLE TACOMA INTERNATIONAL AIRPORT WA US  20120102   \n",
      "2     GHCND:USW00024233  SEATTLE TACOMA INTERNATIONAL AIRPORT WA US  20120103   \n",
      "3     GHCND:USW00024233  SEATTLE TACOMA INTERNATIONAL AIRPORT WA US  20120104   \n",
      "4     GHCND:USW00024233  SEATTLE TACOMA INTERNATIONAL AIRPORT WA US  20120105   \n",
      "...                 ...                                         ...       ...   \n",
      "1335  GHCND:USW00024233  SEATTLE TACOMA INTERNATIONAL AIRPORT WA US  20150828   \n",
      "1336  GHCND:USW00024233  SEATTLE TACOMA INTERNATIONAL AIRPORT WA US  20150829   \n",
      "1337  GHCND:USW00024233  SEATTLE TACOMA INTERNATIONAL AIRPORT WA US  20150830   \n",
      "1338  GHCND:USW00024233  SEATTLE TACOMA INTERNATIONAL AIRPORT WA US  20150831   \n",
      "1339  GHCND:USW00024233  SEATTLE TACOMA INTERNATIONAL AIRPORT WA US  20150901   \n",
      "\n",
      "      PRCP  SNWD  SNOW  TMAX  TMIN  AWND  WDF2  ...  WT17  WT05  WT02  WT22  \\\n",
      "0        0     0     0   128    50    47   100  ... -9999 -9999 -9999 -9999   \n",
      "1      109     0     0   106    28    45   180  ... -9999 -9999 -9999 -9999   \n",
      "2        8     0     0   117    72    23   180  ... -9999 -9999 -9999 -9999   \n",
      "3      203     0     0   122    56    47   180  ... -9999 -9999 -9999 -9999   \n",
      "4       13     0     0    89    28    61   200  ... -9999 -9999 -9999 -9999   \n",
      "...    ...   ...   ...   ...   ...   ...   ...  ...   ...   ...   ...   ...   \n",
      "1335     5     0     0   233   156    26   230  ... -9999 -9999 -9999 -9999   \n",
      "1336   325     0     0   222   133    58   210  ... -9999 -9999 -9999 -9999   \n",
      "1337   102     0     0   200   128    47   200  ... -9999 -9999 -9999 -9999   \n",
      "1338     0     0     0   189   161    58   210  ... -9999 -9999 -9999 -9999   \n",
      "1339    58     0     0   194   139 -9999 -9999  ... -9999 -9999 -9999 -9999   \n",
      "\n",
      "      WT04  WT13  WT16  WT08  WT18  WT03  \n",
      "0    -9999 -9999 -9999 -9999 -9999 -9999  \n",
      "1    -9999     1     1 -9999 -9999 -9999  \n",
      "2    -9999 -9999     1 -9999 -9999 -9999  \n",
      "3    -9999     1     1 -9999 -9999 -9999  \n",
      "4    -9999 -9999     1 -9999 -9999 -9999  \n",
      "...    ...   ...   ...   ...   ...   ...  \n",
      "1335 -9999 -9999 -9999 -9999 -9999 -9999  \n",
      "1336 -9999 -9999 -9999 -9999 -9999 -9999  \n",
      "1337 -9999 -9999 -9999 -9999 -9999 -9999  \n",
      "1338 -9999 -9999 -9999 -9999 -9999 -9999  \n",
      "1339 -9999 -9999 -9999 -9999 -9999 -9999  \n",
      "\n",
      "[1340 rows x 26 columns]\n"
     ]
    }
   ],
   "source": [
    "print(data)"
   ],
   "metadata": {
    "collapsed": false,
    "ExecuteTime": {
     "end_time": "2024-10-04T08:31:52.162159600Z",
     "start_time": "2024-10-04T08:31:51.960861800Z"
    }
   },
   "id": "5d1016e40069dc5b",
   "execution_count": 5
  },
  {
   "cell_type": "markdown",
   "source": [
    "Now, investigate the data with describe(), info() and head() functions."
   ],
   "metadata": {
    "collapsed": false
   },
   "id": "e4f47b92040b6763"
  },
  {
   "cell_type": "code",
   "outputs": [
    {
     "data": {
      "text/plain": "               DATE         PRCP         SNWD         SNOW         TMAX  \\\ncount  1.340000e+03  1340.000000  1340.000000  1340.000000  1340.000000   \nmean   2.013427e+07    28.292537     0.324627   -29.545522   166.672388   \nstd    1.063978e+04    62.763097     4.479127   545.736003    74.331651   \nmin    2.012010e+07     0.000000     0.000000 -9999.000000   -16.000000   \n25%    2.012118e+07     0.000000     0.000000     0.000000   111.000000   \n50%    2.013107e+07     0.000000     0.000000     0.000000   156.000000   \n75%    2.014100e+07    25.000000     0.000000     0.000000   222.000000   \nmax    2.015090e+07   559.000000    80.000000   173.000000   356.000000   \n\n              TMIN         AWND         WDF2         WDF5         WSF2  ...  \\\ncount  1340.000000  1340.000000  1340.000000  1340.000000  1340.000000  ...   \nmean     83.249254    24.692537   170.840299    22.154478    64.513433  ...   \nstd      50.563330   274.396498   296.343588  1298.860605   276.304370  ...   \nmin     -71.000000 -9999.000000 -9999.000000 -9999.000000 -9999.000000  ...   \n25%      44.000000    22.000000   107.500000   120.000000    54.000000  ...   \n50%      83.000000    30.000000   200.000000   205.000000    67.000000  ...   \n75%     122.000000    40.000000   230.000000   240.000000    89.000000  ...   \nmax     183.000000    95.000000   360.000000   360.000000   192.000000  ...   \n\n              WT17         WT05         WT02         WT22         WT04  \\\ncount  1340.000000  1340.000000  1340.000000  1340.000000  1340.000000   \nmean  -9991.537313 -9984.074627 -9491.537313 -9931.835821 -9961.686567   \nstd     273.179182   386.189416  2195.610628   817.085672   609.934146   \nmin   -9999.000000 -9999.000000 -9999.000000 -9999.000000 -9999.000000   \n25%   -9999.000000 -9999.000000 -9999.000000 -9999.000000 -9999.000000   \n50%   -9999.000000 -9999.000000 -9999.000000 -9999.000000 -9999.000000   \n75%   -9999.000000 -9999.000000 -9999.000000 -9999.000000 -9999.000000   \nmax       1.000000     1.000000     1.000000     1.000000     1.000000   \n\n              WT13         WT16         WT08         WT18         WT03  \ncount  1340.000000  1340.000000  1340.000000  1340.000000  1340.000000  \nmean  -8543.776119 -7999.000000 -9767.656716 -9849.746269 -9887.059701  \nstd    3527.583977  4001.493373  1503.861989  1212.995740  1052.472800  \nmin   -9999.000000 -9999.000000 -9999.000000 -9999.000000 -9999.000000  \n25%   -9999.000000 -9999.000000 -9999.000000 -9999.000000 -9999.000000  \n50%   -9999.000000 -9999.000000 -9999.000000 -9999.000000 -9999.000000  \n75%   -9999.000000 -9999.000000 -9999.000000 -9999.000000 -9999.000000  \nmax       1.000000     1.000000     1.000000     1.000000     1.000000  \n\n[8 rows x 24 columns]",
      "text/html": "<div>\n<style scoped>\n    .dataframe tbody tr th:only-of-type {\n        vertical-align: middle;\n    }\n\n    .dataframe tbody tr th {\n        vertical-align: top;\n    }\n\n    .dataframe thead th {\n        text-align: right;\n    }\n</style>\n<table border=\"1\" class=\"dataframe\">\n  <thead>\n    <tr style=\"text-align: right;\">\n      <th></th>\n      <th>DATE</th>\n      <th>PRCP</th>\n      <th>SNWD</th>\n      <th>SNOW</th>\n      <th>TMAX</th>\n      <th>TMIN</th>\n      <th>AWND</th>\n      <th>WDF2</th>\n      <th>WDF5</th>\n      <th>WSF2</th>\n      <th>...</th>\n      <th>WT17</th>\n      <th>WT05</th>\n      <th>WT02</th>\n      <th>WT22</th>\n      <th>WT04</th>\n      <th>WT13</th>\n      <th>WT16</th>\n      <th>WT08</th>\n      <th>WT18</th>\n      <th>WT03</th>\n    </tr>\n  </thead>\n  <tbody>\n    <tr>\n      <th>count</th>\n      <td>1.340000e+03</td>\n      <td>1340.000000</td>\n      <td>1340.000000</td>\n      <td>1340.000000</td>\n      <td>1340.000000</td>\n      <td>1340.000000</td>\n      <td>1340.000000</td>\n      <td>1340.000000</td>\n      <td>1340.000000</td>\n      <td>1340.000000</td>\n      <td>...</td>\n      <td>1340.000000</td>\n      <td>1340.000000</td>\n      <td>1340.000000</td>\n      <td>1340.000000</td>\n      <td>1340.000000</td>\n      <td>1340.000000</td>\n      <td>1340.000000</td>\n      <td>1340.000000</td>\n      <td>1340.000000</td>\n      <td>1340.000000</td>\n    </tr>\n    <tr>\n      <th>mean</th>\n      <td>2.013427e+07</td>\n      <td>28.292537</td>\n      <td>0.324627</td>\n      <td>-29.545522</td>\n      <td>166.672388</td>\n      <td>83.249254</td>\n      <td>24.692537</td>\n      <td>170.840299</td>\n      <td>22.154478</td>\n      <td>64.513433</td>\n      <td>...</td>\n      <td>-9991.537313</td>\n      <td>-9984.074627</td>\n      <td>-9491.537313</td>\n      <td>-9931.835821</td>\n      <td>-9961.686567</td>\n      <td>-8543.776119</td>\n      <td>-7999.000000</td>\n      <td>-9767.656716</td>\n      <td>-9849.746269</td>\n      <td>-9887.059701</td>\n    </tr>\n    <tr>\n      <th>std</th>\n      <td>1.063978e+04</td>\n      <td>62.763097</td>\n      <td>4.479127</td>\n      <td>545.736003</td>\n      <td>74.331651</td>\n      <td>50.563330</td>\n      <td>274.396498</td>\n      <td>296.343588</td>\n      <td>1298.860605</td>\n      <td>276.304370</td>\n      <td>...</td>\n      <td>273.179182</td>\n      <td>386.189416</td>\n      <td>2195.610628</td>\n      <td>817.085672</td>\n      <td>609.934146</td>\n      <td>3527.583977</td>\n      <td>4001.493373</td>\n      <td>1503.861989</td>\n      <td>1212.995740</td>\n      <td>1052.472800</td>\n    </tr>\n    <tr>\n      <th>min</th>\n      <td>2.012010e+07</td>\n      <td>0.000000</td>\n      <td>0.000000</td>\n      <td>-9999.000000</td>\n      <td>-16.000000</td>\n      <td>-71.000000</td>\n      <td>-9999.000000</td>\n      <td>-9999.000000</td>\n      <td>-9999.000000</td>\n      <td>-9999.000000</td>\n      <td>...</td>\n      <td>-9999.000000</td>\n      <td>-9999.000000</td>\n      <td>-9999.000000</td>\n      <td>-9999.000000</td>\n      <td>-9999.000000</td>\n      <td>-9999.000000</td>\n      <td>-9999.000000</td>\n      <td>-9999.000000</td>\n      <td>-9999.000000</td>\n      <td>-9999.000000</td>\n    </tr>\n    <tr>\n      <th>25%</th>\n      <td>2.012118e+07</td>\n      <td>0.000000</td>\n      <td>0.000000</td>\n      <td>0.000000</td>\n      <td>111.000000</td>\n      <td>44.000000</td>\n      <td>22.000000</td>\n      <td>107.500000</td>\n      <td>120.000000</td>\n      <td>54.000000</td>\n      <td>...</td>\n      <td>-9999.000000</td>\n      <td>-9999.000000</td>\n      <td>-9999.000000</td>\n      <td>-9999.000000</td>\n      <td>-9999.000000</td>\n      <td>-9999.000000</td>\n      <td>-9999.000000</td>\n      <td>-9999.000000</td>\n      <td>-9999.000000</td>\n      <td>-9999.000000</td>\n    </tr>\n    <tr>\n      <th>50%</th>\n      <td>2.013107e+07</td>\n      <td>0.000000</td>\n      <td>0.000000</td>\n      <td>0.000000</td>\n      <td>156.000000</td>\n      <td>83.000000</td>\n      <td>30.000000</td>\n      <td>200.000000</td>\n      <td>205.000000</td>\n      <td>67.000000</td>\n      <td>...</td>\n      <td>-9999.000000</td>\n      <td>-9999.000000</td>\n      <td>-9999.000000</td>\n      <td>-9999.000000</td>\n      <td>-9999.000000</td>\n      <td>-9999.000000</td>\n      <td>-9999.000000</td>\n      <td>-9999.000000</td>\n      <td>-9999.000000</td>\n      <td>-9999.000000</td>\n    </tr>\n    <tr>\n      <th>75%</th>\n      <td>2.014100e+07</td>\n      <td>25.000000</td>\n      <td>0.000000</td>\n      <td>0.000000</td>\n      <td>222.000000</td>\n      <td>122.000000</td>\n      <td>40.000000</td>\n      <td>230.000000</td>\n      <td>240.000000</td>\n      <td>89.000000</td>\n      <td>...</td>\n      <td>-9999.000000</td>\n      <td>-9999.000000</td>\n      <td>-9999.000000</td>\n      <td>-9999.000000</td>\n      <td>-9999.000000</td>\n      <td>-9999.000000</td>\n      <td>-9999.000000</td>\n      <td>-9999.000000</td>\n      <td>-9999.000000</td>\n      <td>-9999.000000</td>\n    </tr>\n    <tr>\n      <th>max</th>\n      <td>2.015090e+07</td>\n      <td>559.000000</td>\n      <td>80.000000</td>\n      <td>173.000000</td>\n      <td>356.000000</td>\n      <td>183.000000</td>\n      <td>95.000000</td>\n      <td>360.000000</td>\n      <td>360.000000</td>\n      <td>192.000000</td>\n      <td>...</td>\n      <td>1.000000</td>\n      <td>1.000000</td>\n      <td>1.000000</td>\n      <td>1.000000</td>\n      <td>1.000000</td>\n      <td>1.000000</td>\n      <td>1.000000</td>\n      <td>1.000000</td>\n      <td>1.000000</td>\n      <td>1.000000</td>\n    </tr>\n  </tbody>\n</table>\n<p>8 rows × 24 columns</p>\n</div>"
     },
     "execution_count": 6,
     "metadata": {},
     "output_type": "execute_result"
    },
    {
     "name": "stdout",
     "output_type": "stream",
     "text": [
      "<class 'pandas.core.frame.DataFrame'>\n",
      "RangeIndex: 1340 entries, 0 to 1339\n",
      "Data columns (total 26 columns):\n",
      " #   Column        Non-Null Count  Dtype \n",
      "---  ------        --------------  ----- \n",
      " 0   STATION       1340 non-null   object\n",
      " 1   STATION_NAME  1340 non-null   object\n",
      " 2   DATE          1340 non-null   int64 \n",
      " 3   PRCP          1340 non-null   int64 \n",
      " 4   SNWD          1340 non-null   int64 \n",
      " 5   SNOW          1340 non-null   int64 \n",
      " 6   TMAX          1340 non-null   int64 \n",
      " 7   TMIN          1340 non-null   int64 \n",
      " 8   AWND          1340 non-null   int64 \n",
      " 9   WDF2          1340 non-null   int64 \n",
      " 10  WDF5          1340 non-null   int64 \n",
      " 11  WSF2          1340 non-null   int64 \n",
      " 12  WSF5          1340 non-null   int64 \n",
      " 13  FMTM          1340 non-null   int64 \n",
      " 14  WT14          1340 non-null   int64 \n",
      " 15  WT01          1340 non-null   int64 \n",
      " 16  WT17          1340 non-null   int64 \n",
      " 17  WT05          1340 non-null   int64 \n",
      " 18  WT02          1340 non-null   int64 \n",
      " 19  WT22          1340 non-null   int64 \n",
      " 20  WT04          1340 non-null   int64 \n",
      " 21  WT13          1340 non-null   int64 \n",
      " 22  WT16          1340 non-null   int64 \n",
      " 23  WT08          1340 non-null   int64 \n",
      " 24  WT18          1340 non-null   int64 \n",
      " 25  WT03          1340 non-null   int64 \n",
      "dtypes: int64(24), object(2)\n",
      "memory usage: 272.3+ KB\n"
     ]
    },
    {
     "data": {
      "text/plain": "              STATION                                STATION_NAME      DATE  \\\n0   GHCND:USW00024233  SEATTLE TACOMA INTERNATIONAL AIRPORT WA US  20120101   \n1   GHCND:USW00024233  SEATTLE TACOMA INTERNATIONAL AIRPORT WA US  20120102   \n2   GHCND:USW00024233  SEATTLE TACOMA INTERNATIONAL AIRPORT WA US  20120103   \n3   GHCND:USW00024233  SEATTLE TACOMA INTERNATIONAL AIRPORT WA US  20120104   \n4   GHCND:USW00024233  SEATTLE TACOMA INTERNATIONAL AIRPORT WA US  20120105   \n5   GHCND:USW00024233  SEATTLE TACOMA INTERNATIONAL AIRPORT WA US  20120106   \n6   GHCND:USW00024233  SEATTLE TACOMA INTERNATIONAL AIRPORT WA US  20120107   \n7   GHCND:USW00024233  SEATTLE TACOMA INTERNATIONAL AIRPORT WA US  20120108   \n8   GHCND:USW00024233  SEATTLE TACOMA INTERNATIONAL AIRPORT WA US  20120109   \n9   GHCND:USW00024233  SEATTLE TACOMA INTERNATIONAL AIRPORT WA US  20120110   \n10  GHCND:USW00024233  SEATTLE TACOMA INTERNATIONAL AIRPORT WA US  20120111   \n11  GHCND:USW00024233  SEATTLE TACOMA INTERNATIONAL AIRPORT WA US  20120112   \n12  GHCND:USW00024233  SEATTLE TACOMA INTERNATIONAL AIRPORT WA US  20120113   \n13  GHCND:USW00024233  SEATTLE TACOMA INTERNATIONAL AIRPORT WA US  20120114   \n14  GHCND:USW00024233  SEATTLE TACOMA INTERNATIONAL AIRPORT WA US  20120115   \n15  GHCND:USW00024233  SEATTLE TACOMA INTERNATIONAL AIRPORT WA US  20120116   \n16  GHCND:USW00024233  SEATTLE TACOMA INTERNATIONAL AIRPORT WA US  20120117   \n17  GHCND:USW00024233  SEATTLE TACOMA INTERNATIONAL AIRPORT WA US  20120118   \n18  GHCND:USW00024233  SEATTLE TACOMA INTERNATIONAL AIRPORT WA US  20120119   \n19  GHCND:USW00024233  SEATTLE TACOMA INTERNATIONAL AIRPORT WA US  20120120   \n20  GHCND:USW00024233  SEATTLE TACOMA INTERNATIONAL AIRPORT WA US  20120121   \n21  GHCND:USW00024233  SEATTLE TACOMA INTERNATIONAL AIRPORT WA US  20120122   \n22  GHCND:USW00024233  SEATTLE TACOMA INTERNATIONAL AIRPORT WA US  20120123   \n23  GHCND:USW00024233  SEATTLE TACOMA INTERNATIONAL AIRPORT WA US  20120124   \n24  GHCND:USW00024233  SEATTLE TACOMA INTERNATIONAL AIRPORT WA US  20120125   \n25  GHCND:USW00024233  SEATTLE TACOMA INTERNATIONAL AIRPORT WA US  20120126   \n26  GHCND:USW00024233  SEATTLE TACOMA INTERNATIONAL AIRPORT WA US  20120127   \n27  GHCND:USW00024233  SEATTLE TACOMA INTERNATIONAL AIRPORT WA US  20120128   \n28  GHCND:USW00024233  SEATTLE TACOMA INTERNATIONAL AIRPORT WA US  20120129   \n29  GHCND:USW00024233  SEATTLE TACOMA INTERNATIONAL AIRPORT WA US  20120130   \n\n    PRCP  SNWD  SNOW  TMAX  TMIN  AWND  WDF2  ...  WT17  WT05  WT02  WT22  \\\n0      0     0     0   128    50    47   100  ... -9999 -9999 -9999 -9999   \n1    109     0     0   106    28    45   180  ... -9999 -9999 -9999 -9999   \n2      8     0     0   117    72    23   180  ... -9999 -9999 -9999 -9999   \n3    203     0     0   122    56    47   180  ... -9999 -9999 -9999 -9999   \n4     13     0     0    89    28    61   200  ... -9999 -9999 -9999 -9999   \n5     25     0     0    44    22    22   180  ... -9999 -9999 -9999 -9999   \n6      0     0     0    72    28    23   170  ... -9999 -9999 -9999 -9999   \n7      0     0     0   100    28    20   160  ... -9999 -9999 -9999 -9999   \n8     43     0     0    94    50    34   200  ... -9999 -9999 -9999 -9999   \n9     10     0     0    61     6    34    20  ... -9999 -9999 -9999 -9999   \n10     0     0     0    61   -11    51    20  ... -9999 -9999 -9999 -9999   \n11     0     0     0    61   -17    19    30  ... -9999 -9999 -9999 -9999   \n12     0     0     0    50   -28    13    40  ... -9999 -9999 -9999 -9999   \n13    41     0     0    44     6    53   220  ... -9999 -9999 -9999 -9999   \n14    53    51    61    11   -33    32   200  ... -9999 -9999 -9999 -9999   \n15    25    51     3    17   -28    50   190  ... -9999 -9999 -9999 -9999   \n16    81     0     0    33     0    56   220  ... -9999 -9999 -9999 -9999   \n17   198    25   173     0   -28    50   360  ...     1 -9999 -9999 -9999   \n18   152    76     8   -11   -28    16   300  ... -9999 -9999 -9999 -9999   \n19   135    76     0    72   -11    23   130  ... -9999 -9999 -9999 -9999   \n20    30    51     0    83    33    82   200  ... -9999 -9999 -9999 -9999   \n21    61     0     0    67    22    48   160  ... -9999 -9999 -9999 -9999   \n22     0     0     0    83    11    36   200  ... -9999 -9999 -9999 -9999   \n23    86     0     0   100    22    51   240  ... -9999 -9999 -9999 -9999   \n24    81     0     0    89    44    54   250  ... -9999 -9999 -9999 -9999   \n25    48     0     0    89    11    48   220  ... -9999 -9999 -9999 -9999   \n26     0     0     0    67   -22    14   110  ... -9999 -9999 -9999 -9999   \n27     0     0     0    67     6    22   200  ... -9999 -9999 -9999 -9999   \n28   277     0     0    94    39    45   190  ... -9999 -9999 -9999 -9999   \n29    36     0     0    83    61    51   220  ... -9999 -9999 -9999 -9999   \n\n    WT04  WT13  WT16  WT08  WT18  WT03  \n0  -9999 -9999 -9999 -9999 -9999 -9999  \n1  -9999     1     1 -9999 -9999 -9999  \n2  -9999 -9999     1 -9999 -9999 -9999  \n3  -9999     1     1 -9999 -9999 -9999  \n4  -9999 -9999     1 -9999 -9999 -9999  \n5  -9999 -9999     1 -9999 -9999 -9999  \n6  -9999     1     1 -9999 -9999 -9999  \n7  -9999 -9999 -9999 -9999 -9999 -9999  \n8  -9999     1     1 -9999 -9999 -9999  \n9  -9999 -9999     1 -9999 -9999 -9999  \n10 -9999 -9999 -9999 -9999 -9999 -9999  \n11 -9999 -9999 -9999 -9999 -9999 -9999  \n12 -9999 -9999 -9999 -9999 -9999 -9999  \n13 -9999     1     1 -9999     1 -9999  \n14 -9999     1 -9999 -9999     1 -9999  \n15 -9999     1     1 -9999     1 -9999  \n16 -9999     1 -9999 -9999     1 -9999  \n17 -9999 -9999     1 -9999     1 -9999  \n18     1 -9999     1 -9999     1 -9999  \n19 -9999 -9999     1 -9999     1 -9999  \n20 -9999 -9999     1 -9999 -9999 -9999  \n21 -9999     1     1 -9999 -9999 -9999  \n22 -9999 -9999     1 -9999 -9999 -9999  \n23 -9999     1     1 -9999 -9999 -9999  \n24 -9999     1     1 -9999 -9999 -9999  \n25 -9999     1     1 -9999 -9999 -9999  \n26 -9999     1 -9999 -9999 -9999 -9999  \n27 -9999 -9999     1 -9999 -9999 -9999  \n28 -9999     1     1 -9999 -9999 -9999  \n29 -9999 -9999     1 -9999 -9999 -9999  \n\n[30 rows x 26 columns]",
      "text/html": "<div>\n<style scoped>\n    .dataframe tbody tr th:only-of-type {\n        vertical-align: middle;\n    }\n\n    .dataframe tbody tr th {\n        vertical-align: top;\n    }\n\n    .dataframe thead th {\n        text-align: right;\n    }\n</style>\n<table border=\"1\" class=\"dataframe\">\n  <thead>\n    <tr style=\"text-align: right;\">\n      <th></th>\n      <th>STATION</th>\n      <th>STATION_NAME</th>\n      <th>DATE</th>\n      <th>PRCP</th>\n      <th>SNWD</th>\n      <th>SNOW</th>\n      <th>TMAX</th>\n      <th>TMIN</th>\n      <th>AWND</th>\n      <th>WDF2</th>\n      <th>...</th>\n      <th>WT17</th>\n      <th>WT05</th>\n      <th>WT02</th>\n      <th>WT22</th>\n      <th>WT04</th>\n      <th>WT13</th>\n      <th>WT16</th>\n      <th>WT08</th>\n      <th>WT18</th>\n      <th>WT03</th>\n    </tr>\n  </thead>\n  <tbody>\n    <tr>\n      <th>0</th>\n      <td>GHCND:USW00024233</td>\n      <td>SEATTLE TACOMA INTERNATIONAL AIRPORT WA US</td>\n      <td>20120101</td>\n      <td>0</td>\n      <td>0</td>\n      <td>0</td>\n      <td>128</td>\n      <td>50</td>\n      <td>47</td>\n      <td>100</td>\n      <td>...</td>\n      <td>-9999</td>\n      <td>-9999</td>\n      <td>-9999</td>\n      <td>-9999</td>\n      <td>-9999</td>\n      <td>-9999</td>\n      <td>-9999</td>\n      <td>-9999</td>\n      <td>-9999</td>\n      <td>-9999</td>\n    </tr>\n    <tr>\n      <th>1</th>\n      <td>GHCND:USW00024233</td>\n      <td>SEATTLE TACOMA INTERNATIONAL AIRPORT WA US</td>\n      <td>20120102</td>\n      <td>109</td>\n      <td>0</td>\n      <td>0</td>\n      <td>106</td>\n      <td>28</td>\n      <td>45</td>\n      <td>180</td>\n      <td>...</td>\n      <td>-9999</td>\n      <td>-9999</td>\n      <td>-9999</td>\n      <td>-9999</td>\n      <td>-9999</td>\n      <td>1</td>\n      <td>1</td>\n      <td>-9999</td>\n      <td>-9999</td>\n      <td>-9999</td>\n    </tr>\n    <tr>\n      <th>2</th>\n      <td>GHCND:USW00024233</td>\n      <td>SEATTLE TACOMA INTERNATIONAL AIRPORT WA US</td>\n      <td>20120103</td>\n      <td>8</td>\n      <td>0</td>\n      <td>0</td>\n      <td>117</td>\n      <td>72</td>\n      <td>23</td>\n      <td>180</td>\n      <td>...</td>\n      <td>-9999</td>\n      <td>-9999</td>\n      <td>-9999</td>\n      <td>-9999</td>\n      <td>-9999</td>\n      <td>-9999</td>\n      <td>1</td>\n      <td>-9999</td>\n      <td>-9999</td>\n      <td>-9999</td>\n    </tr>\n    <tr>\n      <th>3</th>\n      <td>GHCND:USW00024233</td>\n      <td>SEATTLE TACOMA INTERNATIONAL AIRPORT WA US</td>\n      <td>20120104</td>\n      <td>203</td>\n      <td>0</td>\n      <td>0</td>\n      <td>122</td>\n      <td>56</td>\n      <td>47</td>\n      <td>180</td>\n      <td>...</td>\n      <td>-9999</td>\n      <td>-9999</td>\n      <td>-9999</td>\n      <td>-9999</td>\n      <td>-9999</td>\n      <td>1</td>\n      <td>1</td>\n      <td>-9999</td>\n      <td>-9999</td>\n      <td>-9999</td>\n    </tr>\n    <tr>\n      <th>4</th>\n      <td>GHCND:USW00024233</td>\n      <td>SEATTLE TACOMA INTERNATIONAL AIRPORT WA US</td>\n      <td>20120105</td>\n      <td>13</td>\n      <td>0</td>\n      <td>0</td>\n      <td>89</td>\n      <td>28</td>\n      <td>61</td>\n      <td>200</td>\n      <td>...</td>\n      <td>-9999</td>\n      <td>-9999</td>\n      <td>-9999</td>\n      <td>-9999</td>\n      <td>-9999</td>\n      <td>-9999</td>\n      <td>1</td>\n      <td>-9999</td>\n      <td>-9999</td>\n      <td>-9999</td>\n    </tr>\n    <tr>\n      <th>5</th>\n      <td>GHCND:USW00024233</td>\n      <td>SEATTLE TACOMA INTERNATIONAL AIRPORT WA US</td>\n      <td>20120106</td>\n      <td>25</td>\n      <td>0</td>\n      <td>0</td>\n      <td>44</td>\n      <td>22</td>\n      <td>22</td>\n      <td>180</td>\n      <td>...</td>\n      <td>-9999</td>\n      <td>-9999</td>\n      <td>-9999</td>\n      <td>-9999</td>\n      <td>-9999</td>\n      <td>-9999</td>\n      <td>1</td>\n      <td>-9999</td>\n      <td>-9999</td>\n      <td>-9999</td>\n    </tr>\n    <tr>\n      <th>6</th>\n      <td>GHCND:USW00024233</td>\n      <td>SEATTLE TACOMA INTERNATIONAL AIRPORT WA US</td>\n      <td>20120107</td>\n      <td>0</td>\n      <td>0</td>\n      <td>0</td>\n      <td>72</td>\n      <td>28</td>\n      <td>23</td>\n      <td>170</td>\n      <td>...</td>\n      <td>-9999</td>\n      <td>-9999</td>\n      <td>-9999</td>\n      <td>-9999</td>\n      <td>-9999</td>\n      <td>1</td>\n      <td>1</td>\n      <td>-9999</td>\n      <td>-9999</td>\n      <td>-9999</td>\n    </tr>\n    <tr>\n      <th>7</th>\n      <td>GHCND:USW00024233</td>\n      <td>SEATTLE TACOMA INTERNATIONAL AIRPORT WA US</td>\n      <td>20120108</td>\n      <td>0</td>\n      <td>0</td>\n      <td>0</td>\n      <td>100</td>\n      <td>28</td>\n      <td>20</td>\n      <td>160</td>\n      <td>...</td>\n      <td>-9999</td>\n      <td>-9999</td>\n      <td>-9999</td>\n      <td>-9999</td>\n      <td>-9999</td>\n      <td>-9999</td>\n      <td>-9999</td>\n      <td>-9999</td>\n      <td>-9999</td>\n      <td>-9999</td>\n    </tr>\n    <tr>\n      <th>8</th>\n      <td>GHCND:USW00024233</td>\n      <td>SEATTLE TACOMA INTERNATIONAL AIRPORT WA US</td>\n      <td>20120109</td>\n      <td>43</td>\n      <td>0</td>\n      <td>0</td>\n      <td>94</td>\n      <td>50</td>\n      <td>34</td>\n      <td>200</td>\n      <td>...</td>\n      <td>-9999</td>\n      <td>-9999</td>\n      <td>-9999</td>\n      <td>-9999</td>\n      <td>-9999</td>\n      <td>1</td>\n      <td>1</td>\n      <td>-9999</td>\n      <td>-9999</td>\n      <td>-9999</td>\n    </tr>\n    <tr>\n      <th>9</th>\n      <td>GHCND:USW00024233</td>\n      <td>SEATTLE TACOMA INTERNATIONAL AIRPORT WA US</td>\n      <td>20120110</td>\n      <td>10</td>\n      <td>0</td>\n      <td>0</td>\n      <td>61</td>\n      <td>6</td>\n      <td>34</td>\n      <td>20</td>\n      <td>...</td>\n      <td>-9999</td>\n      <td>-9999</td>\n      <td>-9999</td>\n      <td>-9999</td>\n      <td>-9999</td>\n      <td>-9999</td>\n      <td>1</td>\n      <td>-9999</td>\n      <td>-9999</td>\n      <td>-9999</td>\n    </tr>\n    <tr>\n      <th>10</th>\n      <td>GHCND:USW00024233</td>\n      <td>SEATTLE TACOMA INTERNATIONAL AIRPORT WA US</td>\n      <td>20120111</td>\n      <td>0</td>\n      <td>0</td>\n      <td>0</td>\n      <td>61</td>\n      <td>-11</td>\n      <td>51</td>\n      <td>20</td>\n      <td>...</td>\n      <td>-9999</td>\n      <td>-9999</td>\n      <td>-9999</td>\n      <td>-9999</td>\n      <td>-9999</td>\n      <td>-9999</td>\n      <td>-9999</td>\n      <td>-9999</td>\n      <td>-9999</td>\n      <td>-9999</td>\n    </tr>\n    <tr>\n      <th>11</th>\n      <td>GHCND:USW00024233</td>\n      <td>SEATTLE TACOMA INTERNATIONAL AIRPORT WA US</td>\n      <td>20120112</td>\n      <td>0</td>\n      <td>0</td>\n      <td>0</td>\n      <td>61</td>\n      <td>-17</td>\n      <td>19</td>\n      <td>30</td>\n      <td>...</td>\n      <td>-9999</td>\n      <td>-9999</td>\n      <td>-9999</td>\n      <td>-9999</td>\n      <td>-9999</td>\n      <td>-9999</td>\n      <td>-9999</td>\n      <td>-9999</td>\n      <td>-9999</td>\n      <td>-9999</td>\n    </tr>\n    <tr>\n      <th>12</th>\n      <td>GHCND:USW00024233</td>\n      <td>SEATTLE TACOMA INTERNATIONAL AIRPORT WA US</td>\n      <td>20120113</td>\n      <td>0</td>\n      <td>0</td>\n      <td>0</td>\n      <td>50</td>\n      <td>-28</td>\n      <td>13</td>\n      <td>40</td>\n      <td>...</td>\n      <td>-9999</td>\n      <td>-9999</td>\n      <td>-9999</td>\n      <td>-9999</td>\n      <td>-9999</td>\n      <td>-9999</td>\n      <td>-9999</td>\n      <td>-9999</td>\n      <td>-9999</td>\n      <td>-9999</td>\n    </tr>\n    <tr>\n      <th>13</th>\n      <td>GHCND:USW00024233</td>\n      <td>SEATTLE TACOMA INTERNATIONAL AIRPORT WA US</td>\n      <td>20120114</td>\n      <td>41</td>\n      <td>0</td>\n      <td>0</td>\n      <td>44</td>\n      <td>6</td>\n      <td>53</td>\n      <td>220</td>\n      <td>...</td>\n      <td>-9999</td>\n      <td>-9999</td>\n      <td>-9999</td>\n      <td>-9999</td>\n      <td>-9999</td>\n      <td>1</td>\n      <td>1</td>\n      <td>-9999</td>\n      <td>1</td>\n      <td>-9999</td>\n    </tr>\n    <tr>\n      <th>14</th>\n      <td>GHCND:USW00024233</td>\n      <td>SEATTLE TACOMA INTERNATIONAL AIRPORT WA US</td>\n      <td>20120115</td>\n      <td>53</td>\n      <td>51</td>\n      <td>61</td>\n      <td>11</td>\n      <td>-33</td>\n      <td>32</td>\n      <td>200</td>\n      <td>...</td>\n      <td>-9999</td>\n      <td>-9999</td>\n      <td>-9999</td>\n      <td>-9999</td>\n      <td>-9999</td>\n      <td>1</td>\n      <td>-9999</td>\n      <td>-9999</td>\n      <td>1</td>\n      <td>-9999</td>\n    </tr>\n    <tr>\n      <th>15</th>\n      <td>GHCND:USW00024233</td>\n      <td>SEATTLE TACOMA INTERNATIONAL AIRPORT WA US</td>\n      <td>20120116</td>\n      <td>25</td>\n      <td>51</td>\n      <td>3</td>\n      <td>17</td>\n      <td>-28</td>\n      <td>50</td>\n      <td>190</td>\n      <td>...</td>\n      <td>-9999</td>\n      <td>-9999</td>\n      <td>-9999</td>\n      <td>-9999</td>\n      <td>-9999</td>\n      <td>1</td>\n      <td>1</td>\n      <td>-9999</td>\n      <td>1</td>\n      <td>-9999</td>\n    </tr>\n    <tr>\n      <th>16</th>\n      <td>GHCND:USW00024233</td>\n      <td>SEATTLE TACOMA INTERNATIONAL AIRPORT WA US</td>\n      <td>20120117</td>\n      <td>81</td>\n      <td>0</td>\n      <td>0</td>\n      <td>33</td>\n      <td>0</td>\n      <td>56</td>\n      <td>220</td>\n      <td>...</td>\n      <td>-9999</td>\n      <td>-9999</td>\n      <td>-9999</td>\n      <td>-9999</td>\n      <td>-9999</td>\n      <td>1</td>\n      <td>-9999</td>\n      <td>-9999</td>\n      <td>1</td>\n      <td>-9999</td>\n    </tr>\n    <tr>\n      <th>17</th>\n      <td>GHCND:USW00024233</td>\n      <td>SEATTLE TACOMA INTERNATIONAL AIRPORT WA US</td>\n      <td>20120118</td>\n      <td>198</td>\n      <td>25</td>\n      <td>173</td>\n      <td>0</td>\n      <td>-28</td>\n      <td>50</td>\n      <td>360</td>\n      <td>...</td>\n      <td>1</td>\n      <td>-9999</td>\n      <td>-9999</td>\n      <td>-9999</td>\n      <td>-9999</td>\n      <td>-9999</td>\n      <td>1</td>\n      <td>-9999</td>\n      <td>1</td>\n      <td>-9999</td>\n    </tr>\n    <tr>\n      <th>18</th>\n      <td>GHCND:USW00024233</td>\n      <td>SEATTLE TACOMA INTERNATIONAL AIRPORT WA US</td>\n      <td>20120119</td>\n      <td>152</td>\n      <td>76</td>\n      <td>8</td>\n      <td>-11</td>\n      <td>-28</td>\n      <td>16</td>\n      <td>300</td>\n      <td>...</td>\n      <td>-9999</td>\n      <td>-9999</td>\n      <td>-9999</td>\n      <td>-9999</td>\n      <td>1</td>\n      <td>-9999</td>\n      <td>1</td>\n      <td>-9999</td>\n      <td>1</td>\n      <td>-9999</td>\n    </tr>\n    <tr>\n      <th>19</th>\n      <td>GHCND:USW00024233</td>\n      <td>SEATTLE TACOMA INTERNATIONAL AIRPORT WA US</td>\n      <td>20120120</td>\n      <td>135</td>\n      <td>76</td>\n      <td>0</td>\n      <td>72</td>\n      <td>-11</td>\n      <td>23</td>\n      <td>130</td>\n      <td>...</td>\n      <td>-9999</td>\n      <td>-9999</td>\n      <td>-9999</td>\n      <td>-9999</td>\n      <td>-9999</td>\n      <td>-9999</td>\n      <td>1</td>\n      <td>-9999</td>\n      <td>1</td>\n      <td>-9999</td>\n    </tr>\n    <tr>\n      <th>20</th>\n      <td>GHCND:USW00024233</td>\n      <td>SEATTLE TACOMA INTERNATIONAL AIRPORT WA US</td>\n      <td>20120121</td>\n      <td>30</td>\n      <td>51</td>\n      <td>0</td>\n      <td>83</td>\n      <td>33</td>\n      <td>82</td>\n      <td>200</td>\n      <td>...</td>\n      <td>-9999</td>\n      <td>-9999</td>\n      <td>-9999</td>\n      <td>-9999</td>\n      <td>-9999</td>\n      <td>-9999</td>\n      <td>1</td>\n      <td>-9999</td>\n      <td>-9999</td>\n      <td>-9999</td>\n    </tr>\n    <tr>\n      <th>21</th>\n      <td>GHCND:USW00024233</td>\n      <td>SEATTLE TACOMA INTERNATIONAL AIRPORT WA US</td>\n      <td>20120122</td>\n      <td>61</td>\n      <td>0</td>\n      <td>0</td>\n      <td>67</td>\n      <td>22</td>\n      <td>48</td>\n      <td>160</td>\n      <td>...</td>\n      <td>-9999</td>\n      <td>-9999</td>\n      <td>-9999</td>\n      <td>-9999</td>\n      <td>-9999</td>\n      <td>1</td>\n      <td>1</td>\n      <td>-9999</td>\n      <td>-9999</td>\n      <td>-9999</td>\n    </tr>\n    <tr>\n      <th>22</th>\n      <td>GHCND:USW00024233</td>\n      <td>SEATTLE TACOMA INTERNATIONAL AIRPORT WA US</td>\n      <td>20120123</td>\n      <td>0</td>\n      <td>0</td>\n      <td>0</td>\n      <td>83</td>\n      <td>11</td>\n      <td>36</td>\n      <td>200</td>\n      <td>...</td>\n      <td>-9999</td>\n      <td>-9999</td>\n      <td>-9999</td>\n      <td>-9999</td>\n      <td>-9999</td>\n      <td>-9999</td>\n      <td>1</td>\n      <td>-9999</td>\n      <td>-9999</td>\n      <td>-9999</td>\n    </tr>\n    <tr>\n      <th>23</th>\n      <td>GHCND:USW00024233</td>\n      <td>SEATTLE TACOMA INTERNATIONAL AIRPORT WA US</td>\n      <td>20120124</td>\n      <td>86</td>\n      <td>0</td>\n      <td>0</td>\n      <td>100</td>\n      <td>22</td>\n      <td>51</td>\n      <td>240</td>\n      <td>...</td>\n      <td>-9999</td>\n      <td>-9999</td>\n      <td>-9999</td>\n      <td>-9999</td>\n      <td>-9999</td>\n      <td>1</td>\n      <td>1</td>\n      <td>-9999</td>\n      <td>-9999</td>\n      <td>-9999</td>\n    </tr>\n    <tr>\n      <th>24</th>\n      <td>GHCND:USW00024233</td>\n      <td>SEATTLE TACOMA INTERNATIONAL AIRPORT WA US</td>\n      <td>20120125</td>\n      <td>81</td>\n      <td>0</td>\n      <td>0</td>\n      <td>89</td>\n      <td>44</td>\n      <td>54</td>\n      <td>250</td>\n      <td>...</td>\n      <td>-9999</td>\n      <td>-9999</td>\n      <td>-9999</td>\n      <td>-9999</td>\n      <td>-9999</td>\n      <td>1</td>\n      <td>1</td>\n      <td>-9999</td>\n      <td>-9999</td>\n      <td>-9999</td>\n    </tr>\n    <tr>\n      <th>25</th>\n      <td>GHCND:USW00024233</td>\n      <td>SEATTLE TACOMA INTERNATIONAL AIRPORT WA US</td>\n      <td>20120126</td>\n      <td>48</td>\n      <td>0</td>\n      <td>0</td>\n      <td>89</td>\n      <td>11</td>\n      <td>48</td>\n      <td>220</td>\n      <td>...</td>\n      <td>-9999</td>\n      <td>-9999</td>\n      <td>-9999</td>\n      <td>-9999</td>\n      <td>-9999</td>\n      <td>1</td>\n      <td>1</td>\n      <td>-9999</td>\n      <td>-9999</td>\n      <td>-9999</td>\n    </tr>\n    <tr>\n      <th>26</th>\n      <td>GHCND:USW00024233</td>\n      <td>SEATTLE TACOMA INTERNATIONAL AIRPORT WA US</td>\n      <td>20120127</td>\n      <td>0</td>\n      <td>0</td>\n      <td>0</td>\n      <td>67</td>\n      <td>-22</td>\n      <td>14</td>\n      <td>110</td>\n      <td>...</td>\n      <td>-9999</td>\n      <td>-9999</td>\n      <td>-9999</td>\n      <td>-9999</td>\n      <td>-9999</td>\n      <td>1</td>\n      <td>-9999</td>\n      <td>-9999</td>\n      <td>-9999</td>\n      <td>-9999</td>\n    </tr>\n    <tr>\n      <th>27</th>\n      <td>GHCND:USW00024233</td>\n      <td>SEATTLE TACOMA INTERNATIONAL AIRPORT WA US</td>\n      <td>20120128</td>\n      <td>0</td>\n      <td>0</td>\n      <td>0</td>\n      <td>67</td>\n      <td>6</td>\n      <td>22</td>\n      <td>200</td>\n      <td>...</td>\n      <td>-9999</td>\n      <td>-9999</td>\n      <td>-9999</td>\n      <td>-9999</td>\n      <td>-9999</td>\n      <td>-9999</td>\n      <td>1</td>\n      <td>-9999</td>\n      <td>-9999</td>\n      <td>-9999</td>\n    </tr>\n    <tr>\n      <th>28</th>\n      <td>GHCND:USW00024233</td>\n      <td>SEATTLE TACOMA INTERNATIONAL AIRPORT WA US</td>\n      <td>20120129</td>\n      <td>277</td>\n      <td>0</td>\n      <td>0</td>\n      <td>94</td>\n      <td>39</td>\n      <td>45</td>\n      <td>190</td>\n      <td>...</td>\n      <td>-9999</td>\n      <td>-9999</td>\n      <td>-9999</td>\n      <td>-9999</td>\n      <td>-9999</td>\n      <td>1</td>\n      <td>1</td>\n      <td>-9999</td>\n      <td>-9999</td>\n      <td>-9999</td>\n    </tr>\n    <tr>\n      <th>29</th>\n      <td>GHCND:USW00024233</td>\n      <td>SEATTLE TACOMA INTERNATIONAL AIRPORT WA US</td>\n      <td>20120130</td>\n      <td>36</td>\n      <td>0</td>\n      <td>0</td>\n      <td>83</td>\n      <td>61</td>\n      <td>51</td>\n      <td>220</td>\n      <td>...</td>\n      <td>-9999</td>\n      <td>-9999</td>\n      <td>-9999</td>\n      <td>-9999</td>\n      <td>-9999</td>\n      <td>-9999</td>\n      <td>1</td>\n      <td>-9999</td>\n      <td>-9999</td>\n      <td>-9999</td>\n    </tr>\n  </tbody>\n</table>\n<p>30 rows × 26 columns</p>\n</div>"
     },
     "execution_count": 6,
     "metadata": {},
     "output_type": "execute_result"
    }
   ],
   "source": [
    "#SOLUTION_START\n",
    "data.describe()\n",
    "data.info()\n",
    "data.head(30)\n",
    "#SOLUTION_END"
   ],
   "metadata": {
    "collapsed": false,
    "ExecuteTime": {
     "end_time": "2024-10-04T08:31:52.429923Z",
     "start_time": "2024-10-04T08:31:52.064375800Z"
    }
   },
   "id": "8d647cb9ee817792",
   "execution_count": 6
  },
  {
   "cell_type": "markdown",
   "source": [
    "Select columns Station_name, date and TMAX from rows with index 10 to 20."
   ],
   "metadata": {
    "collapsed": false
   },
   "id": "a714bf3eb1dd83a1"
  },
  {
   "cell_type": "code",
   "outputs": [
    {
     "data": {
      "text/plain": "                                  STATION_NAME      DATE  TMAX\n10  SEATTLE TACOMA INTERNATIONAL AIRPORT WA US  20120111    61\n11  SEATTLE TACOMA INTERNATIONAL AIRPORT WA US  20120112    61\n12  SEATTLE TACOMA INTERNATIONAL AIRPORT WA US  20120113    50\n13  SEATTLE TACOMA INTERNATIONAL AIRPORT WA US  20120114    44\n14  SEATTLE TACOMA INTERNATIONAL AIRPORT WA US  20120115    11\n15  SEATTLE TACOMA INTERNATIONAL AIRPORT WA US  20120116    17\n16  SEATTLE TACOMA INTERNATIONAL AIRPORT WA US  20120117    33\n17  SEATTLE TACOMA INTERNATIONAL AIRPORT WA US  20120118     0\n18  SEATTLE TACOMA INTERNATIONAL AIRPORT WA US  20120119   -11\n19  SEATTLE TACOMA INTERNATIONAL AIRPORT WA US  20120120    72\n20  SEATTLE TACOMA INTERNATIONAL AIRPORT WA US  20120121    83",
      "text/html": "<div>\n<style scoped>\n    .dataframe tbody tr th:only-of-type {\n        vertical-align: middle;\n    }\n\n    .dataframe tbody tr th {\n        vertical-align: top;\n    }\n\n    .dataframe thead th {\n        text-align: right;\n    }\n</style>\n<table border=\"1\" class=\"dataframe\">\n  <thead>\n    <tr style=\"text-align: right;\">\n      <th></th>\n      <th>STATION_NAME</th>\n      <th>DATE</th>\n      <th>TMAX</th>\n    </tr>\n  </thead>\n  <tbody>\n    <tr>\n      <th>10</th>\n      <td>SEATTLE TACOMA INTERNATIONAL AIRPORT WA US</td>\n      <td>20120111</td>\n      <td>61</td>\n    </tr>\n    <tr>\n      <th>11</th>\n      <td>SEATTLE TACOMA INTERNATIONAL AIRPORT WA US</td>\n      <td>20120112</td>\n      <td>61</td>\n    </tr>\n    <tr>\n      <th>12</th>\n      <td>SEATTLE TACOMA INTERNATIONAL AIRPORT WA US</td>\n      <td>20120113</td>\n      <td>50</td>\n    </tr>\n    <tr>\n      <th>13</th>\n      <td>SEATTLE TACOMA INTERNATIONAL AIRPORT WA US</td>\n      <td>20120114</td>\n      <td>44</td>\n    </tr>\n    <tr>\n      <th>14</th>\n      <td>SEATTLE TACOMA INTERNATIONAL AIRPORT WA US</td>\n      <td>20120115</td>\n      <td>11</td>\n    </tr>\n    <tr>\n      <th>15</th>\n      <td>SEATTLE TACOMA INTERNATIONAL AIRPORT WA US</td>\n      <td>20120116</td>\n      <td>17</td>\n    </tr>\n    <tr>\n      <th>16</th>\n      <td>SEATTLE TACOMA INTERNATIONAL AIRPORT WA US</td>\n      <td>20120117</td>\n      <td>33</td>\n    </tr>\n    <tr>\n      <th>17</th>\n      <td>SEATTLE TACOMA INTERNATIONAL AIRPORT WA US</td>\n      <td>20120118</td>\n      <td>0</td>\n    </tr>\n    <tr>\n      <th>18</th>\n      <td>SEATTLE TACOMA INTERNATIONAL AIRPORT WA US</td>\n      <td>20120119</td>\n      <td>-11</td>\n    </tr>\n    <tr>\n      <th>19</th>\n      <td>SEATTLE TACOMA INTERNATIONAL AIRPORT WA US</td>\n      <td>20120120</td>\n      <td>72</td>\n    </tr>\n    <tr>\n      <th>20</th>\n      <td>SEATTLE TACOMA INTERNATIONAL AIRPORT WA US</td>\n      <td>20120121</td>\n      <td>83</td>\n    </tr>\n  </tbody>\n</table>\n</div>"
     },
     "execution_count": 7,
     "metadata": {},
     "output_type": "execute_result"
    }
   ],
   "source": [
    "#SOLUTION_START\n",
    "data.loc[10:20, ['STATION_NAME', 'DATE', 'TMAX']]\n",
    "#SOLUTION_END"
   ],
   "metadata": {
    "collapsed": false,
    "ExecuteTime": {
     "end_time": "2024-10-04T08:31:52.459926Z",
     "start_time": "2024-10-04T08:31:52.310966700Z"
    }
   },
   "id": "648e06484e43a472",
   "execution_count": 7
  },
  {
   "cell_type": "markdown",
   "source": [
    "Now, read the file again, but this time use the extra parameter names to specify your own column names. Use range(0, 10) as column names."
   ],
   "metadata": {
    "collapsed": false
   },
   "id": "5f18ed3de76f86e8"
  },
  {
   "cell_type": "code",
   "outputs": [],
   "source": [
    "#SOLUTION_START\n",
    "data = pd.read_csv('../../datasets/BicycleWeather.csv', sep=',', names=range(0, 10))\n",
    "#SOLUTION_END"
   ],
   "metadata": {
    "collapsed": false,
    "ExecuteTime": {
     "end_time": "2024-10-04T08:31:52.588476Z",
     "start_time": "2024-10-04T08:31:52.345171100Z"
    }
   },
   "id": "b1ba6f2d0410467c",
   "execution_count": 8
  },
  {
   "cell_type": "markdown",
   "source": [
    "Look at the first three rows of the data. What problem do you see?"
   ],
   "metadata": {
    "collapsed": false
   },
   "id": "116a43ccd0d08833"
  },
  {
   "cell_type": "code",
   "outputs": [
    {
     "data": {
      "text/plain": "                                                                                                                                               0  \\\nSTATION           STATION_NAME                               DATE     PRCP SNWD SNOW TMAX TMIN AWND WDF2 WDF5 WSF2 WSF5 FMTM  WT14  WT01    WT17   \nGHCND:USW00024233 SEATTLE TACOMA INTERNATIONAL AIRPORT WA US 20120101 0    0    0    128  50   47   100  90   89   112  -9999 1     -9999  -9999   \n                                                             20120102 109  0    0    106  28   45   180  200  130  179  -9999 -9999 1      -9999   \n                                                             20120103 8    0    0    117  72   23   180  170  54   67   -9999 -9999 -9999  -9999   \n                                                             20120104 203  0    0    122  56   47   180  190  107  148  -9999 -9999 1      -9999   \n\n                                                                                                                                               1  \\\nSTATION           STATION_NAME                               DATE     PRCP SNWD SNOW TMAX TMIN AWND WDF2 WDF5 WSF2 WSF5 FMTM  WT14  WT01    WT05   \nGHCND:USW00024233 SEATTLE TACOMA INTERNATIONAL AIRPORT WA US 20120101 0    0    0    128  50   47   100  90   89   112  -9999 1     -9999  -9999   \n                                                             20120102 109  0    0    106  28   45   180  200  130  179  -9999 -9999 1      -9999   \n                                                             20120103 8    0    0    117  72   23   180  170  54   67   -9999 -9999 -9999  -9999   \n                                                             20120104 203  0    0    122  56   47   180  190  107  148  -9999 -9999 1      -9999   \n\n                                                                                                                                               2  \\\nSTATION           STATION_NAME                               DATE     PRCP SNWD SNOW TMAX TMIN AWND WDF2 WDF5 WSF2 WSF5 FMTM  WT14  WT01    WT02   \nGHCND:USW00024233 SEATTLE TACOMA INTERNATIONAL AIRPORT WA US 20120101 0    0    0    128  50   47   100  90   89   112  -9999 1     -9999  -9999   \n                                                             20120102 109  0    0    106  28   45   180  200  130  179  -9999 -9999 1      -9999   \n                                                             20120103 8    0    0    117  72   23   180  170  54   67   -9999 -9999 -9999  -9999   \n                                                             20120104 203  0    0    122  56   47   180  190  107  148  -9999 -9999 1      -9999   \n\n                                                                                                                                               3  \\\nSTATION           STATION_NAME                               DATE     PRCP SNWD SNOW TMAX TMIN AWND WDF2 WDF5 WSF2 WSF5 FMTM  WT14  WT01    WT22   \nGHCND:USW00024233 SEATTLE TACOMA INTERNATIONAL AIRPORT WA US 20120101 0    0    0    128  50   47   100  90   89   112  -9999 1     -9999  -9999   \n                                                             20120102 109  0    0    106  28   45   180  200  130  179  -9999 -9999 1      -9999   \n                                                             20120103 8    0    0    117  72   23   180  170  54   67   -9999 -9999 -9999  -9999   \n                                                             20120104 203  0    0    122  56   47   180  190  107  148  -9999 -9999 1      -9999   \n\n                                                                                                                                               4  \\\nSTATION           STATION_NAME                               DATE     PRCP SNWD SNOW TMAX TMIN AWND WDF2 WDF5 WSF2 WSF5 FMTM  WT14  WT01    WT04   \nGHCND:USW00024233 SEATTLE TACOMA INTERNATIONAL AIRPORT WA US 20120101 0    0    0    128  50   47   100  90   89   112  -9999 1     -9999  -9999   \n                                                             20120102 109  0    0    106  28   45   180  200  130  179  -9999 -9999 1      -9999   \n                                                             20120103 8    0    0    117  72   23   180  170  54   67   -9999 -9999 -9999  -9999   \n                                                             20120104 203  0    0    122  56   47   180  190  107  148  -9999 -9999 1      -9999   \n\n                                                                                                                                               5  \\\nSTATION           STATION_NAME                               DATE     PRCP SNWD SNOW TMAX TMIN AWND WDF2 WDF5 WSF2 WSF5 FMTM  WT14  WT01    WT13   \nGHCND:USW00024233 SEATTLE TACOMA INTERNATIONAL AIRPORT WA US 20120101 0    0    0    128  50   47   100  90   89   112  -9999 1     -9999  -9999   \n                                                             20120102 109  0    0    106  28   45   180  200  130  179  -9999 -9999 1          1   \n                                                             20120103 8    0    0    117  72   23   180  170  54   67   -9999 -9999 -9999  -9999   \n                                                             20120104 203  0    0    122  56   47   180  190  107  148  -9999 -9999 1          1   \n\n                                                                                                                                               6  \\\nSTATION           STATION_NAME                               DATE     PRCP SNWD SNOW TMAX TMIN AWND WDF2 WDF5 WSF2 WSF5 FMTM  WT14  WT01    WT16   \nGHCND:USW00024233 SEATTLE TACOMA INTERNATIONAL AIRPORT WA US 20120101 0    0    0    128  50   47   100  90   89   112  -9999 1     -9999  -9999   \n                                                             20120102 109  0    0    106  28   45   180  200  130  179  -9999 -9999 1          1   \n                                                             20120103 8    0    0    117  72   23   180  170  54   67   -9999 -9999 -9999      1   \n                                                             20120104 203  0    0    122  56   47   180  190  107  148  -9999 -9999 1          1   \n\n                                                                                                                                               7  \\\nSTATION           STATION_NAME                               DATE     PRCP SNWD SNOW TMAX TMIN AWND WDF2 WDF5 WSF2 WSF5 FMTM  WT14  WT01    WT08   \nGHCND:USW00024233 SEATTLE TACOMA INTERNATIONAL AIRPORT WA US 20120101 0    0    0    128  50   47   100  90   89   112  -9999 1     -9999  -9999   \n                                                             20120102 109  0    0    106  28   45   180  200  130  179  -9999 -9999 1      -9999   \n                                                             20120103 8    0    0    117  72   23   180  170  54   67   -9999 -9999 -9999  -9999   \n                                                             20120104 203  0    0    122  56   47   180  190  107  148  -9999 -9999 1      -9999   \n\n                                                                                                                                               8  \\\nSTATION           STATION_NAME                               DATE     PRCP SNWD SNOW TMAX TMIN AWND WDF2 WDF5 WSF2 WSF5 FMTM  WT14  WT01    WT18   \nGHCND:USW00024233 SEATTLE TACOMA INTERNATIONAL AIRPORT WA US 20120101 0    0    0    128  50   47   100  90   89   112  -9999 1     -9999  -9999   \n                                                             20120102 109  0    0    106  28   45   180  200  130  179  -9999 -9999 1      -9999   \n                                                             20120103 8    0    0    117  72   23   180  170  54   67   -9999 -9999 -9999  -9999   \n                                                             20120104 203  0    0    122  56   47   180  190  107  148  -9999 -9999 1      -9999   \n\n                                                                                                                                               9  \nSTATION           STATION_NAME                               DATE     PRCP SNWD SNOW TMAX TMIN AWND WDF2 WDF5 WSF2 WSF5 FMTM  WT14  WT01    WT03  \nGHCND:USW00024233 SEATTLE TACOMA INTERNATIONAL AIRPORT WA US 20120101 0    0    0    128  50   47   100  90   89   112  -9999 1     -9999  -9999  \n                                                             20120102 109  0    0    106  28   45   180  200  130  179  -9999 -9999 1      -9999  \n                                                             20120103 8    0    0    117  72   23   180  170  54   67   -9999 -9999 -9999  -9999  \n                                                             20120104 203  0    0    122  56   47   180  190  107  148  -9999 -9999 1      -9999  ",
      "text/html": "<div>\n<style scoped>\n    .dataframe tbody tr th:only-of-type {\n        vertical-align: middle;\n    }\n\n    .dataframe tbody tr th {\n        vertical-align: top;\n    }\n\n    .dataframe thead th {\n        text-align: right;\n    }\n</style>\n<table border=\"1\" class=\"dataframe\">\n  <thead>\n    <tr style=\"text-align: right;\">\n      <th></th>\n      <th></th>\n      <th></th>\n      <th></th>\n      <th></th>\n      <th></th>\n      <th></th>\n      <th></th>\n      <th></th>\n      <th></th>\n      <th></th>\n      <th></th>\n      <th></th>\n      <th></th>\n      <th></th>\n      <th></th>\n      <th>0</th>\n      <th>1</th>\n      <th>2</th>\n      <th>3</th>\n      <th>4</th>\n      <th>5</th>\n      <th>6</th>\n      <th>7</th>\n      <th>8</th>\n      <th>9</th>\n    </tr>\n  </thead>\n  <tbody>\n    <tr>\n      <th>STATION</th>\n      <th>STATION_NAME</th>\n      <th>DATE</th>\n      <th>PRCP</th>\n      <th>SNWD</th>\n      <th>SNOW</th>\n      <th>TMAX</th>\n      <th>TMIN</th>\n      <th>AWND</th>\n      <th>WDF2</th>\n      <th>WDF5</th>\n      <th>WSF2</th>\n      <th>WSF5</th>\n      <th>FMTM</th>\n      <th>WT14</th>\n      <th>WT01</th>\n      <td>WT17</td>\n      <td>WT05</td>\n      <td>WT02</td>\n      <td>WT22</td>\n      <td>WT04</td>\n      <td>WT13</td>\n      <td>WT16</td>\n      <td>WT08</td>\n      <td>WT18</td>\n      <td>WT03</td>\n    </tr>\n    <tr>\n      <th rowspan=\"4\" valign=\"top\">GHCND:USW00024233</th>\n      <th rowspan=\"4\" valign=\"top\">SEATTLE TACOMA INTERNATIONAL AIRPORT WA US</th>\n      <th>20120101</th>\n      <th>0</th>\n      <th>0</th>\n      <th>0</th>\n      <th>128</th>\n      <th>50</th>\n      <th>47</th>\n      <th>100</th>\n      <th>90</th>\n      <th>89</th>\n      <th>112</th>\n      <th>-9999</th>\n      <th>1</th>\n      <th>-9999</th>\n      <td>-9999</td>\n      <td>-9999</td>\n      <td>-9999</td>\n      <td>-9999</td>\n      <td>-9999</td>\n      <td>-9999</td>\n      <td>-9999</td>\n      <td>-9999</td>\n      <td>-9999</td>\n      <td>-9999</td>\n    </tr>\n    <tr>\n      <th>20120102</th>\n      <th>109</th>\n      <th>0</th>\n      <th>0</th>\n      <th>106</th>\n      <th>28</th>\n      <th>45</th>\n      <th>180</th>\n      <th>200</th>\n      <th>130</th>\n      <th>179</th>\n      <th>-9999</th>\n      <th>-9999</th>\n      <th>1</th>\n      <td>-9999</td>\n      <td>-9999</td>\n      <td>-9999</td>\n      <td>-9999</td>\n      <td>-9999</td>\n      <td>1</td>\n      <td>1</td>\n      <td>-9999</td>\n      <td>-9999</td>\n      <td>-9999</td>\n    </tr>\n    <tr>\n      <th>20120103</th>\n      <th>8</th>\n      <th>0</th>\n      <th>0</th>\n      <th>117</th>\n      <th>72</th>\n      <th>23</th>\n      <th>180</th>\n      <th>170</th>\n      <th>54</th>\n      <th>67</th>\n      <th>-9999</th>\n      <th>-9999</th>\n      <th>-9999</th>\n      <td>-9999</td>\n      <td>-9999</td>\n      <td>-9999</td>\n      <td>-9999</td>\n      <td>-9999</td>\n      <td>-9999</td>\n      <td>1</td>\n      <td>-9999</td>\n      <td>-9999</td>\n      <td>-9999</td>\n    </tr>\n    <tr>\n      <th>20120104</th>\n      <th>203</th>\n      <th>0</th>\n      <th>0</th>\n      <th>122</th>\n      <th>56</th>\n      <th>47</th>\n      <th>180</th>\n      <th>190</th>\n      <th>107</th>\n      <th>148</th>\n      <th>-9999</th>\n      <th>-9999</th>\n      <th>1</th>\n      <td>-9999</td>\n      <td>-9999</td>\n      <td>-9999</td>\n      <td>-9999</td>\n      <td>-9999</td>\n      <td>1</td>\n      <td>1</td>\n      <td>-9999</td>\n      <td>-9999</td>\n      <td>-9999</td>\n    </tr>\n  </tbody>\n</table>\n</div>"
     },
     "execution_count": 9,
     "metadata": {},
     "output_type": "execute_result"
    }
   ],
   "source": [
    "#SOLUTION_START\n",
    "data.head()\n",
    "#The header names are now the first row of the data\n",
    "#SOLUTION_END"
   ],
   "metadata": {
    "collapsed": false,
    "ExecuteTime": {
     "end_time": "2024-10-04T08:31:53.211811700Z",
     "start_time": "2024-10-04T08:31:52.531140300Z"
    }
   },
   "id": "4ba1e4c54de13475",
   "execution_count": 9
  },
  {
   "cell_type": "markdown",
   "source": [
    "Try to solve the problem by using the header parameter."
   ],
   "metadata": {
    "collapsed": false
   },
   "id": "b1ba9a9d2418cd81"
  },
  {
   "cell_type": "code",
   "outputs": [
    {
     "data": {
      "text/plain": "                                                                                                                              0  \\\nGHCND:USW00024233 SEATTLE TACOMA INTERNATIONAL AIRPORT WA US 20120101 0   0 0 128 50 47 100 90  89  112 -9999  1    -9999 -9999   \n                                                             20120102 109 0 0 106 28 45 180 200 130 179 -9999 -9999  1    -9999   \n                                                             20120103 8   0 0 117 72 23 180 170 54  67  -9999 -9999 -9999 -9999   \n                                                             20120104 203 0 0 122 56 47 180 190 107 148 -9999 -9999  1    -9999   \n                                                             20120105 13  0 0 89  28 61 200 220 107 165 -9999 -9999  1    -9999   \n\n                                                                                                                              1  \\\nGHCND:USW00024233 SEATTLE TACOMA INTERNATIONAL AIRPORT WA US 20120101 0   0 0 128 50 47 100 90  89  112 -9999  1    -9999 -9999   \n                                                             20120102 109 0 0 106 28 45 180 200 130 179 -9999 -9999  1    -9999   \n                                                             20120103 8   0 0 117 72 23 180 170 54  67  -9999 -9999 -9999 -9999   \n                                                             20120104 203 0 0 122 56 47 180 190 107 148 -9999 -9999  1    -9999   \n                                                             20120105 13  0 0 89  28 61 200 220 107 165 -9999 -9999  1    -9999   \n\n                                                                                                                              2  \\\nGHCND:USW00024233 SEATTLE TACOMA INTERNATIONAL AIRPORT WA US 20120101 0   0 0 128 50 47 100 90  89  112 -9999  1    -9999 -9999   \n                                                             20120102 109 0 0 106 28 45 180 200 130 179 -9999 -9999  1    -9999   \n                                                             20120103 8   0 0 117 72 23 180 170 54  67  -9999 -9999 -9999 -9999   \n                                                             20120104 203 0 0 122 56 47 180 190 107 148 -9999 -9999  1    -9999   \n                                                             20120105 13  0 0 89  28 61 200 220 107 165 -9999 -9999  1    -9999   \n\n                                                                                                                              3  \\\nGHCND:USW00024233 SEATTLE TACOMA INTERNATIONAL AIRPORT WA US 20120101 0   0 0 128 50 47 100 90  89  112 -9999  1    -9999 -9999   \n                                                             20120102 109 0 0 106 28 45 180 200 130 179 -9999 -9999  1    -9999   \n                                                             20120103 8   0 0 117 72 23 180 170 54  67  -9999 -9999 -9999 -9999   \n                                                             20120104 203 0 0 122 56 47 180 190 107 148 -9999 -9999  1    -9999   \n                                                             20120105 13  0 0 89  28 61 200 220 107 165 -9999 -9999  1    -9999   \n\n                                                                                                                              4  \\\nGHCND:USW00024233 SEATTLE TACOMA INTERNATIONAL AIRPORT WA US 20120101 0   0 0 128 50 47 100 90  89  112 -9999  1    -9999 -9999   \n                                                             20120102 109 0 0 106 28 45 180 200 130 179 -9999 -9999  1    -9999   \n                                                             20120103 8   0 0 117 72 23 180 170 54  67  -9999 -9999 -9999 -9999   \n                                                             20120104 203 0 0 122 56 47 180 190 107 148 -9999 -9999  1    -9999   \n                                                             20120105 13  0 0 89  28 61 200 220 107 165 -9999 -9999  1    -9999   \n\n                                                                                                                              5  \\\nGHCND:USW00024233 SEATTLE TACOMA INTERNATIONAL AIRPORT WA US 20120101 0   0 0 128 50 47 100 90  89  112 -9999  1    -9999 -9999   \n                                                             20120102 109 0 0 106 28 45 180 200 130 179 -9999 -9999  1        1   \n                                                             20120103 8   0 0 117 72 23 180 170 54  67  -9999 -9999 -9999 -9999   \n                                                             20120104 203 0 0 122 56 47 180 190 107 148 -9999 -9999  1        1   \n                                                             20120105 13  0 0 89  28 61 200 220 107 165 -9999 -9999  1    -9999   \n\n                                                                                                                              6  \\\nGHCND:USW00024233 SEATTLE TACOMA INTERNATIONAL AIRPORT WA US 20120101 0   0 0 128 50 47 100 90  89  112 -9999  1    -9999 -9999   \n                                                             20120102 109 0 0 106 28 45 180 200 130 179 -9999 -9999  1        1   \n                                                             20120103 8   0 0 117 72 23 180 170 54  67  -9999 -9999 -9999     1   \n                                                             20120104 203 0 0 122 56 47 180 190 107 148 -9999 -9999  1        1   \n                                                             20120105 13  0 0 89  28 61 200 220 107 165 -9999 -9999  1        1   \n\n                                                                                                                              7  \\\nGHCND:USW00024233 SEATTLE TACOMA INTERNATIONAL AIRPORT WA US 20120101 0   0 0 128 50 47 100 90  89  112 -9999  1    -9999 -9999   \n                                                             20120102 109 0 0 106 28 45 180 200 130 179 -9999 -9999  1    -9999   \n                                                             20120103 8   0 0 117 72 23 180 170 54  67  -9999 -9999 -9999 -9999   \n                                                             20120104 203 0 0 122 56 47 180 190 107 148 -9999 -9999  1    -9999   \n                                                             20120105 13  0 0 89  28 61 200 220 107 165 -9999 -9999  1    -9999   \n\n                                                                                                                              8  \\\nGHCND:USW00024233 SEATTLE TACOMA INTERNATIONAL AIRPORT WA US 20120101 0   0 0 128 50 47 100 90  89  112 -9999  1    -9999 -9999   \n                                                             20120102 109 0 0 106 28 45 180 200 130 179 -9999 -9999  1    -9999   \n                                                             20120103 8   0 0 117 72 23 180 170 54  67  -9999 -9999 -9999 -9999   \n                                                             20120104 203 0 0 122 56 47 180 190 107 148 -9999 -9999  1    -9999   \n                                                             20120105 13  0 0 89  28 61 200 220 107 165 -9999 -9999  1    -9999   \n\n                                                                                                                              9  \nGHCND:USW00024233 SEATTLE TACOMA INTERNATIONAL AIRPORT WA US 20120101 0   0 0 128 50 47 100 90  89  112 -9999  1    -9999 -9999  \n                                                             20120102 109 0 0 106 28 45 180 200 130 179 -9999 -9999  1    -9999  \n                                                             20120103 8   0 0 117 72 23 180 170 54  67  -9999 -9999 -9999 -9999  \n                                                             20120104 203 0 0 122 56 47 180 190 107 148 -9999 -9999  1    -9999  \n                                                             20120105 13  0 0 89  28 61 200 220 107 165 -9999 -9999  1    -9999  ",
      "text/html": "<div>\n<style scoped>\n    .dataframe tbody tr th:only-of-type {\n        vertical-align: middle;\n    }\n\n    .dataframe tbody tr th {\n        vertical-align: top;\n    }\n\n    .dataframe thead th {\n        text-align: right;\n    }\n</style>\n<table border=\"1\" class=\"dataframe\">\n  <thead>\n    <tr style=\"text-align: right;\">\n      <th></th>\n      <th></th>\n      <th></th>\n      <th></th>\n      <th></th>\n      <th></th>\n      <th></th>\n      <th></th>\n      <th></th>\n      <th></th>\n      <th></th>\n      <th></th>\n      <th></th>\n      <th></th>\n      <th></th>\n      <th></th>\n      <th>0</th>\n      <th>1</th>\n      <th>2</th>\n      <th>3</th>\n      <th>4</th>\n      <th>5</th>\n      <th>6</th>\n      <th>7</th>\n      <th>8</th>\n      <th>9</th>\n    </tr>\n  </thead>\n  <tbody>\n    <tr>\n      <th rowspan=\"5\" valign=\"top\">GHCND:USW00024233</th>\n      <th rowspan=\"5\" valign=\"top\">SEATTLE TACOMA INTERNATIONAL AIRPORT WA US</th>\n      <th>20120101</th>\n      <th>0</th>\n      <th>0</th>\n      <th>0</th>\n      <th>128</th>\n      <th>50</th>\n      <th>47</th>\n      <th>100</th>\n      <th>90</th>\n      <th>89</th>\n      <th>112</th>\n      <th>-9999</th>\n      <th>1</th>\n      <th>-9999</th>\n      <td>-9999</td>\n      <td>-9999</td>\n      <td>-9999</td>\n      <td>-9999</td>\n      <td>-9999</td>\n      <td>-9999</td>\n      <td>-9999</td>\n      <td>-9999</td>\n      <td>-9999</td>\n      <td>-9999</td>\n    </tr>\n    <tr>\n      <th>20120102</th>\n      <th>109</th>\n      <th>0</th>\n      <th>0</th>\n      <th>106</th>\n      <th>28</th>\n      <th>45</th>\n      <th>180</th>\n      <th>200</th>\n      <th>130</th>\n      <th>179</th>\n      <th>-9999</th>\n      <th>-9999</th>\n      <th>1</th>\n      <td>-9999</td>\n      <td>-9999</td>\n      <td>-9999</td>\n      <td>-9999</td>\n      <td>-9999</td>\n      <td>1</td>\n      <td>1</td>\n      <td>-9999</td>\n      <td>-9999</td>\n      <td>-9999</td>\n    </tr>\n    <tr>\n      <th>20120103</th>\n      <th>8</th>\n      <th>0</th>\n      <th>0</th>\n      <th>117</th>\n      <th>72</th>\n      <th>23</th>\n      <th>180</th>\n      <th>170</th>\n      <th>54</th>\n      <th>67</th>\n      <th>-9999</th>\n      <th>-9999</th>\n      <th>-9999</th>\n      <td>-9999</td>\n      <td>-9999</td>\n      <td>-9999</td>\n      <td>-9999</td>\n      <td>-9999</td>\n      <td>-9999</td>\n      <td>1</td>\n      <td>-9999</td>\n      <td>-9999</td>\n      <td>-9999</td>\n    </tr>\n    <tr>\n      <th>20120104</th>\n      <th>203</th>\n      <th>0</th>\n      <th>0</th>\n      <th>122</th>\n      <th>56</th>\n      <th>47</th>\n      <th>180</th>\n      <th>190</th>\n      <th>107</th>\n      <th>148</th>\n      <th>-9999</th>\n      <th>-9999</th>\n      <th>1</th>\n      <td>-9999</td>\n      <td>-9999</td>\n      <td>-9999</td>\n      <td>-9999</td>\n      <td>-9999</td>\n      <td>1</td>\n      <td>1</td>\n      <td>-9999</td>\n      <td>-9999</td>\n      <td>-9999</td>\n    </tr>\n    <tr>\n      <th>20120105</th>\n      <th>13</th>\n      <th>0</th>\n      <th>0</th>\n      <th>89</th>\n      <th>28</th>\n      <th>61</th>\n      <th>200</th>\n      <th>220</th>\n      <th>107</th>\n      <th>165</th>\n      <th>-9999</th>\n      <th>-9999</th>\n      <th>1</th>\n      <td>-9999</td>\n      <td>-9999</td>\n      <td>-9999</td>\n      <td>-9999</td>\n      <td>-9999</td>\n      <td>-9999</td>\n      <td>1</td>\n      <td>-9999</td>\n      <td>-9999</td>\n      <td>-9999</td>\n    </tr>\n  </tbody>\n</table>\n</div>"
     },
     "execution_count": 10,
     "metadata": {},
     "output_type": "execute_result"
    }
   ],
   "source": [
    "#SOLUTION_START\n",
    "data = pd.read_csv('../../datasets/BicycleWeather.csv', sep=',', names=range(0, 10), header=0) # In this case you give the names yourself and you indicate that the header is the first row and that the file header has te be skipped\n",
    "data.head()\n",
    "#SOLUTION_END"
   ],
   "metadata": {
    "collapsed": false,
    "ExecuteTime": {
     "end_time": "2024-10-04T08:31:53.674041600Z",
     "start_time": "2024-10-04T08:31:53.031130900Z"
    }
   },
   "id": "c5bc01194d9495d6",
   "execution_count": 10
  },
  {
   "cell_type": "markdown",
   "source": [
    "## Categorical Variables\n",
    "We start by creating a Pandas Categorical Series. A Categorical Series is a list of values that all come from a certain category. A categorical variable can take on a fixed number of values, which are usually expressed in strings. A categorical variable represents a nominal or ordinal variable, depending on whether the values in the list have a certain order or not.\n",
    "\n",
    "\n",
    "Take your **blood type** as an example. Possible values are:\n",
    "\n",
    "``> O-, O+, B-, B+, A-, A+, AB-, AB+``\n",
    "\n",
    "From the introduction, we know that blood type is a **nominal variable**.\n",
    "You cannot perform calculations with these values. There are also examples where there is an order, for example:\n",
    "\n",
    "Take the degree of agreement as an example. Possible values could be:\\\n",
    "``> none, little, more, most``\\\n",
    "This is clearly an example of an **ordinal variable**.\n",
    "Sometimes the values of a categorical variable are represented by numbers, but they are still categorical variables. Do not be misled by this.\n",
    "\n",
    "From the theory of measurement scales, we know that nominal variables can only be compared (using the = operator) and ordinal variables can at most be sorted (using <, >, = operators).  To work efficiently with these values, an index or category is assigned to them. Because this index is a number, it is much faster to find values of the correct category in a large dataset. Run the following code to create a nominal variable blood types.\n",
    "\n",
    "Run the following code to create a nominal variable blood types.\n",
    "```python\n",
    "values = ['AB-', 'O-', 'B-', 'B-', 'A+', 'AB+', 'O+', 'B-', 'B+', 'A-', 'A+', 'AB-']\n",
    "bloodtype = pd.Categorical(values, categories=['O-','O+','B-','B+','A-','A+','AB-','AB+'])\n",
    "bloodtype\n",
    "```"
   ],
   "metadata": {
    "collapsed": false
   },
   "id": "da78f4b74fef0101"
  },
  {
   "cell_type": "code",
   "source": [
    "#SOLUTION_START\n",
    "import pandas as pd\n",
    "values = ['AB-', 'O-', 'B-', 'B-', 'A+', 'AB+', 'O+', 'B-', 'B+', 'A-', 'A+', 'AB-']\n",
    "bloodtype = pd.Categorical(values, categories=['O-','O+','B-','B+','A-','A+','AB-','AB+'])\n",
    "bloodtype\n",
    "#SOLUTION_END"
   ],
   "metadata": {
    "collapsed": false,
    "ExecuteTime": {
     "end_time": "2025-02-06T08:11:18.382932Z",
     "start_time": "2025-02-06T08:11:18.362219Z"
    }
   },
   "id": "ffd3e8baab2e5f64",
   "outputs": [
    {
     "data": {
      "text/plain": [
       "['AB-', 'O-', 'B-', 'B-', 'A+', ..., 'B-', 'B+', 'A-', 'A+', 'AB-']\n",
       "Length: 12\n",
       "Categories (8, object): ['O-', 'O+', 'B-', 'B+', 'A-', 'A+', 'AB-', 'AB+']"
      ]
     },
     "execution_count": 2,
     "metadata": {},
     "output_type": "execute_result"
    }
   ],
   "execution_count": 2
  },
  {
   "cell_type": "markdown",
   "source": [
    "Now run the following code to create an ordinal variable akkoord.\n",
    "```python\n",
    "values = ['little', 'more', 'none', 'more', 'little', 'most', 'none']\n",
    "agreement = pd.Categorical(values, categories=['none', 'little', 'more', 'most'], ordered=True)\n",
    "agreement\n",
    "```"
   ],
   "metadata": {
    "collapsed": false
   },
   "id": "e89ebd12d761eff9"
  },
  {
   "cell_type": "code",
   "outputs": [
    {
     "data": {
      "text/plain": "['little', 'more', 'none', 'more', 'little', 'most', 'none']\nCategories (4, object): ['none' < 'little' < 'more' < 'most']"
     },
     "execution_count": 12,
     "metadata": {},
     "output_type": "execute_result"
    }
   ],
   "source": [
    "#SOLUTION_START\n",
    "values = ['little', 'more', 'none', 'more', 'little', 'most', 'none']\n",
    "agreement = pd.Categorical(values, categories=['none', 'little', 'more', 'most'], ordered=True)\n",
    "agreement\n",
    "#SOLUTION_END"
   ],
   "metadata": {
    "collapsed": false,
    "ExecuteTime": {
     "end_time": "2024-10-04T08:31:54.399225800Z",
     "start_time": "2024-10-04T08:31:53.903267800Z"
    }
   },
   "id": "fa5a8015b34ad547",
   "execution_count": 12
  },
  {
   "cell_type": "markdown",
   "source": [
    "When reading a csv you can also specify which columns are categorical. This can be done with the dtype parameter. Create a new DataFrame laptops from the file laptops.csv. Specify that the columns cpuGeneration and brand are categorical. \n",
    "_Tip dtype={'col_name':'category', 'col_name2':'category'}_\n",
    " As always, first look at the file to see what the separator is. In this case it will also be important to set the decimal argument correctly."
   ],
   "metadata": {
    "collapsed": false
   },
   "id": "75fcf942f9dd203c"
  },
  {
   "cell_type": "code",
   "outputs": [],
   "source": [
    "#SOLUTION_START\n",
    "laptops = pd.read_csv('../../datasets/laptops.csv', sep=';', dtype={'cpuGeneration': 'category', 'brand': 'category'}, decimal=',')\n",
    "#SOLUTION_END"
   ],
   "metadata": {
    "collapsed": false,
    "ExecuteTime": {
     "end_time": "2024-10-04T08:31:54.730504900Z",
     "start_time": "2024-10-04T08:31:54.188222400Z"
    }
   },
   "id": "e7760887ed11853a",
   "execution_count": 13
  },
  {
   "cell_type": "markdown",
   "source": [
    "Check the result. cpuGeneration and brand should be of type category and diskspace should be of type float."
   ],
   "metadata": {
    "collapsed": false
   },
   "id": "82c144feaa58f308"
  },
  {
   "cell_type": "code",
   "outputs": [
    {
     "name": "stdout",
     "output_type": "stream",
     "text": [
      "<class 'pandas.core.frame.DataFrame'>\n",
      "RangeIndex: 857 entries, 0 to 856\n",
      "Data columns (total 5 columns):\n",
      " #   Column         Non-Null Count  Dtype   \n",
      "---  ------         --------------  -----   \n",
      " 0   cpuGeneration  852 non-null    category\n",
      " 1   cpuType        853 non-null    object  \n",
      " 2   RAM            855 non-null    float64 \n",
      " 3   diskspace      851 non-null    float64 \n",
      " 4   brand          856 non-null    category\n",
      "dtypes: category(2), float64(2), object(1)\n",
      "memory usage: 22.5+ KB\n"
     ]
    }
   ],
   "source": [
    "#SOLUTION_START\n",
    "laptops.info()\n",
    "#SOLUTION_END"
   ],
   "metadata": {
    "collapsed": false,
    "ExecuteTime": {
     "end_time": "2024-10-04T08:31:55.108330700Z",
     "start_time": "2024-10-04T08:31:54.739660900Z"
    }
   },
   "id": "229095425966ae17",
   "execution_count": 14
  },
  {
   "cell_type": "markdown",
   "source": [
    "In many cases you will want to convert a column to a categorical variable after reading the file into a dataframe. In case of the dataframe laptops, convert cpuType to a categorical. The cpuType has to be 'oridinal' and the categories should be 'i3', 'i5', 'i7'."
   ],
   "metadata": {
    "collapsed": false
   },
   "id": "792a545b7646ac04"
  },
  {
   "cell_type": "code",
   "outputs": [],
   "source": [
    "#SOLUTION_START\n",
    "laptops['cpuType'] = pd.Categorical(laptops['cpuType'], categories=['i3', 'i5', 'i7'], ordered=True)\n",
    "#SOLUTION_END"
   ],
   "metadata": {
    "collapsed": false,
    "ExecuteTime": {
     "end_time": "2024-10-04T08:31:55.333729400Z",
     "start_time": "2024-10-04T08:31:55.105297600Z"
    }
   },
   "id": "9d1ddbba698b0c41",
   "execution_count": 15
  },
  {
   "cell_type": "markdown",
   "source": [
    "Check whether the column has been converted correctly. Make sure you see < between the categories."
   ],
   "metadata": {
    "collapsed": false
   },
   "id": "75fa16e0cd1ac645"
  },
  {
   "cell_type": "code",
   "outputs": [
    {
     "name": "stdout",
     "output_type": "stream",
     "text": [
      "0      i7\n",
      "1      i5\n",
      "2      i7\n",
      "3      i7\n",
      "4      i5\n",
      "       ..\n",
      "852    i3\n",
      "853    i5\n",
      "854    i5\n",
      "855    i7\n",
      "856    i3\n",
      "Name: cpuType, Length: 857, dtype: category\n",
      "Categories (3, object): ['i3' < 'i5' < 'i7']\n"
     ]
    }
   ],
   "source": [
    "#SOLUTION_START\n",
    "print(laptops['cpuType'])\n",
    "#SOLUTION_END"
   ],
   "metadata": {
    "collapsed": false,
    "ExecuteTime": {
     "end_time": "2024-10-04T08:31:55.409891800Z",
     "start_time": "2024-10-04T08:31:55.221648700Z"
    }
   },
   "id": "2244a3f9c1d5bb5d",
   "execution_count": 16
  }
 ],
 "metadata": {
  "kernelspec": {
   "display_name": "Python 3",
   "language": "python",
   "name": "python3"
  },
  "language_info": {
   "codemirror_mode": {
    "name": "ipython",
    "version": 2
   },
   "file_extension": ".py",
   "mimetype": "text/x-python",
   "name": "python",
   "nbconvert_exporter": "python",
   "pygments_lexer": "ipython2",
   "version": "2.7.6"
  }
 },
 "nbformat": 4,
 "nbformat_minor": 5
}
