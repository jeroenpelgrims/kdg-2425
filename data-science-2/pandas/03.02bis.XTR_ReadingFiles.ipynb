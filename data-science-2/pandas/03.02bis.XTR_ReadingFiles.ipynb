{
  "cells": [
    {
      "cell_type": "code",
      "outputs": [],
      "source": [
        "import pandas as pd"
      ],
      "metadata": {
        "collapsed": false,
        "ExecuteTime": {
          "end_time": "2024-10-04T08:31:51.799893600Z",
          "start_time": "2024-10-04T08:31:51.216728900Z"
        }
      },
      "id": "30b4e3417867625a",
      "execution_count": 3
    },
    {
      "cell_type": "markdown",
      "source": [
        "# Reading Data\n",
        "\n",
        "Very often you will need to read data from a file. In most cases, this will be a CSV file. A CSV file can be read and placed into a Pandas `DataFrame`. The first row of the file is usually used as a header. Pandas will automatically create column names based on the header, but you can also provide your own column names. You can also read data from other sources such as an SQL database, an Excel file, a JSON file, etc. For more information on reading data, see the [Pandas documentation](https://pandas.pydata.org/pandas-docs/stable/user_guide/io.html).\n",
        "\n",
        "## Reading CSV files and working with a dataframe\n",
        "### CSV File format\n",
        "Data in Data Science is often stored in files with the extension *.csv*. CSV stands for **Comma Separated Value**. This means that the values are separated by commas, and it is a standard that was established in the 1970s. That abbreviation has remained, but nowadays values can also be separated by other characters, such as a Tab or a semicolon (;). That character is also called the delimiter or the separator. In CSV files, strings are usually also placed between quotation marks, especially when they contain spaces (or the separator, for example), so it is clear where the string begins and ends within a CSV.\n",
        "\n",
        "Decimal numbers can be stored in two ways: with a decimal point or with a decimal comma. If you save a file in a Dutch-language Excel, you will see that a decimal comma is automatically used. In an English-language Excel, it will be a decimal point. Therefore, we recommend, only for this course, not to work with Excel.\n",
        "\n",
        "Before reading a *.csv* file, you should always first check in a text editor how it is stored. By which character are the values separated? What is the decimal notation? In PyCharm, this can also be done, and moreover, PyCharm offers the possibility to immediately view a CSV file as a real table.\n",
        "\n",
        "Go to the `data` folder and open a CSV file in PyCharm. You will notice that there are tabs at the bottom that allow you to choose how you\n",
        "In PyCharm, you can view a CSV file as a table.\n",
        "\n",
        "### Reading a CSV file"
      ],
      "metadata": {
        "collapsed": false
      },
      "id": "96c37e3f8431c0a9"
    },
    {
      "cell_type": "markdown",
      "source": [
        "```data = pd.read_csv('datasets/persons1.csv', )```"
      ],
      "metadata": {
        "collapsed": false
      },
      "id": "9ca1f39822ec4ff1"
    },
    {
      "cell_type": "markdown",
      "source": [
        "__READING A CSV FILE IS ONE OF THE MOST COMMON TASKS IN DATA SCIENCE. YOU ARE EXPECTED TO BE ABLE TO DO THIS FLUENTLY DURING EVALUATIONS. MANY STUDENTS LOSE UNNECESSARY TIME OR ARE NOT ABLE TO SOLVE THE QUESTIONS BECAUSE THEY ARE NOT FAMILIAR WITH THIS TASK.__\n",
        "\n",
        "Go to the data directory and open BicycleWeather.csv in PyCharm. \n",
        "a. What is the seperator in this file?\n",
        "b. Read the dataset into a DataFrame using the read_csv function. Use the sep parameter to specify the separator.\n"
      ],
      "metadata": {
        "collapsed": false
      },
      "id": "30f3eb05b61ebdef"
    },
    {
      "cell_type": "code",
      "outputs": [],
      "source": [],
      "metadata": {
        "collapsed": false,
        "ExecuteTime": {
          "end_time": "2024-10-04T08:31:52.049991600Z",
          "start_time": "2024-10-04T08:31:51.803827Z"
        }
      },
      "id": "3d71bcc66ae52ccd",
      "execution_count": 4
    },
    {
      "cell_type": "markdown",
      "source": [
        "In PyCharm you can view the dataframe in a table format. Go to the data variable in the jupyter tab and click on \"View as DataFrame\".\n",
        "You can of course also print the data in a cell."
      ],
      "metadata": {
        "collapsed": false
      },
      "id": "2919c06ac119c4f7"
    },
    {
      "cell_type": "code",
      "outputs": [],
      "source": [
        "print(data)"
      ],
      "metadata": {
        "collapsed": false,
        "ExecuteTime": {
          "end_time": "2024-10-04T08:31:52.162159600Z",
          "start_time": "2024-10-04T08:31:51.960861800Z"
        }
      },
      "id": "5d1016e40069dc5b",
      "execution_count": 5
    },
    {
      "cell_type": "markdown",
      "source": [
        "Now, investigate the data with describe(), info() and head() functions."
      ],
      "metadata": {
        "collapsed": false
      },
      "id": "e4f47b92040b6763"
    },
    {
      "cell_type": "code",
      "outputs": [],
      "source": [],
      "metadata": {
        "collapsed": false,
        "ExecuteTime": {
          "end_time": "2024-10-04T08:31:52.429923Z",
          "start_time": "2024-10-04T08:31:52.064375800Z"
        }
      },
      "id": "8d647cb9ee817792",
      "execution_count": 6
    },
    {
      "cell_type": "markdown",
      "source": [
        "Select columns Station_name, date and TMAX from rows with index 10 to 20."
      ],
      "metadata": {
        "collapsed": false
      },
      "id": "a714bf3eb1dd83a1"
    },
    {
      "cell_type": "code",
      "outputs": [],
      "source": [],
      "metadata": {
        "collapsed": false,
        "ExecuteTime": {
          "end_time": "2024-10-04T08:31:52.459926Z",
          "start_time": "2024-10-04T08:31:52.310966700Z"
        }
      },
      "id": "648e06484e43a472",
      "execution_count": 7
    },
    {
      "cell_type": "markdown",
      "source": [
        "Now, read the file again, but this time use the extra parameter names to specify your own column names. Use range(0, 10) as column names."
      ],
      "metadata": {
        "collapsed": false
      },
      "id": "5f18ed3de76f86e8"
    },
    {
      "cell_type": "code",
      "outputs": [],
      "source": [],
      "metadata": {
        "collapsed": false,
        "ExecuteTime": {
          "end_time": "2024-10-04T08:31:52.588476Z",
          "start_time": "2024-10-04T08:31:52.345171100Z"
        }
      },
      "id": "b1ba6f2d0410467c",
      "execution_count": 8
    },
    {
      "cell_type": "markdown",
      "source": [
        "Look at the first three rows of the data. What problem do you see?"
      ],
      "metadata": {
        "collapsed": false
      },
      "id": "116a43ccd0d08833"
    },
    {
      "cell_type": "code",
      "outputs": [],
      "source": [],
      "metadata": {
        "collapsed": false,
        "ExecuteTime": {
          "end_time": "2024-10-04T08:31:53.211811700Z",
          "start_time": "2024-10-04T08:31:52.531140300Z"
        }
      },
      "id": "4ba1e4c54de13475",
      "execution_count": 9
    },
    {
      "cell_type": "markdown",
      "source": [
        "Try to solve the problem by using the header parameter."
      ],
      "metadata": {
        "collapsed": false
      },
      "id": "b1ba9a9d2418cd81"
    },
    {
      "cell_type": "code",
      "outputs": [],
      "source": [],
      "metadata": {
        "collapsed": false,
        "ExecuteTime": {
          "end_time": "2024-10-04T08:31:53.674041600Z",
          "start_time": "2024-10-04T08:31:53.031130900Z"
        }
      },
      "id": "c5bc01194d9495d6",
      "execution_count": 10
    },
    {
      "cell_type": "markdown",
      "source": [
        "## Categorical Variables\n",
        "We start by creating a Pandas Categorical Series. A Categorical Series is a list of values that all come from a certain category. A categorical variable can take on a fixed number of values, which are usually expressed in strings. A categorical variable represents a nominal or ordinal variable, depending on whether the values in the list have a certain order or not.\n",
        "\n",
        "\n",
        "Take your **blood type** as an example. Possible values are:\n",
        "\n",
        "``> O-, O+, B-, B+, A-, A+, AB-, AB+``\n",
        "\n",
        "From the introduction, we know that blood type is a **nominal variable**.\n",
        "You cannot perform calculations with these values. There are also examples where there is an order, for example:\n",
        "\n",
        "Take the degree of agreement as an example. Possible values could be:\\\n",
        "``> none, little, more, most``\\\n",
        "This is clearly an example of an **ordinal variable**.\n",
        "Sometimes the values of a categorical variable are represented by numbers, but they are still categorical variables. Do not be misled by this.\n",
        "\n",
        "From the theory of measurement scales, we know that nominal variables can only be compared (using the = operator) and ordinal variables can at most be sorted (using <, >, = operators).  To work efficiently with these values, an index or category is assigned to them. Because this index is a number, it is much faster to find values of the correct category in a large dataset. Run the following code to create a nominal variable blood types.\n",
        "\n",
        "Run the following code to create a nominal variable blood types.\n",
        "```python\n",
        "values = ['AB-', 'O-', 'B-', 'B-', 'A+', 'AB+', 'O+', 'B-', 'B+', 'A-', 'A+', 'AB-']\n",
        "bloodtype = pd.Categorical(values, categories=['O-','O+','B-','B+','A-','A+','AB-','AB+'])\n",
        "bloodtype\n",
        "```"
      ],
      "metadata": {
        "collapsed": false
      },
      "id": "da78f4b74fef0101"
    },
    {
      "cell_type": "code",
      "source": [],
      "metadata": {
        "collapsed": false,
        "ExecuteTime": {
          "end_time": "2025-02-06T08:11:18.382932Z",
          "start_time": "2025-02-06T08:11:18.362219Z"
        }
      },
      "id": "ffd3e8baab2e5f64",
      "outputs": [],
      "execution_count": 2
    },
    {
      "cell_type": "markdown",
      "source": [
        "Now run the following code to create an ordinal variable akkoord.\n",
        "```python\n",
        "values = ['little', 'more', 'none', 'more', 'little', 'most', 'none']\n",
        "agreement = pd.Categorical(values, categories=['none', 'little', 'more', 'most'], ordered=True)\n",
        "agreement\n",
        "```"
      ],
      "metadata": {
        "collapsed": false
      },
      "id": "e89ebd12d761eff9"
    },
    {
      "cell_type": "code",
      "outputs": [],
      "source": [],
      "metadata": {
        "collapsed": false,
        "ExecuteTime": {
          "end_time": "2024-10-04T08:31:54.399225800Z",
          "start_time": "2024-10-04T08:31:53.903267800Z"
        }
      },
      "id": "fa5a8015b34ad547",
      "execution_count": 12
    },
    {
      "cell_type": "markdown",
      "source": [
        "When reading a csv you can also specify which columns are categorical. This can be done with the dtype parameter. Create a new DataFrame laptops from the file laptops.csv. Specify that the columns cpuGeneration and brand are categorical. \n",
        "_Tip dtype={'col_name':'category', 'col_name2':'category'}_\n",
        " As always, first look at the file to see what the separator is. In this case it will also be important to set the decimal argument correctly."
      ],
      "metadata": {
        "collapsed": false
      },
      "id": "75fcf942f9dd203c"
    },
    {
      "cell_type": "code",
      "outputs": [],
      "source": [],
      "metadata": {
        "collapsed": false,
        "ExecuteTime": {
          "end_time": "2024-10-04T08:31:54.730504900Z",
          "start_time": "2024-10-04T08:31:54.188222400Z"
        }
      },
      "id": "e7760887ed11853a",
      "execution_count": 13
    },
    {
      "cell_type": "markdown",
      "source": [
        "Check the result. cpuGeneration and brand should be of type category and diskspace should be of type float."
      ],
      "metadata": {
        "collapsed": false
      },
      "id": "82c144feaa58f308"
    },
    {
      "cell_type": "code",
      "outputs": [],
      "source": [],
      "metadata": {
        "collapsed": false,
        "ExecuteTime": {
          "end_time": "2024-10-04T08:31:55.108330700Z",
          "start_time": "2024-10-04T08:31:54.739660900Z"
        }
      },
      "id": "229095425966ae17",
      "execution_count": 14
    },
    {
      "cell_type": "markdown",
      "source": [
        "In many cases you will want to convert a column to a categorical variable after reading the file into a dataframe. In case of the dataframe laptops, convert cpuType to a categorical. The cpuType has to be 'oridinal' and the categories should be 'i3', 'i5', 'i7'."
      ],
      "metadata": {
        "collapsed": false
      },
      "id": "792a545b7646ac04"
    },
    {
      "cell_type": "code",
      "outputs": [],
      "source": [],
      "metadata": {
        "collapsed": false,
        "ExecuteTime": {
          "end_time": "2024-10-04T08:31:55.333729400Z",
          "start_time": "2024-10-04T08:31:55.105297600Z"
        }
      },
      "id": "9d1ddbba698b0c41",
      "execution_count": 15
    },
    {
      "cell_type": "markdown",
      "source": [
        "Check whether the column has been converted correctly. Make sure you see < between the categories."
      ],
      "metadata": {
        "collapsed": false
      },
      "id": "75fa16e0cd1ac645"
    },
    {
      "cell_type": "code",
      "outputs": [],
      "source": [],
      "metadata": {
        "collapsed": false,
        "ExecuteTime": {
          "end_time": "2024-10-04T08:31:55.409891800Z",
          "start_time": "2024-10-04T08:31:55.221648700Z"
        }
      },
      "id": "2244a3f9c1d5bb5d",
      "execution_count": 16
    }
  ],
  "metadata": {
    "kernelspec": {
      "display_name": "Python 3",
      "language": "python",
      "name": "python3"
    },
    "language_info": {
      "codemirror_mode": {
        "name": "ipython",
        "version": 2
      },
      "file_extension": ".py",
      "mimetype": "text/x-python",
      "name": "python",
      "nbconvert_exporter": "python",
      "pygments_lexer": "ipython2",
      "version": "2.7.6"
    }
  },
  "nbformat": 4,
  "nbformat_minor": 5
}