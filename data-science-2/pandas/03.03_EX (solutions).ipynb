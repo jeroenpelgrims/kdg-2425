{
 "cells": [
  {
   "metadata": {},
   "cell_type": "markdown",
   "source": [
    "Dataframe 'europe' is a dataframe with the countries of Europe as the index. It contains the columns population and GDP.\\\n",
    "National_dept is stored in a series-object and is only available for a few countries.\\\n",
    "The source-data apperently contained some errors. europe_correction is a series with the same index as 'europe' and contains the correction factors for the data.\\\n",
    " *We asked Copilot to generate the data, so it is probably no accurate data*"
   ],
   "id": "a46fa894d59db45e"
  },
  {
   "cell_type": "code",
   "id": "initial_id",
   "metadata": {
    "collapsed": true,
    "id": "initial_id",
    "ExecuteTime": {
     "end_time": "2025-02-04T11:08:42.825560Z",
     "start_time": "2025-02-04T11:08:40.318204Z"
    }
   },
   "source": [
    "import numpy as np\n",
    "import pandas as pd\n",
    "import sklearn.datasets as ds\n",
    "\n",
    "#Data preperation\n",
    "rng = np.random.default_rng(42)\n",
    "#@copilot: create a dataframe with the countries of europe as the index, with a column population and gbp\n",
    "countries = ['France', 'Germany', 'Italy', 'Spain', 'Portugal', 'Greece', 'Belgium', 'Netherlands', 'Luxembourg', 'Austria', 'Switzerland', 'Denmark', 'Sweden', 'Norway', 'Finland', 'Iceland', 'Ireland', 'United Kingdom']\n",
    "population = [67, 83, 60, 47, 10, 11, 11, 17, 0.6, 9, 8, 6, 10, 5, 5, 0.3, 5, 67]\n",
    "GDP = [2.78, 4.42, 2.08, 1.39, 0.23, 0.18, 0.53, 0.91, 0.06, 0.45, 0.70, 0.35, 0.53, 0.40, 0.27, 0.02, 0.33, 2.83]\n",
    "\n",
    "national_dept = pd.Series([2.36, 2.09, 2.34, 1.18, 2.32], index=['France', 'Belgium', 'Italy', 'Austria', 'Monaco'])\n",
    "europe = pd.DataFrame({'population': population, 'GDP': GDP}, index=countries)\n",
    "europe.sort_index(inplace=True)\n",
    "\n",
    "europe_correction= rng.choice([0.99, 0.98,1.01,1], size=18)"
   ],
   "outputs": [],
   "execution_count": 2
  },
  {
   "cell_type": "markdown",
   "source": [
    "Before you start, familiarize yourself with the dataframe.\n",
    "\n",
    "a. Add a column to the dataframe GDP_per_capita which is the GDP divided by the population. Check the result.\n",
    "\n",
    "b. Create a series national_dept_per_capita with the same index as the dataframe europe. It contains the national_dept divided by the population. Check the result.\n",
    "\n",
    "c. Create a series national_dept_per_capita_b with the same index as the dataframe europe.It contains the national_dept divided by the population. When indexes don't align, the result should be set to 0. Check the result.\n",
    "\n",
    "d. Add national_dept and national_dept_per_capita_b to the dataframe europe\n",
    "\n",
    "e. All numbers in the dataframe have to be corrected, by multiplying every row with the corresponding value in europe_correction.\n",
    "\n",
    "f. population, GDP and national_dept are in billions.Create a new dataframe europe_c with these columns adjusted. Check the result."
   ],
   "metadata": {
    "collapsed": false,
    "id": "f880b1c5f98431c2"
   },
   "id": "f880b1c5f98431c2"
  },
  {
   "cell_type": "code",
   "source": [
    "#SOLUTION_START\n",
    "print(europe)\n",
    "print(europe.describe())\n",
    "print(europe.info())\n",
    "#SOLUTION_END"
   ],
   "metadata": {},
   "id": "c0f3b85fc092a89c",
   "outputs": [],
   "execution_count": null
  },
  {
   "metadata": {
    "id": "b1934291f4c0a242",
    "outputId": "7b6a3178-1de1-4683-f747-5a20b25b3045",
    "ExecuteTime": {
     "end_time": "2025-02-04T11:16:52.754546Z",
     "start_time": "2025-02-04T11:16:52.733292Z"
    }
   },
   "cell_type": "code",
   "outputs": [
    {
     "name": "stdout",
     "output_type": "stream",
     "text": [
      "a:\n",
      "Austria           0.050000\n",
      "Belgium           0.048182\n",
      "Denmark           0.058333\n",
      "Finland           0.054000\n",
      "France            0.041493\n",
      "Germany           0.053253\n",
      "Greece            0.016364\n",
      "Iceland           0.066667\n",
      "Ireland           0.066000\n",
      "Italy             0.034667\n",
      "Luxembourg        0.100000\n",
      "Netherlands       0.053529\n",
      "Norway            0.080000\n",
      "Portugal          0.023000\n",
      "Spain             0.029574\n",
      "Sweden            0.053000\n",
      "Switzerland       0.087500\n",
      "United Kingdom    0.042239\n",
      "Name: GDP_per_capita, dtype: float64\n",
      "b:\n",
      "Austria           1.351244e-28\n",
      "Belgium           1.900000e-28\n",
      "Denmark                    NaN\n",
      "Finland                    NaN\n",
      "France            3.742476e-29\n",
      "Germany                    NaN\n",
      "Greece                     NaN\n",
      "Iceland                    NaN\n",
      "Ireland                    NaN\n",
      "Italy             4.019380e-29\n",
      "Luxembourg                 NaN\n",
      "Monaco                     NaN\n",
      "Netherlands                NaN\n",
      "Norway                     NaN\n",
      "Portugal                   NaN\n",
      "Spain                      NaN\n",
      "Sweden                     NaN\n",
      "Switzerland                NaN\n",
      "United Kingdom             NaN\n",
      "dtype: float64\n",
      "c:\n",
      "Austria           1.351244e-28\n",
      "Belgium           1.900000e-28\n",
      "Denmark           0.000000e+00\n",
      "Finland           0.000000e+00\n",
      "France            3.742476e-29\n",
      "Germany           0.000000e+00\n",
      "Greece            0.000000e+00\n",
      "Iceland           0.000000e+00\n",
      "Ireland           0.000000e+00\n",
      "Italy             4.019380e-29\n",
      "Luxembourg        0.000000e+00\n",
      "Monaco                     inf\n",
      "Netherlands       0.000000e+00\n",
      "Norway            0.000000e+00\n",
      "Portugal          0.000000e+00\n",
      "Spain             0.000000e+00\n",
      "Sweden            0.000000e+00\n",
      "Switzerland       0.000000e+00\n",
      "United Kingdom    0.000000e+00\n",
      "dtype: float64\n",
      "d:\n",
      "e:\n",
      "f:\n",
      "                  population           GDP  GDP_per_capita  national_dept  \\\n",
      "Austria         8.645364e+36  4.322682e+35        0.049500   1.168200e+09   \n",
      "Belgium         1.100000e+37  5.300000e+35        0.048182   2.090000e+09   \n",
      "Denmark         6.243624e+36  3.642114e+35        0.058917            NaN   \n",
      "Finland         4.611841e+36  2.490394e+35        0.052920            NaN   \n",
      "France          6.179867e+37  2.564183e+36        0.040663   2.312800e+09   \n",
      "Germany         8.300000e+37  4.420000e+36        0.053253            NaN   \n",
      "Greece          1.056656e+37  1.729073e+35        0.016200            NaN   \n",
      "Iceland         3.121812e+35  2.081208e+34        0.067333            NaN   \n",
      "Ireland         4.802980e+36  3.169967e+35        0.065340            NaN   \n",
      "Italy           5.763576e+37  1.998040e+36        0.034320   2.316600e+09   \n",
      "Luxembourg      6.243624e+35  6.243624e+34        0.101000            NaN   \n",
      "Netherlands     1.700000e+37  9.100000e+35        0.053529            NaN   \n",
      "Norway          5.203020e+36  4.162416e+35        0.080800            NaN   \n",
      "Portugal        1.000000e+37  2.300000e+35        0.023000            NaN   \n",
      "Spain           4.890839e+37  1.446440e+36        0.029870            NaN   \n",
      "Sweden          1.000000e+37  5.300000e+35        0.053000            NaN   \n",
      "Switzerland     8.324832e+36  7.284228e+35        0.088375            NaN   \n",
      "United Kingdom  6.435993e+37  2.718487e+36        0.041816            NaN   \n",
      "\n",
      "                national_dept_per_capita  \n",
      "Austria                     1.337732e-28  \n",
      "Belgium                     1.900000e-28  \n",
      "Denmark                     0.000000e+00  \n",
      "Finland                     0.000000e+00  \n",
      "France                      3.667626e-29  \n",
      "Germany                     0.000000e+00  \n",
      "Greece                      0.000000e+00  \n",
      "Iceland                     0.000000e+00  \n",
      "Ireland                     0.000000e+00  \n",
      "Italy                       3.979186e-29  \n",
      "Luxembourg                  0.000000e+00  \n",
      "Netherlands                 0.000000e+00  \n",
      "Norway                      0.000000e+00  \n",
      "Portugal                    0.000000e+00  \n",
      "Spain                       0.000000e+00  \n",
      "Sweden                      0.000000e+00  \n",
      "Switzerland                 0.000000e+00  \n",
      "United Kingdom              0.000000e+00  \n"
     ]
    }
   ],
   "execution_count": 6,
   "source": [
    "#SOLUTION_START\n",
    "#a\n",
    "print(\"a:\")\n",
    "europe['GDP_per_capita'] = europe['GDP'] / europe['population']\n",
    "print(europe['GDP_per_capita'])\n",
    "#b\n",
    "print(\"b:\")\n",
    "national_dept_per_capita = national_dept / europe['population']\n",
    "print(national_dept_per_capita)\n",
    "#c\n",
    "print(\"c:\")\n",
    "national_dept_per_capita_b = national_dept.div(europe['population'], fill_value=0)\n",
    "# we use the 'div' method to divide the series. The 'fill_value' argument is used to fill missing values with 0. div is the equivalent of the / operator in Pandas.\n",
    "print(national_dept_per_capita_b)\n",
    "#d\n",
    "print(\"d:\")\n",
    "europe['national_dept'] = national_dept\n",
    "europe['national_dept_per_capita'] = national_dept_per_capita_b\n",
    "# e\n",
    "print(\"e:\")\n",
    "europe = europe.multiply(europe_correction, axis=0)\n",
    "#Perhaps you tried 'europe2= europe * europe_correction'. This does not work because broadcasting works row-wise in Pandas by default. If you want to multiply column-wise, you need to use the 'multiply' method.\n",
    "# f\n",
    "print(\"f:\")\n",
    "europe[['population', 'GDP', 'national_dept']] *= 1e9\n",
    "print(europe)\n",
    "#SOLUTION_END"
   ],
   "id": "b1934291f4c0a242"
  },
  {
   "metadata": {
    "ExecuteTime": {
     "end_time": "2025-02-04T11:08:43.188634Z",
     "start_time": "2025-02-04T11:08:43.175750Z"
    }
   },
   "cell_type": "code",
   "source": "",
   "id": "3c17c8168c5f828b",
   "outputs": [],
   "execution_count": null
  }
 ],
 "metadata": {
  "kernelspec": {
   "display_name": "Python 3",
   "language": "python",
   "name": "python3"
  },
  "language_info": {
   "codemirror_mode": {
    "name": "ipython",
    "version": 2
   },
   "file_extension": ".py",
   "mimetype": "text/x-python",
   "name": "python",
   "nbconvert_exporter": "python",
   "pygments_lexer": "ipython2",
   "version": "2.7.6"
  },
  "colab": {
   "provenance": []
  }
 },
 "nbformat": 4,
 "nbformat_minor": 5
}
