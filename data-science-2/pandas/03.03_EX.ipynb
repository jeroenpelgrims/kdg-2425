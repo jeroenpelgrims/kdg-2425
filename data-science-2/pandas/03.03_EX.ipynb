{
  "cells": [
    {
      "metadata": {},
      "cell_type": "markdown",
      "source": [
        "Dataframe 'europe' is a dataframe with the countries of Europe as the index. It contains the columns population and GDP.\\\n",
        "National_dept is stored in a series-object and is only available for a few countries.\\\n",
        "The source-data apperently contained some errors. europe_correction is a series with the same index as 'europe' and contains the correction factors for the data.\\\n",
        " *We asked Copilot to generate the data, so it is probably no accurate data*"
      ],
      "id": "a46fa894d59db45e"
    },
    {
      "cell_type": "code",
      "id": "initial_id",
      "metadata": {
        "collapsed": true,
        "id": "initial_id",
        "ExecuteTime": {
          "end_time": "2025-02-04T11:08:42.825560Z",
          "start_time": "2025-02-04T11:08:40.318204Z"
        }
      },
      "source": [
        "import numpy as np\n",
        "import pandas as pd\n",
        "import sklearn.datasets as ds\n",
        "\n",
        "#Data preperation\n",
        "rng = np.random.default_rng(42)\n",
        "#@copilot: create a dataframe with the countries of europe as the index, with a column population and gbp\n",
        "countries = ['France', 'Germany', 'Italy', 'Spain', 'Portugal', 'Greece', 'Belgium', 'Netherlands', 'Luxembourg', 'Austria', 'Switzerland', 'Denmark', 'Sweden', 'Norway', 'Finland', 'Iceland', 'Ireland', 'United Kingdom']\n",
        "population = [67, 83, 60, 47, 10, 11, 11, 17, 0.6, 9, 8, 6, 10, 5, 5, 0.3, 5, 67]\n",
        "GDP = [2.78, 4.42, 2.08, 1.39, 0.23, 0.18, 0.53, 0.91, 0.06, 0.45, 0.70, 0.35, 0.53, 0.40, 0.27, 0.02, 0.33, 2.83]\n",
        "\n",
        "national_dept = pd.Series([2.36, 2.09, 2.34, 1.18, 2.32], index=['France', 'Belgium', 'Italy', 'Austria', 'Monaco'])\n",
        "europe = pd.DataFrame({'population': population, 'GDP': GDP}, index=countries)\n",
        "europe.sort_index(inplace=True)\n",
        "\n",
        "europe_correction= rng.choice([0.99, 0.98,1.01,1], size=18)"
      ],
      "outputs": [],
      "execution_count": 2
    },
    {
      "cell_type": "markdown",
      "source": [
        "Before you start, familiarize yourself with the dataframe.\n",
        "\n",
        "a. Add a column to the dataframe GDP_per_capita which is the GDP divided by the population. Check the result.\n",
        "\n",
        "b. Create a series national_dept_per_capita with the same index as the dataframe europe. It contains the national_dept divided by the population. Check the result.\n",
        "\n",
        "c. Create a series national_dept_per_capita_b with the same index as the dataframe europe.It contains the national_dept divided by the population. When indexes don't align, the result should be set to 0. Check the result.\n",
        "\n",
        "d. Add national_dept and national_dept_per_capita_b to the dataframe europe\n",
        "\n",
        "e. All numbers in the dataframe have to be corrected, by multiplying every row with the corresponding value in europe_correction.\n",
        "\n",
        "f. population, GDP and national_dept are in billions.Create a new dataframe europe_c with these columns adjusted. Check the result."
      ],
      "metadata": {
        "collapsed": false,
        "id": "f880b1c5f98431c2"
      },
      "id": "f880b1c5f98431c2"
    },
    {
      "cell_type": "code",
      "source": [],
      "metadata": {},
      "id": "c0f3b85fc092a89c",
      "outputs": [],
      "execution_count": null
    },
    {
      "metadata": {
        "id": "b1934291f4c0a242",
        "outputId": "7b6a3178-1de1-4683-f747-5a20b25b3045",
        "ExecuteTime": {
          "end_time": "2025-02-04T11:16:52.754546Z",
          "start_time": "2025-02-04T11:16:52.733292Z"
        }
      },
      "cell_type": "code",
      "outputs": [],
      "execution_count": 6,
      "source": [],
      "id": "b1934291f4c0a242"
    },
    {
      "metadata": {
        "ExecuteTime": {
          "end_time": "2025-02-04T11:08:43.188634Z",
          "start_time": "2025-02-04T11:08:43.175750Z"
        }
      },
      "cell_type": "code",
      "source": [],
      "id": "3c17c8168c5f828b",
      "outputs": [],
      "execution_count": null
    }
  ],
  "metadata": {
    "kernelspec": {
      "display_name": "Python 3",
      "language": "python",
      "name": "python3"
    },
    "language_info": {
      "codemirror_mode": {
        "name": "ipython",
        "version": 2
      },
      "file_extension": ".py",
      "mimetype": "text/x-python",
      "name": "python",
      "nbconvert_exporter": "python",
      "pygments_lexer": "ipython2",
      "version": "2.7.6"
    },
    "colab": {
      "provenance": []
    }
  },
  "nbformat": 4,
  "nbformat_minor": 5
}