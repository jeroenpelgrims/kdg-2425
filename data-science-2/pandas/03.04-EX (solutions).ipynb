{
 "cells": [
  {
   "metadata": {},
   "cell_type": "markdown",
   "source": "Dataframe 'europe' is a dataframe with the countries of Europe as the index. It's a variant on the dataframe from the previous exercise.",
   "id": "24592bd480c7900c"
  },
  {
   "cell_type": "code",
   "execution_count": 1,
   "id": "initial_id",
   "metadata": {
    "collapsed": true,
    "id": "initial_id",
    "ExecuteTime": {
     "end_time": "2024-10-04T07:55:10.758762900Z",
     "start_time": "2024-10-04T07:55:08.080795Z"
    }
   },
   "outputs": [
    {
     "name": "stdout",
     "output_type": "stream",
     "text": [
      "<class 'pandas.core.frame.DataFrame'>\n",
      "Index: 18 entries, France to United Kingdom\n",
      "Data columns (total 3 columns):\n",
      " #   Column         Non-Null Count  Dtype  \n",
      "---  ------         --------------  -----  \n",
      " 0   population     18 non-null     Float32\n",
      " 1   GDP            17 non-null     Float32\n",
      " 2   national_dept  4 non-null      Float32\n",
      "dtypes: Float32(3)\n",
      "memory usage: 970.0+ bytes\n"
     ]
    },
    {
     "data": {
      "text/plain": "                population   GDP  national_dept\nFrance                67.0  2.78           2.36\nGermany               83.0  4.42           <NA>\nItaly                 60.0  2.08           2.34\nSpain                 47.0  1.39           <NA>\nPortugal              10.0  0.23           <NA>\nGreece                11.0  0.18           <NA>\nBelgium               11.0  0.53           2.09\nNetherlands           17.0  0.91           <NA>\nLuxembourg             0.6  0.06           <NA>\nAustria                9.0  0.45           1.18\nSwitzerland            8.0  <NA>           <NA>\nDenmark                6.0  0.35           <NA>\nSweden                10.0  0.53           <NA>\nNorway                 5.0   0.4           <NA>\nFinland                5.0  0.27           <NA>\nIceland                0.3  0.02           <NA>\nIreland                5.0  0.33           <NA>\nUnited Kingdom        67.0  2.83           <NA>",
      "text/html": "<div>\n<style scoped>\n    .dataframe tbody tr th:only-of-type {\n        vertical-align: middle;\n    }\n\n    .dataframe tbody tr th {\n        vertical-align: top;\n    }\n\n    .dataframe thead th {\n        text-align: right;\n    }\n</style>\n<table border=\"1\" class=\"dataframe\">\n  <thead>\n    <tr style=\"text-align: right;\">\n      <th></th>\n      <th>population</th>\n      <th>GDP</th>\n      <th>national_dept</th>\n    </tr>\n  </thead>\n  <tbody>\n    <tr>\n      <th>France</th>\n      <td>67.0</td>\n      <td>2.78</td>\n      <td>2.36</td>\n    </tr>\n    <tr>\n      <th>Germany</th>\n      <td>83.0</td>\n      <td>4.42</td>\n      <td>&lt;NA&gt;</td>\n    </tr>\n    <tr>\n      <th>Italy</th>\n      <td>60.0</td>\n      <td>2.08</td>\n      <td>2.34</td>\n    </tr>\n    <tr>\n      <th>Spain</th>\n      <td>47.0</td>\n      <td>1.39</td>\n      <td>&lt;NA&gt;</td>\n    </tr>\n    <tr>\n      <th>Portugal</th>\n      <td>10.0</td>\n      <td>0.23</td>\n      <td>&lt;NA&gt;</td>\n    </tr>\n    <tr>\n      <th>Greece</th>\n      <td>11.0</td>\n      <td>0.18</td>\n      <td>&lt;NA&gt;</td>\n    </tr>\n    <tr>\n      <th>Belgium</th>\n      <td>11.0</td>\n      <td>0.53</td>\n      <td>2.09</td>\n    </tr>\n    <tr>\n      <th>Netherlands</th>\n      <td>17.0</td>\n      <td>0.91</td>\n      <td>&lt;NA&gt;</td>\n    </tr>\n    <tr>\n      <th>Luxembourg</th>\n      <td>0.6</td>\n      <td>0.06</td>\n      <td>&lt;NA&gt;</td>\n    </tr>\n    <tr>\n      <th>Austria</th>\n      <td>9.0</td>\n      <td>0.45</td>\n      <td>1.18</td>\n    </tr>\n    <tr>\n      <th>Switzerland</th>\n      <td>8.0</td>\n      <td>&lt;NA&gt;</td>\n      <td>&lt;NA&gt;</td>\n    </tr>\n    <tr>\n      <th>Denmark</th>\n      <td>6.0</td>\n      <td>0.35</td>\n      <td>&lt;NA&gt;</td>\n    </tr>\n    <tr>\n      <th>Sweden</th>\n      <td>10.0</td>\n      <td>0.53</td>\n      <td>&lt;NA&gt;</td>\n    </tr>\n    <tr>\n      <th>Norway</th>\n      <td>5.0</td>\n      <td>0.4</td>\n      <td>&lt;NA&gt;</td>\n    </tr>\n    <tr>\n      <th>Finland</th>\n      <td>5.0</td>\n      <td>0.27</td>\n      <td>&lt;NA&gt;</td>\n    </tr>\n    <tr>\n      <th>Iceland</th>\n      <td>0.3</td>\n      <td>0.02</td>\n      <td>&lt;NA&gt;</td>\n    </tr>\n    <tr>\n      <th>Ireland</th>\n      <td>5.0</td>\n      <td>0.33</td>\n      <td>&lt;NA&gt;</td>\n    </tr>\n    <tr>\n      <th>United Kingdom</th>\n      <td>67.0</td>\n      <td>2.83</td>\n      <td>&lt;NA&gt;</td>\n    </tr>\n  </tbody>\n</table>\n</div>"
     },
     "execution_count": 1,
     "metadata": {},
     "output_type": "execute_result"
    }
   ],
   "source": [
    "import numpy as np\n",
    "import pandas as pd\n",
    "#Data preparation\n",
    "countries = ['France', 'Germany', 'Italy', 'Spain', 'Portugal', 'Greece', 'Belgium', 'Netherlands', 'Luxembourg', 'Austria', 'Switzerland', 'Denmark', 'Sweden', 'Norway', 'Finland', 'Iceland', 'Ireland', 'United Kingdom']\n",
    "population = [67, 83, 60, 47, 10, 11, 11, 17, 0.6, 9, 8, 6, 10, 5, 5, 0.3, 5, 67]\n",
    "GDP = [2.78, 4.42, 2.08, 1.39, 0.23, 0.18, 0.53, 0.91, 0.06, 0.45, 0.70, 0.35, 0.53, 0.40, 0.27, 0.02, 0.33, 2.83]\n",
    "national_dept = pd.Series([2.36, 2.09, 2.34, 1.18, 2.32], index=['France', 'Belgium', 'Italy', 'Austria', 'Monaco'])\n",
    "europe = pd.DataFrame({'population': population, 'GDP': GDP}, index=countries)\n",
    "europe['national_dept'] = national_dept\n",
    "europe = europe.astype('Float32')\n",
    "europe.loc['Switzerland','GDP'] = pd.NA\n",
    "europe.info()\n",
    "europe"
   ]
  },
  {
   "cell_type": "markdown",
   "source": [
    "## Missing values in Pandas\n",
    "Investigate the dataframe europe.\n",
    "\n",
    "a. Create a ndarray with boolean values that are True when a specific value of the europe dataset is Null.\n",
    "\n",
    "b. Create a copy europe_b of the europe dataset. Drop all rows where at least one element is missing.\n",
    "\n",
    "c. With only a few countries left in the dataset it is clear that we will have to use another strategy:\n",
    "- Create a copy europe_c of the europe dataset.\n",
    "- For GDP replace the missing values by the mean of the GDP values. (This is of course not a good strategy in practice, but it is a good exercise).\n",
    "- After that delete the columns that still have missing values.\n",
    "- Check the results"
   ],
   "metadata": {
    "collapsed": false,
    "id": "a554da550d1daeda"
   },
   "id": "a554da550d1daeda"
  },
  {
   "cell_type": "code",
   "outputs": [
    {
     "data": {
      "text/plain": "                population    GDP  national_dept\nFrance               False  False          False\nGermany              False  False           True\nItaly                False  False          False\nSpain                False  False           True\nPortugal             False  False           True\nGreece               False  False           True\nBelgium              False  False          False\nNetherlands          False  False           True\nLuxembourg           False  False           True\nAustria              False  False          False\nSwitzerland          False   True           True\nDenmark              False  False           True\nSweden               False  False           True\nNorway               False  False           True\nFinland              False  False           True\nIceland              False  False           True\nIreland              False  False           True\nUnited Kingdom       False  False           True",
      "text/html": "<div>\n<style scoped>\n    .dataframe tbody tr th:only-of-type {\n        vertical-align: middle;\n    }\n\n    .dataframe tbody tr th {\n        vertical-align: top;\n    }\n\n    .dataframe thead th {\n        text-align: right;\n    }\n</style>\n<table border=\"1\" class=\"dataframe\">\n  <thead>\n    <tr style=\"text-align: right;\">\n      <th></th>\n      <th>population</th>\n      <th>GDP</th>\n      <th>national_dept</th>\n    </tr>\n  </thead>\n  <tbody>\n    <tr>\n      <th>France</th>\n      <td>False</td>\n      <td>False</td>\n      <td>False</td>\n    </tr>\n    <tr>\n      <th>Germany</th>\n      <td>False</td>\n      <td>False</td>\n      <td>True</td>\n    </tr>\n    <tr>\n      <th>Italy</th>\n      <td>False</td>\n      <td>False</td>\n      <td>False</td>\n    </tr>\n    <tr>\n      <th>Spain</th>\n      <td>False</td>\n      <td>False</td>\n      <td>True</td>\n    </tr>\n    <tr>\n      <th>Portugal</th>\n      <td>False</td>\n      <td>False</td>\n      <td>True</td>\n    </tr>\n    <tr>\n      <th>Greece</th>\n      <td>False</td>\n      <td>False</td>\n      <td>True</td>\n    </tr>\n    <tr>\n      <th>Belgium</th>\n      <td>False</td>\n      <td>False</td>\n      <td>False</td>\n    </tr>\n    <tr>\n      <th>Netherlands</th>\n      <td>False</td>\n      <td>False</td>\n      <td>True</td>\n    </tr>\n    <tr>\n      <th>Luxembourg</th>\n      <td>False</td>\n      <td>False</td>\n      <td>True</td>\n    </tr>\n    <tr>\n      <th>Austria</th>\n      <td>False</td>\n      <td>False</td>\n      <td>False</td>\n    </tr>\n    <tr>\n      <th>Switzerland</th>\n      <td>False</td>\n      <td>True</td>\n      <td>True</td>\n    </tr>\n    <tr>\n      <th>Denmark</th>\n      <td>False</td>\n      <td>False</td>\n      <td>True</td>\n    </tr>\n    <tr>\n      <th>Sweden</th>\n      <td>False</td>\n      <td>False</td>\n      <td>True</td>\n    </tr>\n    <tr>\n      <th>Norway</th>\n      <td>False</td>\n      <td>False</td>\n      <td>True</td>\n    </tr>\n    <tr>\n      <th>Finland</th>\n      <td>False</td>\n      <td>False</td>\n      <td>True</td>\n    </tr>\n    <tr>\n      <th>Iceland</th>\n      <td>False</td>\n      <td>False</td>\n      <td>True</td>\n    </tr>\n    <tr>\n      <th>Ireland</th>\n      <td>False</td>\n      <td>False</td>\n      <td>True</td>\n    </tr>\n    <tr>\n      <th>United Kingdom</th>\n      <td>False</td>\n      <td>False</td>\n      <td>True</td>\n    </tr>\n  </tbody>\n</table>\n</div>"
     },
     "execution_count": 2,
     "metadata": {},
     "output_type": "execute_result"
    },
    {
     "name": "stdout",
     "output_type": "stream",
     "text": [
      "         population   GDP  national_dept\n",
      "France         67.0  2.78           2.36\n",
      "Italy          60.0  2.08           2.34\n",
      "Belgium        11.0  0.53           2.09\n",
      "Austria         9.0  0.45           1.18\n"
     ]
    },
    {
     "data": {
      "text/plain": "                population       GDP\nFrance                67.0      2.78\nGermany               83.0      4.42\nItaly                 60.0      2.08\nSpain                 47.0      1.39\nPortugal              10.0      0.23\nGreece                11.0      0.18\nBelgium               11.0      0.53\nNetherlands           17.0      0.91\nLuxembourg             0.6      0.06\nAustria                9.0      0.45\nSwitzerland            8.0  1.044706\nDenmark                6.0      0.35\nSweden                10.0      0.53\nNorway                 5.0       0.4\nFinland                5.0      0.27\nIceland                0.3      0.02\nIreland                5.0      0.33\nUnited Kingdom        67.0      2.83",
      "text/html": "<div>\n<style scoped>\n    .dataframe tbody tr th:only-of-type {\n        vertical-align: middle;\n    }\n\n    .dataframe tbody tr th {\n        vertical-align: top;\n    }\n\n    .dataframe thead th {\n        text-align: right;\n    }\n</style>\n<table border=\"1\" class=\"dataframe\">\n  <thead>\n    <tr style=\"text-align: right;\">\n      <th></th>\n      <th>population</th>\n      <th>GDP</th>\n    </tr>\n  </thead>\n  <tbody>\n    <tr>\n      <th>France</th>\n      <td>67.0</td>\n      <td>2.78</td>\n    </tr>\n    <tr>\n      <th>Germany</th>\n      <td>83.0</td>\n      <td>4.42</td>\n    </tr>\n    <tr>\n      <th>Italy</th>\n      <td>60.0</td>\n      <td>2.08</td>\n    </tr>\n    <tr>\n      <th>Spain</th>\n      <td>47.0</td>\n      <td>1.39</td>\n    </tr>\n    <tr>\n      <th>Portugal</th>\n      <td>10.0</td>\n      <td>0.23</td>\n    </tr>\n    <tr>\n      <th>Greece</th>\n      <td>11.0</td>\n      <td>0.18</td>\n    </tr>\n    <tr>\n      <th>Belgium</th>\n      <td>11.0</td>\n      <td>0.53</td>\n    </tr>\n    <tr>\n      <th>Netherlands</th>\n      <td>17.0</td>\n      <td>0.91</td>\n    </tr>\n    <tr>\n      <th>Luxembourg</th>\n      <td>0.6</td>\n      <td>0.06</td>\n    </tr>\n    <tr>\n      <th>Austria</th>\n      <td>9.0</td>\n      <td>0.45</td>\n    </tr>\n    <tr>\n      <th>Switzerland</th>\n      <td>8.0</td>\n      <td>1.044706</td>\n    </tr>\n    <tr>\n      <th>Denmark</th>\n      <td>6.0</td>\n      <td>0.35</td>\n    </tr>\n    <tr>\n      <th>Sweden</th>\n      <td>10.0</td>\n      <td>0.53</td>\n    </tr>\n    <tr>\n      <th>Norway</th>\n      <td>5.0</td>\n      <td>0.4</td>\n    </tr>\n    <tr>\n      <th>Finland</th>\n      <td>5.0</td>\n      <td>0.27</td>\n    </tr>\n    <tr>\n      <th>Iceland</th>\n      <td>0.3</td>\n      <td>0.02</td>\n    </tr>\n    <tr>\n      <th>Ireland</th>\n      <td>5.0</td>\n      <td>0.33</td>\n    </tr>\n    <tr>\n      <th>United Kingdom</th>\n      <td>67.0</td>\n      <td>2.83</td>\n    </tr>\n  </tbody>\n</table>\n</div>"
     },
     "execution_count": 2,
     "metadata": {},
     "output_type": "execute_result"
    }
   ],
   "source": [
    "#SOLUTION_START\n",
    "#a.\n",
    "europe.isnull()\n",
    "#b.\n",
    "europe_b = europe.dropna()\n",
    "print(europe_b)\n",
    "#c\n",
    "europe_c = europe.copy()\n",
    "europe_c['GDP'] = europe_c['GDP'].fillna(europe_c['GDP'].mean())\n",
    "europe_c = europe_c.dropna(axis='columns')\n",
    "europe_c\n",
    "#SOLUTION_END"
   ],
   "metadata": {
    "id": "40f53bd07066082c",
    "ExecuteTime": {
     "end_time": "2024-10-04T07:55:10.965357300Z",
     "start_time": "2024-10-04T07:55:10.735830600Z"
    }
   },
   "id": "40f53bd07066082c",
   "execution_count": 2
  }
 ],
 "metadata": {
  "kernelspec": {
   "display_name": "Python 3",
   "language": "python",
   "name": "python3"
  },
  "language_info": {
   "codemirror_mode": {
    "name": "ipython",
    "version": 2
   },
   "file_extension": ".py",
   "mimetype": "text/x-python",
   "name": "python",
   "nbconvert_exporter": "python",
   "pygments_lexer": "ipython2",
   "version": "2.7.6"
  },
  "colab": {
   "provenance": []
  }
 },
 "nbformat": 4,
 "nbformat_minor": 5
}
