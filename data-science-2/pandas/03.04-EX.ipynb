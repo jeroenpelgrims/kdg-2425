{
  "cells": [
    {
      "metadata": {},
      "cell_type": "markdown",
      "source": "Dataframe 'europe' is a dataframe with the countries of Europe as the index. It's a variant on the dataframe from the previous exercise.",
      "id": "24592bd480c7900c"
    },
    {
      "cell_type": "code",
      "execution_count": 1,
      "id": "initial_id",
      "metadata": {
        "collapsed": true,
        "id": "initial_id",
        "ExecuteTime": {
          "end_time": "2024-10-04T07:55:10.758762900Z",
          "start_time": "2024-10-04T07:55:08.080795Z"
        }
      },
      "outputs": [],
      "source": [
        "import numpy as np\n",
        "import pandas as pd\n",
        "#Data preparation\n",
        "countries = ['France', 'Germany', 'Italy', 'Spain', 'Portugal', 'Greece', 'Belgium', 'Netherlands', 'Luxembourg', 'Austria', 'Switzerland', 'Denmark', 'Sweden', 'Norway', 'Finland', 'Iceland', 'Ireland', 'United Kingdom']\n",
        "population = [67, 83, 60, 47, 10, 11, 11, 17, 0.6, 9, 8, 6, 10, 5, 5, 0.3, 5, 67]\n",
        "GDP = [2.78, 4.42, 2.08, 1.39, 0.23, 0.18, 0.53, 0.91, 0.06, 0.45, 0.70, 0.35, 0.53, 0.40, 0.27, 0.02, 0.33, 2.83]\n",
        "national_dept = pd.Series([2.36, 2.09, 2.34, 1.18, 2.32], index=['France', 'Belgium', 'Italy', 'Austria', 'Monaco'])\n",
        "europe = pd.DataFrame({'population': population, 'GDP': GDP}, index=countries)\n",
        "europe['national_dept'] = national_dept\n",
        "europe = europe.astype('Float32')\n",
        "europe.loc['Switzerland','GDP'] = pd.NA\n",
        "europe.info()\n",
        "europe"
      ]
    },
    {
      "cell_type": "markdown",
      "source": [
        "## Missing values in Pandas\n",
        "Investigate the dataframe europe.\n",
        "\n",
        "a. Create a ndarray with boolean values that are True when a specific value of the europe dataset is Null.\n",
        "\n",
        "b. Create a copy europe_b of the europe dataset. Drop all rows where at least one element is missing.\n",
        "\n",
        "c. With only a few countries left in the dataset it is clear that we will have to use another strategy:\n",
        "- Create a copy europe_c of the europe dataset.\n",
        "- For GDP replace the missing values by the mean of the GDP values. (This is of course not a good strategy in practice, but it is a good exercise).\n",
        "- After that delete the columns that still have missing values.\n",
        "- Check the results"
      ],
      "metadata": {
        "collapsed": false,
        "id": "a554da550d1daeda"
      },
      "id": "a554da550d1daeda"
    },
    {
      "cell_type": "code",
      "outputs": [],
      "source": [],
      "metadata": {
        "id": "40f53bd07066082c",
        "ExecuteTime": {
          "end_time": "2024-10-04T07:55:10.965357300Z",
          "start_time": "2024-10-04T07:55:10.735830600Z"
        }
      },
      "id": "40f53bd07066082c",
      "execution_count": 2
    }
  ],
  "metadata": {
    "kernelspec": {
      "display_name": "Python 3",
      "language": "python",
      "name": "python3"
    },
    "language_info": {
      "codemirror_mode": {
        "name": "ipython",
        "version": 2
      },
      "file_extension": ".py",
      "mimetype": "text/x-python",
      "name": "python",
      "nbconvert_exporter": "python",
      "pygments_lexer": "ipython2",
      "version": "2.7.6"
    },
    "colab": {
      "provenance": []
    }
  },
  "nbformat": 4,
  "nbformat_minor": 5
}