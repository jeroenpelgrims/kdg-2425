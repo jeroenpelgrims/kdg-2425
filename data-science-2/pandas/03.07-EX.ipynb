{
  "cells": [
    {
      "metadata": {},
      "cell_type": "markdown",
      "source": "The datasets in this exercise are imported from csv-files. You will learn how to do this in a seperate course.",
      "id": "af9459fc70bbabd8"
    },
    {
      "cell_type": "code",
      "source": [
        "import pandas as pd\n",
        "import numpy as np\n",
        "\n",
        "df_customer = pd.read_csv('../../datasets/customer.csv')\n",
        "df_sales = pd.read_csv('../../datasets/sales.csv')\n",
        "df_product = pd.read_csv('../../datasets/products.csv')\n",
        "df_prod_supplier=pd.read_csv('../../datasets/prod_suppliers.csv')\n",
        "df_supplier=pd.read_csv('../../datasets/suppliers.csv')\n",
        "df_prod_supplier2=pd.read_csv('../../datasets/prod_suppliers2.csv')\n",
        "df_product1=pd.read_csv('../../datasets/products.csv')\n",
        "df_product2=pd.read_csv('../../datasets/products2.csv')\n",
        "df_product3=pd.read_csv('../../datasets/products3.csv')\n"
      ],
      "metadata": {
        "id": "47cb13143eec58f1",
        "ExecuteTime": {
          "end_time": "2025-02-04T12:43:36.308180Z",
          "start_time": "2025-02-04T12:43:35.794502Z"
        }
      },
      "id": "47cb13143eec58f1",
      "outputs": [],
      "execution_count": 11
    },
    {
      "metadata": {
        "ExecuteTime": {
          "end_time": "2025-02-04T12:43:36.364809Z",
          "start_time": "2025-02-04T12:43:36.338209Z"
        }
      },
      "cell_type": "code",
      "source": [
        "df_courses = pd.DataFrame({\n",
        "    'major': ['AI', 'AI','AI','Infrastructure & System Engineering','Infrastructure & System Engineering', 'Infrastructure & System Engineering','Application Development','Application Development','Application Development','Application Development','Application Development','Application Development'],\n",
        "    'courses': [\n",
        "        'Machine Learning', 'Deep Learning', 'Natural Language Processing',\n",
        "        'Network Security', 'Cloud Computing', 'Database Management',\n",
        "        'Software Engineering', 'Systems Design', 'Embedded Systems',\n",
        "        'Web Development', 'Mobile App Development', 'Software Testing'\n",
        "    ]\n",
        "})\n",
        "df_students= pd.DataFrame({\n",
        "    'student_name': ['Alice', 'Bob', 'Charlie', 'David', 'Eva', 'Frank'],\n",
        "    'major': ['AI', 'Infrastructure & System Engineering', 'Infrastructure & System Engineering', 'Application Development', 'AI', 'Application Development']\n",
        "})\n",
        "\n",
        "data={'Student_name':['Alice','Frank','Ali'],'Minor':['French communication','LLM','Cybersecurity']}\n",
        "df_minor=pd.DataFrame(data)\n",
        "df_minor"
      ],
      "id": "ff65c33393e83b4c",
      "outputs": [],
      "execution_count": 12
    },
    {
      "cell_type": "markdown",
      "source": [
        "## Merge and joins\n",
        "Five dataframes are given: customer, sales, products, prod_supplier and supplier. Investigate the dataframes.\n"
      ],
      "metadata": {
        "collapsed": false,
        "id": "93bbd0114c707ad7"
      },
      "id": "93bbd0114c707ad7"
    },
    {
      "metadata": {
        "ExecuteTime": {
          "end_time": "2025-02-04T12:43:36.750660Z",
          "start_time": "2025-02-04T12:43:36.677176Z"
        }
      },
      "cell_type": "code",
      "source": [],
      "id": "958aa9c5c010dea6",
      "outputs": [],
      "execution_count": 13
    },
    {
      "metadata": {},
      "cell_type": "markdown",
      "source": [
        "\n",
        "### One-to-one joins"
      ],
      "id": "f2a4d4228b18730f"
    },
    {
      "metadata": {},
      "cell_type": "markdown",
      "source": "a. Construct a new dataframe df_product_extended which adds the columns 'supp_id' and 'suppliername' from df_prod_supplier to df_products.Verify if the operation is ok.",
      "id": "db72f15539dc2381"
    },
    {
      "metadata": {
        "ExecuteTime": {
          "end_time": "2025-02-04T12:43:38.022393Z",
          "start_time": "2025-02-04T12:43:37.986155Z"
        }
      },
      "cell_type": "code",
      "source": [],
      "id": "f795558c63707201",
      "outputs": [],
      "execution_count": 14
    },
    {
      "metadata": {},
      "cell_type": "markdown",
      "source": [
        "\n",
        "b. What did you notice about the merge?"
      ],
      "id": "49cce7092f9ceca"
    },
    {
      "metadata": {
        "ExecuteTime": {
          "end_time": "2025-02-04T12:43:39.221137Z",
          "start_time": "2025-02-04T12:43:39.212462Z"
        }
      },
      "cell_type": "code",
      "source": [],
      "id": "db0ff7138fb54e28",
      "outputs": [],
      "execution_count": 15
    },
    {
      "metadata": {},
      "cell_type": "markdown",
      "source": "### Many-to-one joins (similar to SQL INNER JOIN)",
      "id": "e494cbb24221d91f"
    },
    {
      "metadata": {},
      "cell_type": "markdown",
      "source": "a. How can we create a table with the prod_supplier information and also the emails, phone numbers and address of the suppliers? Identify the new dataframe as df_prod_extended_supplier\n",
      "id": "29eb573eb656dece"
    },
    {
      "metadata": {
        "ExecuteTime": {
          "end_time": "2025-02-04T12:43:41.029326Z",
          "start_time": "2025-02-04T12:43:41.004227Z"
        }
      },
      "cell_type": "code",
      "source": [],
      "id": "8cd1f6dc0da14a38",
      "outputs": [],
      "execution_count": 16
    },
    {
      "metadata": {
        "ExecuteTime": {
          "end_time": "2025-02-04T12:43:41.824029Z",
          "start_time": "2025-02-04T12:43:41.807182Z"
        }
      },
      "cell_type": "code",
      "source": [],
      "id": "d6532ae1a0d19e41",
      "outputs": [],
      "execution_count": 17
    },
    {
      "metadata": {},
      "cell_type": "markdown",
      "source": [
        "\n",
        "b. What happens when in one of the files you have supplier_name instead of suppliername?\n"
      ],
      "id": "7fa2b823f932f3db"
    },
    {
      "metadata": {
        "ExecuteTime": {
          "end_time": "2025-02-04T12:43:42.617457Z",
          "start_time": "2025-02-04T12:43:42.607167Z"
        }
      },
      "cell_type": "code",
      "source": [],
      "id": "1120bd843a5feead",
      "outputs": [],
      "execution_count": 18
    },
    {
      "metadata": {},
      "cell_type": "markdown",
      "source": "### Many-to-many joins\n",
      "id": "3198f140557e4a0a"
    },
    {
      "metadata": {},
      "cell_type": "markdown",
      "source": "a. Investigate both df_courses and df_students",
      "id": "fecf51998911097"
    },
    {
      "metadata": {
        "ExecuteTime": {
          "end_time": "2025-02-04T12:43:43.063223Z",
          "start_time": "2025-02-04T12:43:43.024085Z"
        }
      },
      "cell_type": "code",
      "source": [],
      "id": "10978b6d42fbee6d",
      "outputs": [],
      "execution_count": 19
    },
    {
      "metadata": {},
      "cell_type": "markdown",
      "source": "b. Construct a list of all the courses a student needs to follow.",
      "id": "d04c1b4b0762c2d5"
    },
    {
      "metadata": {
        "ExecuteTime": {
          "end_time": "2025-02-04T12:43:44.034443Z",
          "start_time": "2025-02-04T12:43:44.001731Z"
        }
      },
      "cell_type": "code",
      "source": [],
      "id": "264ee1c588c66c9e",
      "outputs": [],
      "execution_count": 20
    },
    {
      "metadata": {},
      "cell_type": "markdown",
      "source": [
        "\n",
        "### Merge keys"
      ],
      "id": "a8b454897b631688"
    },
    {
      "metadata": {},
      "cell_type": "markdown",
      "source": "a. Read the file prod_suppliers2.csv next in Suppliers.csv we still have suppliersname but in prod_suppliers the column is named 'supplier'. Also supp_id is unavailable. Perform a merge without renaming the columns.",
      "id": "2f2cb1b015d3f16a"
    },
    {
      "metadata": {
        "ExecuteTime": {
          "end_time": "2025-02-04T12:43:45.142935Z",
          "start_time": "2025-02-04T12:43:45.082287Z"
        }
      },
      "cell_type": "code",
      "source": [],
      "id": "ffddd5d996d9e57b",
      "outputs": [],
      "execution_count": 21
    },
    {
      "metadata": {},
      "cell_type": "markdown",
      "source": [
        "b. Take df_product and df_prod_supplier2 transform the p_id in an index\\\n",
        "c. Merge the two tables on the index\\\n",
        "d. Do the same but use the join method of Pandas\\\n",
        "e. Verify that both are the same"
      ],
      "id": "22db0c8e9243c532"
    },
    {
      "metadata": {
        "ExecuteTime": {
          "end_time": "2025-02-04T12:43:46.268576Z",
          "start_time": "2025-02-04T12:43:46.246677Z"
        }
      },
      "cell_type": "code",
      "source": [],
      "id": "b099f6f5131425c9",
      "outputs": [],
      "execution_count": 22
    },
    {
      "metadata": {},
      "cell_type": "markdown",
      "source": [
        "f.Merge the sales, prod_suppliers and products into one dataframe. What wil you merge first\n",
        "    b.How do you avoid having double columns?"
      ],
      "id": "c0e8fcec844ad978"
    },
    {
      "metadata": {
        "ExecuteTime": {
          "end_time": "2025-02-04T12:43:46.936609Z",
          "start_time": "2025-02-04T12:43:46.875745Z"
        }
      },
      "cell_type": "code",
      "source": [
        "### What about left, right and outer joins?\n"
      ],
      "id": "fbdecd2048496170",
      "outputs": [],
      "execution_count": 23
    },
    {
      "metadata": {},
      "cell_type": "markdown",
      "source": [
        "In SQL we have the notion of a left and right join and an outer join. What are the pandas counterparts?\n",
        "Let's review our student example"
      ],
      "id": "7b55dbec1b62c0e9"
    },
    {
      "metadata": {
        "ExecuteTime": {
          "end_time": "2025-02-04T12:43:47.791305Z",
          "start_time": "2025-02-04T12:43:47.780508Z"
        }
      },
      "cell_type": "code",
      "source": [
        "p",
        "r",
        "i",
        "n",
        "t",
        "(",
        "d",
        "f",
        "_",
        "s",
        "t",
        "u",
        "d",
        "e",
        "n",
        "t",
        "s",
        ")"
      ],
      "id": "eca4a9a786280307",
      "outputs": [],
      "execution_count": 24
    },
    {
      "metadata": {},
      "cell_type": "markdown",
      "source": [
        "12. Students can also follow a minor. The dataframe df_minor contains the information about the minor of the students. Investigate the dataframe. One of the students follows a minor but no major.\\\n",
        "a. Merge the df_students (containing students and their major) with df_minor. What happens?\\\n",
        "b. Do we have duplicate columns? How do we drop them?\\\n",
        "c Construct a dataframe with all the information of all the students.\\\n",
        "d. Construct a dataframe with all the information of the majors and optional that of the minors.\\\n",
        "e. Construct a dataframe with all the info about the minors and optional that of the majors\n"
      ],
      "id": "ec3199b96941a56f"
    },
    {
      "metadata": {
        "ExecuteTime": {
          "end_time": "2025-02-04T12:43:48.566478Z",
          "start_time": "2025-02-04T12:43:48.555233Z"
        }
      },
      "cell_type": "code",
      "source": [],
      "id": "48138b1343116ecb",
      "outputs": [],
      "execution_count": 25
    },
    {
      "metadata": {
        "ExecuteTime": {
          "end_time": "2025-02-04T12:43:49.771618Z",
          "start_time": "2025-02-04T12:43:49.697883Z"
        }
      },
      "cell_type": "code",
      "source": [
        "\n",
        "#b\n",
        "df=df.drop('Student_name',axis=1)\n",
        "\n",
        "#c\n",
        "df_outer=pd.merge(df_students,df_minor,left_on='student_name',right_on='Student_name',how='outer')\n",
        "df_outer\n",
        "\n",
        "#d\n",
        "df_left=pd.merge(df_students,df_minor,left_on='student_name',right_on='Student_name',how='left')\n",
        "df_left\n",
        "\n",
        "#e\n",
        "df_right=pd.merge(df_students,df_minor,left_on='student_name',right_on='Student_name',how='right')\n",
        "df_right\n",
        "#SOLUTION_END"
      ],
      "id": "6d544790e56fb4db",
      "outputs": [],
      "execution_count": 26
    },
    {
      "cell_type": "markdown",
      "source": [],
      "metadata": {
        "collapsed": false,
        "id": "1a6604ba67eabe26"
      },
      "id": "1a6604ba67eabe26"
    }
  ],
  "metadata": {
    "kernelspec": {
      "display_name": "Python 3",
      "language": "python",
      "name": "python3"
    },
    "language_info": {
      "codemirror_mode": {
        "name": "ipython",
        "version": 2
      },
      "file_extension": ".py",
      "mimetype": "text/x-python",
      "name": "python",
      "nbconvert_exporter": "python",
      "pygments_lexer": "ipython2",
      "version": "2.7.6"
    },
    "colab": {
      "provenance": []
    }
  },
  "nbformat": 4,
  "nbformat_minor": 5
}