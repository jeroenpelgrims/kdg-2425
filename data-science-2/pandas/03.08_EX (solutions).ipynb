{
 "cells": [
  {
   "cell_type": "markdown",
   "source": [
    "## Exercices : Aggregation and grouping\n",
    "\n",
    "### Aggregation"
   ],
   "metadata": {
    "collapsed": false,
    "id": "V7-CvglyAIKT"
   }
  },
  {
   "cell_type": "code",
   "source": [
    "#  Aggregation Functions in Pandas with Realistic Product Data\n",
    "\n",
    "# Import necessary libraries\n",
    "import pandas as pd\n",
    "import numpy as np\n",
    "\n",
    "# Consider Weekly sales of different products\n",
    "data = {\n",
    "    'Earphones': [150, 200, 190, 250, 300],\n",
    "    'Laptop': [50, 60, 55, 65, 80],\n",
    "    'Cell Phone': [300, 320, 310, 305, 315],\n",
    "    'Power Bank': [400, 420, 410, 430, 450]\n",
    "}\n",
    "\n",
    "# Index represents the week numbers (Week 1 to Week 5)\n",
    "index = ['Week 1', 'Week 2', 'Week 3', 'Week 4', 'Week 5']\n",
    "\n",
    "# Create DataFrame\n",
    "df = pd.DataFrame(data, index=index)\n",
    "df\n"
   ],
   "metadata": {
    "id": "x1HFuq5BAIKV",
    "outputId": "bc6dfd52-277f-4052-a922-9b08609e2582",
    "ExecuteTime": {
     "end_time": "2025-02-06T08:49:16.527548Z",
     "start_time": "2025-02-06T08:49:16.498747Z"
    }
   },
   "outputs": [
    {
     "data": {
      "text/plain": [
       "        Earphones  Laptop  Cell Phone  Power Bank\n",
       "Week 1        150      50         300         400\n",
       "Week 2        200      60         320         420\n",
       "Week 3        190      55         310         410\n",
       "Week 4        250      65         305         430\n",
       "Week 5        300      80         315         450"
      ],
      "text/html": [
       "<div>\n",
       "<style scoped>\n",
       "    .dataframe tbody tr th:only-of-type {\n",
       "        vertical-align: middle;\n",
       "    }\n",
       "\n",
       "    .dataframe tbody tr th {\n",
       "        vertical-align: top;\n",
       "    }\n",
       "\n",
       "    .dataframe thead th {\n",
       "        text-align: right;\n",
       "    }\n",
       "</style>\n",
       "<table border=\"1\" class=\"dataframe\">\n",
       "  <thead>\n",
       "    <tr style=\"text-align: right;\">\n",
       "      <th></th>\n",
       "      <th>Earphones</th>\n",
       "      <th>Laptop</th>\n",
       "      <th>Cell Phone</th>\n",
       "      <th>Power Bank</th>\n",
       "    </tr>\n",
       "  </thead>\n",
       "  <tbody>\n",
       "    <tr>\n",
       "      <th>Week 1</th>\n",
       "      <td>150</td>\n",
       "      <td>50</td>\n",
       "      <td>300</td>\n",
       "      <td>400</td>\n",
       "    </tr>\n",
       "    <tr>\n",
       "      <th>Week 2</th>\n",
       "      <td>200</td>\n",
       "      <td>60</td>\n",
       "      <td>320</td>\n",
       "      <td>420</td>\n",
       "    </tr>\n",
       "    <tr>\n",
       "      <th>Week 3</th>\n",
       "      <td>190</td>\n",
       "      <td>55</td>\n",
       "      <td>310</td>\n",
       "      <td>410</td>\n",
       "    </tr>\n",
       "    <tr>\n",
       "      <th>Week 4</th>\n",
       "      <td>250</td>\n",
       "      <td>65</td>\n",
       "      <td>305</td>\n",
       "      <td>430</td>\n",
       "    </tr>\n",
       "    <tr>\n",
       "      <th>Week 5</th>\n",
       "      <td>300</td>\n",
       "      <td>80</td>\n",
       "      <td>315</td>\n",
       "      <td>450</td>\n",
       "    </tr>\n",
       "  </tbody>\n",
       "</table>\n",
       "</div>"
      ]
     },
     "execution_count": 49,
     "metadata": {},
     "output_type": "execute_result"
    }
   ],
   "execution_count": 49
  },
  {
   "cell_type": "markdown",
   "source": [
    "3) Answer following questions with code:\\\n",
    "   a) Get the total amount of products sold for each week\\\n",
    "   b) Get the total amount of products sold for each category\\\n",
    "   c) Get the total amount of sold products\n"
   ],
   "metadata": {
    "collapsed": false,
    "id": "ziz1oOewAIKX"
   }
  },
  {
   "cell_type": "code",
   "source": [
    "# Hint: Use df.sum() with axis=0 and axis=1.\n",
    "\n",
    "#SOLUTION_START\n",
    "print(f\"Count of sales data along products:\\n{df.sum(axis=0)}\")\n",
    "print(f\"Count of sales data along weeks:\\n{df.sum(axis=1)}\")\n",
    "print(f\"Total number of products sold:\\n{df.sum(axis=1).sum()}\")\n",
    "#SOLUTION_END"
   ],
   "metadata": {
    "id": "F6PHAl9KAIKX",
    "outputId": "a586452c-d1d6-40b9-9db0-565f3f7a7f6a",
    "ExecuteTime": {
     "end_time": "2025-02-06T08:49:16.693814Z",
     "start_time": "2025-02-06T08:49:16.682794Z"
    }
   },
   "outputs": [
    {
     "name": "stdout",
     "output_type": "stream",
     "text": [
      "Count of sales data along products:\n",
      "Earphones     1090\n",
      "Laptop         310\n",
      "Cell Phone    1550\n",
      "Power Bank    2110\n",
      "dtype: int64\n",
      "Count of sales data along weeks:\n",
      "Week 1     900\n",
      "Week 2    1000\n",
      "Week 3     965\n",
      "Week 4    1050\n",
      "Week 5    1145\n",
      "dtype: int64\n",
      "Total number of products sold:\n",
      "5060\n"
     ]
    }
   ],
   "execution_count": 50
  },
  {
   "cell_type": "markdown",
   "source": [
    "2) a) Calculate the mean of sold products across weeks\\\n",
    "   b) Calculate the median for each week\\\n",
    "   c) Calculate the overall mean of products sold per week"
   ],
   "metadata": {
    "collapsed": false,
    "id": "eL6XmhSlAIKX"
   }
  },
  {
   "cell_type": "code",
   "source": [
    "#SOLUTION_START\n",
    "mean_sales = df.mean(axis=0)\n",
    "print(f\"Mean sales for each product across weeks:\\n{df.mean(axis=0)}\")\n",
    "median_weekly_sales = df.median(axis=1)\n",
    "print(f\"Median sales for each week across products:\\n{df.median(axis=1)}\")\n",
    "#Overall median\n",
    "total_mean_sales = df.mean(axis=0).mean()\n",
    "print(f\"Mean sales overall:{df.mean(axis=0).mean()}\")\n",
    "#SOLUTION_END"
   ],
   "metadata": {
    "id": "0HNJYuVSAIKY",
    "outputId": "cd7450da-9cd8-4774-83a4-9d73584cb4e5",
    "ExecuteTime": {
     "end_time": "2025-02-06T08:49:16.890193Z",
     "start_time": "2025-02-06T08:49:16.863056Z"
    }
   },
   "outputs": [
    {
     "name": "stdout",
     "output_type": "stream",
     "text": [
      "Mean sales for each product across weeks:\n",
      "Earphones     218.0\n",
      "Laptop         62.0\n",
      "Cell Phone    310.0\n",
      "Power Bank    422.0\n",
      "dtype: float64\n",
      "Median sales for each week across products:\n",
      "Week 1    225.0\n",
      "Week 2    260.0\n",
      "Week 3    250.0\n",
      "Week 4    277.5\n",
      "Week 5    307.5\n",
      "dtype: float64\n",
      "Mean sales overall:253.0\n"
     ]
    }
   ],
   "execution_count": 51
  },
  {
   "cell_type": "markdown",
   "source": [
    "3) a) What was the maximum number of items sold in one week for Cell Phone's\\\n",
    "   b) What is the minimum number of items sold in week 3?\\\n",
    "   c) What are the minimum sales for each week across products\\\n",
    "   d) What are the maximum sales for each product across weeks"
   ],
   "metadata": {
    "collapsed": false,
    "id": "C2zbw0_cAIKY"
   }
  },
  {
   "cell_type": "code",
   "source": [
    "#SOLUTION_START\n",
    "print(f\"Maximum sales for cell phones across weeks:{df['Cell Phone'].max()}\")\n",
    "print(f\"Min sales for week 3:{df.loc[\"Week 3\"].min()}\")\n",
    "print(f\"Minimum sales for each week across products:\\n{df.min(axis=1)}\")\n",
    "print(f\"Maximum sales for each week across products:\\n{df.max(axis=0)}\")\n",
    "#SOLUTION_END"
   ],
   "metadata": {
    "id": "1RTzVXLlAIKY",
    "outputId": "7b3585eb-e03c-4b56-b39e-a097b60d5448",
    "ExecuteTime": {
     "end_time": "2025-02-06T08:49:17.233984Z",
     "start_time": "2025-02-06T08:49:17.217362Z"
    }
   },
   "outputs": [
    {
     "name": "stdout",
     "output_type": "stream",
     "text": [
      "Maximum sales for cell phones across weeks:320\n",
      "Min sales for week 3:55\n",
      "Minimum sales for each week across products:\n",
      "Week 1    50\n",
      "Week 2    60\n",
      "Week 3    55\n",
      "Week 4    65\n",
      "Week 5    80\n",
      "dtype: int64\n",
      "Maximum sales for each week across products:\n",
      "Earphones     300\n",
      "Laptop         80\n",
      "Cell Phone    320\n",
      "Power Bank    450\n",
      "dtype: int64\n"
     ]
    }
   ],
   "execution_count": 52
  },
  {
   "cell_type": "markdown",
   "source": [
    "5) a) Count the number of items in a row\\\n",
    "   b) Count the number of itams in a column\n"
   ],
   "metadata": {
    "collapsed": false,
    "id": "lQoOsNLJAIKZ"
   }
  },
  {
   "cell_type": "code",
   "source": [
    "#SOLUTION_START\n",
    "print(f\"Count of sales data along products (axis=0):\\n{df.count(axis=0)}\")\n",
    "print(f\"Count of sales data along weeks (axis=1):\\n{df.count(axis=1)}\")\n",
    "#SOLUTION_END"
   ],
   "metadata": {
    "id": "0IylRm2SAIKa",
    "outputId": "978535b4-b1e8-4122-fec9-58af60c52db8",
    "ExecuteTime": {
     "end_time": "2025-02-06T08:49:17.627802Z",
     "start_time": "2025-02-06T08:49:17.597877Z"
    }
   },
   "outputs": [
    {
     "name": "stdout",
     "output_type": "stream",
     "text": [
      "Count of sales data along products (axis=0):\n",
      "Earphones     5\n",
      "Laptop        5\n",
      "Cell Phone    5\n",
      "Power Bank    5\n",
      "dtype: int64\n",
      "Count of sales data along weeks (axis=1):\n",
      "Week 1    4\n",
      "Week 2    4\n",
      "Week 3    4\n",
      "Week 4    4\n",
      "Week 5    4\n",
      "dtype: int64\n"
     ]
    }
   ],
   "execution_count": 53
  },
  {
   "cell_type": "markdown",
   "source": [
    "### Grouping\n",
    "\n",
    "First consider the dataframe df"
   ],
   "metadata": {
    "collapsed": false,
    "id": "8V8-0Vs3AIKa"
   }
  },
  {
   "cell_type": "code",
   "source": [
    "import pandas as pd\n",
    "import numpy as np\n",
    "\n",
    "# Original data with computer-related products\n",
    "data = {\n",
    "    'productName': ['Laptop', 'Monitor', 'Mouse', 'Keyboard', 'External Hard Drive'] * 4,\n",
    "    'week': [1, 1, 1, 1, 1, 2, 2, 2, 2, 2, 3, 3, 3, 3, 3, 4, 4, 4, 4, 4],\n",
    "    'amount_sold': [120, 80, 50, 40, 90, 130, 85, 60, 55, 95, 125, 90, 70, 45, 100, 140, 100, 65, 50, 110],\n",
    "    'price': [999.99, 199.99, 25.99, 49.99, 79.99, 999.99, 199.99, 25.99, 49.99, 79.99, 999.99, 199.99, 25.99, 49.99, 79.99, 999.99, 199.99, 25.99, 49.99, 79.99]\n",
    "}\n",
    "\n",
    "# Additional data\n",
    "additional_data = {\n",
    "    'productName': ['Graphics Card', 'Gaming Chair', 'Headset', 'Webcam', 'Router'] * 4,\n",
    "    'week': [1, 1, 1, 1, 1, 2, 2, 2, 2, 2, 3, 3, 3, 3, 3, 4, 4, 4, 4, 4],\n",
    "    'amount_sold': [30, 15, 60, 25, 45, 50, 20, 75, 35, 40, 60, 25, 80, 30, 50, 65, 35, 85, 40, 55],\n",
    "    'price': [599.99, 150.99, 49.99, 89.99, 129.99, 599.99, 150.99, 49.99, 89.99, 129.99, 599.99, 150.99, 49.99, 89.99, 129.99, 599.99, 150.99, 49.99, 89.99, 129.99]\n",
    "}\n",
    "\n",
    "# Creating DataFrames\n",
    "df_computer = pd.DataFrame(data)\n",
    "df_additional = pd.DataFrame(additional_data)\n",
    "\n",
    "# Concatenating the new data with the existing DataFrame\n",
    "df_combined = pd.concat([df_computer, df_additional], ignore_index=True)\n",
    "\n",
    "# Shuffling the rows of the combined DataFrame\n",
    "df = df_combined.sample(frac=1).reset_index(drop=True)\n",
    "\n",
    "# Displaying the shuffled DataFrame\n",
    "df.count(axis=0)\n",
    "\n"
   ],
   "metadata": {
    "id": "alnULOOBAIKa",
    "outputId": "4d3a1c7c-9d2b-4eba-8bee-003a8e3fdc73",
    "ExecuteTime": {
     "end_time": "2025-02-06T08:49:17.788131Z",
     "start_time": "2025-02-06T08:49:17.757963Z"
    }
   },
   "outputs": [
    {
     "data": {
      "text/plain": [
       "productName    40\n",
       "week           40\n",
       "amount_sold    40\n",
       "price          40\n",
       "dtype: int64"
      ]
     },
     "execution_count": 54,
     "metadata": {},
     "output_type": "execute_result"
    }
   ],
   "execution_count": 54
  },
  {
   "cell_type": "markdown",
   "source": [
    "6) a) Calculate the total number of units sold for each product across all weeks.\\\n",
    "   b) Calculate the average price for each product.\\\n",
    "   c) Calculate the total revenue for each week."
   ],
   "metadata": {
    "collapsed": false,
    "id": "IHoGkK5vAIKb"
   }
  },
  {
   "cell_type": "code",
   "source": [
    "#SOLUTION_START\n",
    "# a. Grouping by productName to calculate total units sold per product\n",
    "print(df.groupby('productName')['amount_sold'].sum())\n",
    "# b.Grouping by productName to calculate average price\n",
    "print(df.groupby('productName')['price'].mean())\n",
    "# c.\n",
    "# Creating a new column for revenue\n",
    "df['revenue'] = df['amount_sold'] * df['price']\n",
    "# Grouping by week to calculate total revenue per week\n",
    "print(df.groupby('week')['revenue'].sum())\n",
    "#SOLUTION_END"
   ],
   "metadata": {
    "id": "l_LldLd9AIKb",
    "outputId": "72d9b19a-2b74-4abd-c9f8-d963e3e4fd3e",
    "ExecuteTime": {
     "end_time": "2025-02-06T08:49:17.995950Z",
     "start_time": "2025-02-06T08:49:17.969456Z"
    }
   },
   "outputs": [
    {
     "name": "stdout",
     "output_type": "stream",
     "text": [
      "productName\n",
      "External Hard Drive    395\n",
      "Gaming Chair            95\n",
      "Graphics Card          205\n",
      "Headset                300\n",
      "Keyboard               190\n",
      "Laptop                 515\n",
      "Monitor                355\n",
      "Mouse                  245\n",
      "Router                 190\n",
      "Webcam                 130\n",
      "Name: amount_sold, dtype: int64\n",
      "productName\n",
      "External Hard Drive     79.99\n",
      "Gaming Chair           150.99\n",
      "Graphics Card          599.99\n",
      "Headset                 49.99\n",
      "Keyboard                49.99\n",
      "Laptop                 999.99\n",
      "Monitor                199.99\n",
      "Mouse                   25.99\n",
      "Router                 129.99\n",
      "Webcam                  89.99\n",
      "Name: price, dtype: float64\n",
      "week\n",
      "1    177859.45\n",
      "2    204023.55\n",
      "3    208038.25\n",
      "4    232267.55\n",
      "Name: revenue, dtype: float64\n"
     ]
    }
   ],
   "execution_count": 55
  },
  {
   "cell_type": "markdown",
   "source": [
    "7) Find the product that sold the most units in each week.\n"
   ],
   "metadata": {
    "collapsed": false,
    "id": "tbNZYXMJAIKb"
   }
  },
  {
   "cell_type": "code",
   "source": [
    "#SOLUTION_START\n",
    "# Grouping by week to find the product with the maximum amount sold\n",
    "df_max_sold_per_week = df.loc[df.groupby('week')['amount_sold'].idxmax()]\n",
    "print(df_max_sold_per_week[['week', 'productName', 'amount_sold']])\n",
    "#SOLUTION_END"
   ],
   "metadata": {
    "id": "3dJlcfqrAIKb",
    "outputId": "e6744091-2eb6-449b-eb75-c58009dae944",
    "ExecuteTime": {
     "end_time": "2025-02-06T08:49:18.183988Z",
     "start_time": "2025-02-06T08:49:18.164159Z"
    }
   },
   "outputs": [
    {
     "name": "stdout",
     "output_type": "stream",
     "text": [
      "    week productName  amount_sold\n",
      "8      1      Laptop          120\n",
      "14     2      Laptop          130\n",
      "21     3      Laptop          125\n",
      "22     4      Laptop          140\n"
     ]
    }
   ],
   "execution_count": 56
  },
  {
   "cell_type": "markdown",
   "source": [
    "8) Calculate the average number of units sold per product."
   ],
   "metadata": {
    "collapsed": false,
    "id": "NBx60rVmAIKb"
   }
  },
  {
   "cell_type": "code",
   "source": [
    "#SOLUTION_START\n",
    "# Grouping by productName to calculate average amount sold per product p\n",
    "df_avg_sold_per_product = df.groupby(['productName'])['amount_sold'].mean()\n",
    "print(df_avg_sold_per_product)\n",
    "#SOLUTION_END"
   ],
   "metadata": {
    "id": "UH-xdrwGAIKc",
    "outputId": "163ede38-1c26-42f9-935f-97667bb04fc0",
    "ExecuteTime": {
     "end_time": "2025-02-06T08:49:18.449664Z",
     "start_time": "2025-02-06T08:49:18.439650Z"
    }
   },
   "outputs": [
    {
     "name": "stdout",
     "output_type": "stream",
     "text": [
      "productName\n",
      "External Hard Drive     98.75\n",
      "Gaming Chair            23.75\n",
      "Graphics Card           51.25\n",
      "Headset                 75.00\n",
      "Keyboard                47.50\n",
      "Laptop                 128.75\n",
      "Monitor                 88.75\n",
      "Mouse                   61.25\n",
      "Router                  47.50\n",
      "Webcam                  32.50\n",
      "Name: amount_sold, dtype: float64\n"
     ]
    }
   ],
   "execution_count": 57
  },
  {
   "cell_type": "markdown",
   "source": [
    "9) For each product provide a list of the minimum amount sold, the average and the maximum amount sold\n",
    "\n"
   ],
   "metadata": {
    "collapsed": false,
    "id": "9CixUTxKAIKc"
   }
  },
  {
   "cell_type": "code",
   "source": [
    "#SOLUTION_START\n",
    "df[['productName','amount_sold']].groupby('productName').aggregate(['min', 'mean', 'max'])\n",
    "#SOLUTION_END"
   ],
   "metadata": {
    "id": "QsRMpdl0AIKc",
    "outputId": "db659017-7e6e-47f0-c4b3-0ba0cbb25169",
    "ExecuteTime": {
     "end_time": "2025-02-06T08:49:18.628136Z",
     "start_time": "2025-02-06T08:49:18.603283Z"
    }
   },
   "outputs": [
    {
     "data": {
      "text/plain": [
       "                    amount_sold             \n",
       "                            min    mean  max\n",
       "productName                                 \n",
       "External Hard Drive          90   98.75  110\n",
       "Gaming Chair                 15   23.75   35\n",
       "Graphics Card                30   51.25   65\n",
       "Headset                      60   75.00   85\n",
       "Keyboard                     40   47.50   55\n",
       "Laptop                      120  128.75  140\n",
       "Monitor                      80   88.75  100\n",
       "Mouse                        50   61.25   70\n",
       "Router                       40   47.50   55\n",
       "Webcam                       25   32.50   40"
      ],
      "text/html": [
       "<div>\n",
       "<style scoped>\n",
       "    .dataframe tbody tr th:only-of-type {\n",
       "        vertical-align: middle;\n",
       "    }\n",
       "\n",
       "    .dataframe tbody tr th {\n",
       "        vertical-align: top;\n",
       "    }\n",
       "\n",
       "    .dataframe thead tr th {\n",
       "        text-align: left;\n",
       "    }\n",
       "\n",
       "    .dataframe thead tr:last-of-type th {\n",
       "        text-align: right;\n",
       "    }\n",
       "</style>\n",
       "<table border=\"1\" class=\"dataframe\">\n",
       "  <thead>\n",
       "    <tr>\n",
       "      <th></th>\n",
       "      <th colspan=\"3\" halign=\"left\">amount_sold</th>\n",
       "    </tr>\n",
       "    <tr>\n",
       "      <th></th>\n",
       "      <th>min</th>\n",
       "      <th>mean</th>\n",
       "      <th>max</th>\n",
       "    </tr>\n",
       "    <tr>\n",
       "      <th>productName</th>\n",
       "      <th></th>\n",
       "      <th></th>\n",
       "      <th></th>\n",
       "    </tr>\n",
       "  </thead>\n",
       "  <tbody>\n",
       "    <tr>\n",
       "      <th>External Hard Drive</th>\n",
       "      <td>90</td>\n",
       "      <td>98.75</td>\n",
       "      <td>110</td>\n",
       "    </tr>\n",
       "    <tr>\n",
       "      <th>Gaming Chair</th>\n",
       "      <td>15</td>\n",
       "      <td>23.75</td>\n",
       "      <td>35</td>\n",
       "    </tr>\n",
       "    <tr>\n",
       "      <th>Graphics Card</th>\n",
       "      <td>30</td>\n",
       "      <td>51.25</td>\n",
       "      <td>65</td>\n",
       "    </tr>\n",
       "    <tr>\n",
       "      <th>Headset</th>\n",
       "      <td>60</td>\n",
       "      <td>75.00</td>\n",
       "      <td>85</td>\n",
       "    </tr>\n",
       "    <tr>\n",
       "      <th>Keyboard</th>\n",
       "      <td>40</td>\n",
       "      <td>47.50</td>\n",
       "      <td>55</td>\n",
       "    </tr>\n",
       "    <tr>\n",
       "      <th>Laptop</th>\n",
       "      <td>120</td>\n",
       "      <td>128.75</td>\n",
       "      <td>140</td>\n",
       "    </tr>\n",
       "    <tr>\n",
       "      <th>Monitor</th>\n",
       "      <td>80</td>\n",
       "      <td>88.75</td>\n",
       "      <td>100</td>\n",
       "    </tr>\n",
       "    <tr>\n",
       "      <th>Mouse</th>\n",
       "      <td>50</td>\n",
       "      <td>61.25</td>\n",
       "      <td>70</td>\n",
       "    </tr>\n",
       "    <tr>\n",
       "      <th>Router</th>\n",
       "      <td>40</td>\n",
       "      <td>47.50</td>\n",
       "      <td>55</td>\n",
       "    </tr>\n",
       "    <tr>\n",
       "      <th>Webcam</th>\n",
       "      <td>25</td>\n",
       "      <td>32.50</td>\n",
       "      <td>40</td>\n",
       "    </tr>\n",
       "  </tbody>\n",
       "</table>\n",
       "</div>"
      ]
     },
     "execution_count": 58,
     "metadata": {},
     "output_type": "execute_result"
    }
   ],
   "execution_count": 58
  },
  {
   "cell_type": "markdown",
   "source": [
    "10) Provide a table with the productnames and the minimum price for that product the total amount sold and the total revenue for that product"
   ],
   "metadata": {
    "collapsed": false,
    "id": "pIl_huvqAIKc"
   }
  },
  {
   "cell_type": "code",
   "source": [
    "#SOLUTION_START\n",
    "df.groupby('productName').aggregate({'price':'min',\n",
    "                                     'amount_sold':'sum',\n",
    "                                     'revenue':'sum'}\n",
    "                                     )\n",
    "#SOLUTION_END"
   ],
   "metadata": {
    "id": "165e1cAcAIKc",
    "outputId": "01116835-81a9-4fe4-cfe0-a99196ed2e91",
    "ExecuteTime": {
     "end_time": "2025-02-06T08:49:18.790380Z",
     "start_time": "2025-02-06T08:49:18.771962Z"
    }
   },
   "outputs": [
    {
     "data": {
      "text/plain": [
       "                      price  amount_sold    revenue\n",
       "productName                                        \n",
       "External Hard Drive   79.99          395   31596.05\n",
       "Gaming Chair         150.99           95   14344.05\n",
       "Graphics Card        599.99          205  122997.95\n",
       "Headset               49.99          300   14997.00\n",
       "Keyboard              49.99          190    9498.10\n",
       "Laptop               999.99          515  514994.85\n",
       "Monitor              199.99          355   70996.45\n",
       "Mouse                 25.99          245    6367.55\n",
       "Router               129.99          190   24698.10\n",
       "Webcam                89.99          130   11698.70"
      ],
      "text/html": [
       "<div>\n",
       "<style scoped>\n",
       "    .dataframe tbody tr th:only-of-type {\n",
       "        vertical-align: middle;\n",
       "    }\n",
       "\n",
       "    .dataframe tbody tr th {\n",
       "        vertical-align: top;\n",
       "    }\n",
       "\n",
       "    .dataframe thead th {\n",
       "        text-align: right;\n",
       "    }\n",
       "</style>\n",
       "<table border=\"1\" class=\"dataframe\">\n",
       "  <thead>\n",
       "    <tr style=\"text-align: right;\">\n",
       "      <th></th>\n",
       "      <th>price</th>\n",
       "      <th>amount_sold</th>\n",
       "      <th>revenue</th>\n",
       "    </tr>\n",
       "    <tr>\n",
       "      <th>productName</th>\n",
       "      <th></th>\n",
       "      <th></th>\n",
       "      <th></th>\n",
       "    </tr>\n",
       "  </thead>\n",
       "  <tbody>\n",
       "    <tr>\n",
       "      <th>External Hard Drive</th>\n",
       "      <td>79.99</td>\n",
       "      <td>395</td>\n",
       "      <td>31596.05</td>\n",
       "    </tr>\n",
       "    <tr>\n",
       "      <th>Gaming Chair</th>\n",
       "      <td>150.99</td>\n",
       "      <td>95</td>\n",
       "      <td>14344.05</td>\n",
       "    </tr>\n",
       "    <tr>\n",
       "      <th>Graphics Card</th>\n",
       "      <td>599.99</td>\n",
       "      <td>205</td>\n",
       "      <td>122997.95</td>\n",
       "    </tr>\n",
       "    <tr>\n",
       "      <th>Headset</th>\n",
       "      <td>49.99</td>\n",
       "      <td>300</td>\n",
       "      <td>14997.00</td>\n",
       "    </tr>\n",
       "    <tr>\n",
       "      <th>Keyboard</th>\n",
       "      <td>49.99</td>\n",
       "      <td>190</td>\n",
       "      <td>9498.10</td>\n",
       "    </tr>\n",
       "    <tr>\n",
       "      <th>Laptop</th>\n",
       "      <td>999.99</td>\n",
       "      <td>515</td>\n",
       "      <td>514994.85</td>\n",
       "    </tr>\n",
       "    <tr>\n",
       "      <th>Monitor</th>\n",
       "      <td>199.99</td>\n",
       "      <td>355</td>\n",
       "      <td>70996.45</td>\n",
       "    </tr>\n",
       "    <tr>\n",
       "      <th>Mouse</th>\n",
       "      <td>25.99</td>\n",
       "      <td>245</td>\n",
       "      <td>6367.55</td>\n",
       "    </tr>\n",
       "    <tr>\n",
       "      <th>Router</th>\n",
       "      <td>129.99</td>\n",
       "      <td>190</td>\n",
       "      <td>24698.10</td>\n",
       "    </tr>\n",
       "    <tr>\n",
       "      <th>Webcam</th>\n",
       "      <td>89.99</td>\n",
       "      <td>130</td>\n",
       "      <td>11698.70</td>\n",
       "    </tr>\n",
       "  </tbody>\n",
       "</table>\n",
       "</div>"
      ]
     },
     "execution_count": 59,
     "metadata": {},
     "output_type": "execute_result"
    }
   ],
   "execution_count": 59
  },
  {
   "cell_type": "markdown",
   "source": [
    "11) Only show the productnames which have  sold less than 150 in total over all the dataset and show also the amount_sold in total"
   ],
   "metadata": {
    "collapsed": false,
    "id": "b_1CBPDjAIKc"
   }
  },
  {
   "cell_type": "code",
   "source": [
    "#SOLUTION_START\n",
    "def filter_func(x):\n",
    "    return x['amount_sold'].sum() < 150\n",
    "\n",
    "display(df.groupby('productName').filter(filter_func).groupby('productName').aggregate({'amount_sold':'sum'}))\n",
    "#SOLUTION_END"
   ],
   "metadata": {
    "id": "WtHcWglMAIKd",
    "outputId": "db39360e-4801-40f8-a09b-4b8ccba8b828",
    "ExecuteTime": {
     "end_time": "2025-02-06T08:49:19.109268Z",
     "start_time": "2025-02-06T08:49:19.083974Z"
    }
   },
   "outputs": [
    {
     "data": {
      "text/plain": [
       "              amount_sold\n",
       "productName              \n",
       "Gaming Chair           95\n",
       "Webcam                130"
      ],
      "text/html": [
       "<div>\n",
       "<style scoped>\n",
       "    .dataframe tbody tr th:only-of-type {\n",
       "        vertical-align: middle;\n",
       "    }\n",
       "\n",
       "    .dataframe tbody tr th {\n",
       "        vertical-align: top;\n",
       "    }\n",
       "\n",
       "    .dataframe thead th {\n",
       "        text-align: right;\n",
       "    }\n",
       "</style>\n",
       "<table border=\"1\" class=\"dataframe\">\n",
       "  <thead>\n",
       "    <tr style=\"text-align: right;\">\n",
       "      <th></th>\n",
       "      <th>amount_sold</th>\n",
       "    </tr>\n",
       "    <tr>\n",
       "      <th>productName</th>\n",
       "      <th></th>\n",
       "    </tr>\n",
       "  </thead>\n",
       "  <tbody>\n",
       "    <tr>\n",
       "      <th>Gaming Chair</th>\n",
       "      <td>95</td>\n",
       "    </tr>\n",
       "    <tr>\n",
       "      <th>Webcam</th>\n",
       "      <td>130</td>\n",
       "    </tr>\n",
       "  </tbody>\n",
       "</table>\n",
       "</div>"
      ]
     },
     "metadata": {},
     "output_type": "display_data"
    }
   ],
   "execution_count": 60
  },
  {
   "cell_type": "code",
   "source": [],
   "metadata": {
    "collapsed": false,
    "ExecuteTime": {
     "end_time": "2025-02-06T08:49:19.660955Z",
     "start_time": "2025-02-06T08:49:19.656610Z"
    }
   },
   "outputs": [],
   "execution_count": null
  }
 ],
 "metadata": {
  "kernelspec": {
   "display_name": "Python 3",
   "language": "python",
   "name": "python3"
  },
  "language_info": {
   "codemirror_mode": {
    "name": "ipython",
    "version": 2
   },
   "file_extension": ".py",
   "mimetype": "text/x-python",
   "name": "python",
   "nbconvert_exporter": "python",
   "pygments_lexer": "ipython2",
   "version": "2.7.6"
  },
  "colab": {
   "provenance": []
  }
 },
 "nbformat": 4,
 "nbformat_minor": 0
}
