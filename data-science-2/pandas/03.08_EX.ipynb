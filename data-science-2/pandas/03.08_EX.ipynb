{
  "cells": [
    {
      "cell_type": "markdown",
      "source": [
        "## Exercices : Aggregation and grouping\n",
        "\n",
        "### Aggregation"
      ],
      "metadata": {
        "collapsed": false,
        "id": "V7-CvglyAIKT"
      }
    },
    {
      "cell_type": "code",
      "source": [
        "#  Aggregation Functions in Pandas with Realistic Product Data\n",
        "\n",
        "# Import necessary libraries\n",
        "import pandas as pd\n",
        "import numpy as np\n",
        "\n",
        "# Consider Weekly sales of different products\n",
        "data = {\n",
        "    'Earphones': [150, 200, 190, 250, 300],\n",
        "    'Laptop': [50, 60, 55, 65, 80],\n",
        "    'Cell Phone': [300, 320, 310, 305, 315],\n",
        "    'Power Bank': [400, 420, 410, 430, 450]\n",
        "}\n",
        "\n",
        "# Index represents the week numbers (Week 1 to Week 5)\n",
        "index = ['Week 1', 'Week 2', 'Week 3', 'Week 4', 'Week 5']\n",
        "\n",
        "# Create DataFrame\n",
        "df = pd.DataFrame(data, index=index)\n",
        "df\n"
      ],
      "metadata": {
        "id": "x1HFuq5BAIKV",
        "outputId": "bc6dfd52-277f-4052-a922-9b08609e2582",
        "ExecuteTime": {
          "end_time": "2025-02-06T08:49:16.527548Z",
          "start_time": "2025-02-06T08:49:16.498747Z"
        }
      },
      "outputs": [],
      "execution_count": 49
    },
    {
      "cell_type": "markdown",
      "source": [
        "3) Answer following questions with code:\\\n",
        "   a) Get the total amount of products sold for each week\\\n",
        "   b) Get the total amount of products sold for each category\\\n",
        "   c) Get the total amount of sold products\n"
      ],
      "metadata": {
        "collapsed": false,
        "id": "ziz1oOewAIKX"
      }
    },
    {
      "cell_type": "code",
      "source": [
        "# Hint: Use df.sum() with axis=0 and axis=1.\n",
        "\n"
      ],
      "metadata": {
        "id": "F6PHAl9KAIKX",
        "outputId": "a586452c-d1d6-40b9-9db0-565f3f7a7f6a",
        "ExecuteTime": {
          "end_time": "2025-02-06T08:49:16.693814Z",
          "start_time": "2025-02-06T08:49:16.682794Z"
        }
      },
      "outputs": [],
      "execution_count": 50
    },
    {
      "cell_type": "markdown",
      "source": [
        "2) a) Calculate the mean of sold products across weeks\\\n",
        "   b) Calculate the median for each week\\\n",
        "   c) Calculate the overall mean of products sold per week"
      ],
      "metadata": {
        "collapsed": false,
        "id": "eL6XmhSlAIKX"
      }
    },
    {
      "cell_type": "code",
      "source": [],
      "metadata": {
        "id": "0HNJYuVSAIKY",
        "outputId": "cd7450da-9cd8-4774-83a4-9d73584cb4e5",
        "ExecuteTime": {
          "end_time": "2025-02-06T08:49:16.890193Z",
          "start_time": "2025-02-06T08:49:16.863056Z"
        }
      },
      "outputs": [],
      "execution_count": 51
    },
    {
      "cell_type": "markdown",
      "source": [
        "3) a) What was the maximum number of items sold in one week for Cell Phone's\\\n",
        "   b) What is the minimum number of items sold in week 3?\\\n",
        "   c) What are the minimum sales for each week across products\\\n",
        "   d) What are the maximum sales for each product across weeks"
      ],
      "metadata": {
        "collapsed": false,
        "id": "C2zbw0_cAIKY"
      }
    },
    {
      "cell_type": "code",
      "source": [],
      "metadata": {
        "id": "1RTzVXLlAIKY",
        "outputId": "7b3585eb-e03c-4b56-b39e-a097b60d5448",
        "ExecuteTime": {
          "end_time": "2025-02-06T08:49:17.233984Z",
          "start_time": "2025-02-06T08:49:17.217362Z"
        }
      },
      "outputs": [],
      "execution_count": 52
    },
    {
      "cell_type": "markdown",
      "source": [
        "5) a) Count the number of items in a row\\\n",
        "   b) Count the number of itams in a column\n"
      ],
      "metadata": {
        "collapsed": false,
        "id": "lQoOsNLJAIKZ"
      }
    },
    {
      "cell_type": "code",
      "source": [],
      "metadata": {
        "id": "0IylRm2SAIKa",
        "outputId": "978535b4-b1e8-4122-fec9-58af60c52db8",
        "ExecuteTime": {
          "end_time": "2025-02-06T08:49:17.627802Z",
          "start_time": "2025-02-06T08:49:17.597877Z"
        }
      },
      "outputs": [],
      "execution_count": 53
    },
    {
      "cell_type": "markdown",
      "source": [
        "### Grouping\n",
        "\n",
        "First consider the dataframe df"
      ],
      "metadata": {
        "collapsed": false,
        "id": "8V8-0Vs3AIKa"
      }
    },
    {
      "cell_type": "code",
      "source": [
        "import pandas as pd\n",
        "import numpy as np\n",
        "\n",
        "# Original data with computer-related products\n",
        "data = {\n",
        "    'productName': ['Laptop', 'Monitor', 'Mouse', 'Keyboard', 'External Hard Drive'] * 4,\n",
        "    'week': [1, 1, 1, 1, 1, 2, 2, 2, 2, 2, 3, 3, 3, 3, 3, 4, 4, 4, 4, 4],\n",
        "    'amount_sold': [120, 80, 50, 40, 90, 130, 85, 60, 55, 95, 125, 90, 70, 45, 100, 140, 100, 65, 50, 110],\n",
        "    'price': [999.99, 199.99, 25.99, 49.99, 79.99, 999.99, 199.99, 25.99, 49.99, 79.99, 999.99, 199.99, 25.99, 49.99, 79.99, 999.99, 199.99, 25.99, 49.99, 79.99]\n",
        "}\n",
        "\n",
        "# Additional data\n",
        "additional_data = {\n",
        "    'productName': ['Graphics Card', 'Gaming Chair', 'Headset', 'Webcam', 'Router'] * 4,\n",
        "    'week': [1, 1, 1, 1, 1, 2, 2, 2, 2, 2, 3, 3, 3, 3, 3, 4, 4, 4, 4, 4],\n",
        "    'amount_sold': [30, 15, 60, 25, 45, 50, 20, 75, 35, 40, 60, 25, 80, 30, 50, 65, 35, 85, 40, 55],\n",
        "    'price': [599.99, 150.99, 49.99, 89.99, 129.99, 599.99, 150.99, 49.99, 89.99, 129.99, 599.99, 150.99, 49.99, 89.99, 129.99, 599.99, 150.99, 49.99, 89.99, 129.99]\n",
        "}\n",
        "\n",
        "# Creating DataFrames\n",
        "df_computer = pd.DataFrame(data)\n",
        "df_additional = pd.DataFrame(additional_data)\n",
        "\n",
        "# Concatenating the new data with the existing DataFrame\n",
        "df_combined = pd.concat([df_computer, df_additional], ignore_index=True)\n",
        "\n",
        "# Shuffling the rows of the combined DataFrame\n",
        "df = df_combined.sample(frac=1).reset_index(drop=True)\n",
        "\n",
        "# Displaying the shuffled DataFrame\n",
        "df.count(axis=0)\n",
        "\n"
      ],
      "metadata": {
        "id": "alnULOOBAIKa",
        "outputId": "4d3a1c7c-9d2b-4eba-8bee-003a8e3fdc73",
        "ExecuteTime": {
          "end_time": "2025-02-06T08:49:17.788131Z",
          "start_time": "2025-02-06T08:49:17.757963Z"
        }
      },
      "outputs": [],
      "execution_count": 54
    },
    {
      "cell_type": "markdown",
      "source": [
        "6) a) Calculate the total number of units sold for each product across all weeks.\\\n",
        "   b) Calculate the average price for each product.\\\n",
        "   c) Calculate the total revenue for each week."
      ],
      "metadata": {
        "collapsed": false,
        "id": "IHoGkK5vAIKb"
      }
    },
    {
      "cell_type": "code",
      "source": [],
      "metadata": {
        "id": "l_LldLd9AIKb",
        "outputId": "72d9b19a-2b74-4abd-c9f8-d963e3e4fd3e",
        "ExecuteTime": {
          "end_time": "2025-02-06T08:49:17.995950Z",
          "start_time": "2025-02-06T08:49:17.969456Z"
        }
      },
      "outputs": [],
      "execution_count": 55
    },
    {
      "cell_type": "markdown",
      "source": [
        "7) Find the product that sold the most units in each week.\n"
      ],
      "metadata": {
        "collapsed": false,
        "id": "tbNZYXMJAIKb"
      }
    },
    {
      "cell_type": "code",
      "source": [],
      "metadata": {
        "id": "3dJlcfqrAIKb",
        "outputId": "e6744091-2eb6-449b-eb75-c58009dae944",
        "ExecuteTime": {
          "end_time": "2025-02-06T08:49:18.183988Z",
          "start_time": "2025-02-06T08:49:18.164159Z"
        }
      },
      "outputs": [],
      "execution_count": 56
    },
    {
      "cell_type": "markdown",
      "source": [
        "8) Calculate the average number of units sold per product."
      ],
      "metadata": {
        "collapsed": false,
        "id": "NBx60rVmAIKb"
      }
    },
    {
      "cell_type": "code",
      "source": [],
      "metadata": {
        "id": "UH-xdrwGAIKc",
        "outputId": "163ede38-1c26-42f9-935f-97667bb04fc0",
        "ExecuteTime": {
          "end_time": "2025-02-06T08:49:18.449664Z",
          "start_time": "2025-02-06T08:49:18.439650Z"
        }
      },
      "outputs": [],
      "execution_count": 57
    },
    {
      "cell_type": "markdown",
      "source": [
        "9) For each product provide a list of the minimum amount sold, the average and the maximum amount sold\n",
        "\n"
      ],
      "metadata": {
        "collapsed": false,
        "id": "9CixUTxKAIKc"
      }
    },
    {
      "cell_type": "code",
      "source": [],
      "metadata": {
        "id": "QsRMpdl0AIKc",
        "outputId": "db659017-7e6e-47f0-c4b3-0ba0cbb25169",
        "ExecuteTime": {
          "end_time": "2025-02-06T08:49:18.628136Z",
          "start_time": "2025-02-06T08:49:18.603283Z"
        }
      },
      "outputs": [],
      "execution_count": 58
    },
    {
      "cell_type": "markdown",
      "source": [
        "10) Provide a table with the productnames and the minimum price for that product the total amount sold and the total revenue for that product"
      ],
      "metadata": {
        "collapsed": false,
        "id": "pIl_huvqAIKc"
      }
    },
    {
      "cell_type": "code",
      "source": [],
      "metadata": {
        "id": "165e1cAcAIKc",
        "outputId": "01116835-81a9-4fe4-cfe0-a99196ed2e91",
        "ExecuteTime": {
          "end_time": "2025-02-06T08:49:18.790380Z",
          "start_time": "2025-02-06T08:49:18.771962Z"
        }
      },
      "outputs": [],
      "execution_count": 59
    },
    {
      "cell_type": "markdown",
      "source": [
        "11) Only show the productnames which have  sold less than 150 in total over all the dataset and show also the amount_sold in total"
      ],
      "metadata": {
        "collapsed": false,
        "id": "b_1CBPDjAIKc"
      }
    },
    {
      "cell_type": "code",
      "source": [],
      "metadata": {
        "id": "WtHcWglMAIKd",
        "outputId": "db39360e-4801-40f8-a09b-4b8ccba8b828",
        "ExecuteTime": {
          "end_time": "2025-02-06T08:49:19.109268Z",
          "start_time": "2025-02-06T08:49:19.083974Z"
        }
      },
      "outputs": [],
      "execution_count": 60
    },
    {
      "cell_type": "code",
      "source": [],
      "metadata": {
        "collapsed": false,
        "ExecuteTime": {
          "end_time": "2025-02-06T08:49:19.660955Z",
          "start_time": "2025-02-06T08:49:19.656610Z"
        }
      },
      "outputs": [],
      "execution_count": null
    }
  ],
  "metadata": {
    "kernelspec": {
      "display_name": "Python 3",
      "language": "python",
      "name": "python3"
    },
    "language_info": {
      "codemirror_mode": {
        "name": "ipython",
        "version": 2
      },
      "file_extension": ".py",
      "mimetype": "text/x-python",
      "name": "python",
      "nbconvert_exporter": "python",
      "pygments_lexer": "ipython2",
      "version": "2.7.6"
    },
    "colab": {
      "provenance": []
    }
  },
  "nbformat": 4,
  "nbformat_minor": 0
}