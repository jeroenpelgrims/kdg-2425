{
 "cells": [
  {
   "cell_type": "markdown",
   "source": [
    "## Strings methods and strings methods with regular expressions\n",
    "\n",
    "### Strings methods\n",
    "\n",
    "\n",
    "In the cell below a Series object is created with names."
   ],
   "metadata": {
    "collapsed": false
   }
  },
  {
   "cell_type": "code",
   "source": [
    "import pandas as pd\n",
    "import re\n",
    "\n",
    "\n",
    "df=pd.Series(['Leonardo DiCaprio',\n",
    "'Meryl Streep',\n",
    "'Denzel Washington',\n",
    "'Scarlett Johansson',\n",
    "'  Kevin De Bruyne',\n",
    "'Natalie Portman',\n",
    "'Leonel Messi',\n",
    "' Tom Hanks ',\n",
    "'Angelina Jolie',\n",
    "'Christian Bale',\n",
    "' Kevin Bacon '              ],name=\"famous\")"
   ],
   "metadata": {
    "collapsed": false,
    "ExecuteTime": {
     "end_time": "2025-02-04T12:57:01.682515Z",
     "start_time": "2025-02-04T12:57:01.677020Z"
    }
   },
   "outputs": [],
   "execution_count": 7
  },
  {
   "cell_type": "markdown",
   "source": "1) In the list we have some blanks in the beginning and the end. Remove them. Call the Series names.",
   "metadata": {
    "collapsed": false
   }
  },
  {
   "cell_type": "code",
   "source": [
    "#SOLUTION_START\n",
    "# first name\n",
    "names=df.str.strip()\n",
    "print(names)\n",
    "#SOLUTION_END"
   ],
   "metadata": {
    "collapsed": false,
    "ExecuteTime": {
     "end_time": "2025-02-04T12:57:01.725117Z",
     "start_time": "2025-02-04T12:57:01.718834Z"
    }
   },
   "outputs": [
    {
     "name": "stdout",
     "output_type": "stream",
     "text": [
      "0      Leonardo DiCaprio\n",
      "1           Meryl Streep\n",
      "2      Denzel Washington\n",
      "3     Scarlett Johansson\n",
      "4        Kevin De Bruyne\n",
      "5        Natalie Portman\n",
      "6           Leonel Messi\n",
      "7              Tom Hanks\n",
      "8         Angelina Jolie\n",
      "9         Christian Bale\n",
      "10           Kevin Bacon\n",
      "Name: famous, dtype: object\n"
     ]
    }
   ],
   "execution_count": 8
  },
  {
   "cell_type": "markdown",
   "source": [
    "2) Make a series with the len of all the actor names in it."
   ],
   "metadata": {
    "collapsed": false
   }
  },
  {
   "cell_type": "code",
   "source": [
    "#SOLUTION_START\n",
    "\n",
    "names_len=names.str.len()\n",
    "print(names_len)\n",
    "#SOLUTION_START\n"
   ],
   "metadata": {
    "collapsed": false,
    "ExecuteTime": {
     "end_time": "2025-02-04T12:57:01.769773Z",
     "start_time": "2025-02-04T12:57:01.761129Z"
    }
   },
   "outputs": [
    {
     "name": "stdout",
     "output_type": "stream",
     "text": [
      "0     17\n",
      "1     12\n",
      "2     17\n",
      "3     18\n",
      "4     15\n",
      "5     15\n",
      "6     12\n",
      "7      9\n",
      "8     14\n",
      "9     14\n",
      "10    11\n",
      "Name: famous, dtype: int64\n"
     ]
    }
   ],
   "execution_count": 9
  },
  {
   "cell_type": "markdown",
   "source": [
    "3) Make a list which will transform all the actors name in lower case"
   ],
   "metadata": {
    "collapsed": false
   }
  },
  {
   "cell_type": "code",
   "source": [
    "#SOLUTION_START\n",
    "df_lower=names.str.lower()\n",
    "#SOLUTION_END"
   ],
   "metadata": {
    "collapsed": false,
    "ExecuteTime": {
     "end_time": "2025-02-04T12:57:01.820892Z",
     "start_time": "2025-02-04T12:57:01.815276Z"
    }
   },
   "outputs": [],
   "execution_count": 10
  },
  {
   "cell_type": "raw",
   "source": "4) Create a dataframe with column 'name' with the names in uppercase and column 'length' with the length\n",
   "metadata": {
    "collapsed": false
   }
  },
  {
   "cell_type": "code",
   "source": [
    "#SOLUTION_START\n",
    "data = pd.DataFrame({'name':names.str.upper(),'length':names.str.len()})\n",
    "print(data)\n",
    "#SOLUTION_END"
   ],
   "metadata": {
    "collapsed": false,
    "ExecuteTime": {
     "end_time": "2025-02-04T12:57:01.883580Z",
     "start_time": "2025-02-04T12:57:01.870430Z"
    }
   },
   "outputs": [
    {
     "name": "stdout",
     "output_type": "stream",
     "text": [
      "                  name  length\n",
      "0    LEONARDO DICAPRIO      17\n",
      "1         MERYL STREEP      12\n",
      "2    DENZEL WASHINGTON      17\n",
      "3   SCARLETT JOHANSSON      18\n",
      "4      KEVIN DE BRUYNE      15\n",
      "5      NATALIE PORTMAN      15\n",
      "6         LEONEL MESSI      12\n",
      "7            TOM HANKS       9\n",
      "8       ANGELINA JOLIE      14\n",
      "9       CHRISTIAN BALE      14\n",
      "10         KEVIN BACON      11\n"
     ]
    }
   ],
   "execution_count": 11
  },
  {
   "cell_type": "markdown",
   "source": [
    "5) Make a dataframe df_short with:\\\n",
    "   a) Column first_five with only the first 5 characters of each string in the Series names.\\\n",
    "   b) Column not_last_six which will show the string except the last 6 characters of each string of Series names.\\\n",
    "   c) Column last_seven with only the last 7 characters in each string\\"
   ],
   "metadata": {
    "collapsed": false
   }
  },
  {
   "cell_type": "code",
   "source": [
    "#SOLUTION_START\n",
    "df_short = pd.DataFrame({'first_five':names.str[0:5],'not_last_six':names.str[:-6],'last_seven':names.str[-7:]})\n",
    "#SOLUTION_END\n"
   ],
   "metadata": {
    "collapsed": false,
    "ExecuteTime": {
     "end_time": "2025-02-04T12:57:02.117473Z",
     "start_time": "2025-02-04T12:57:02.103843Z"
    }
   },
   "outputs": [],
   "execution_count": 12
  },
  {
   "cell_type": "markdown",
   "source": [
    "6) a) Make a list of all the words in string_to_be_cut.\\\n",
    "   b) Convert the list to a pandas Series\\\n",
    "   c) Use a string function to display the position of the first 'n'\\\n",
    "   d) Split the string in three parts with 'cut' in the middle and print  the 3 parts.\n"
   ],
   "metadata": {
    "collapsed": false
   }
  },
  {
   "cell_type": "code",
   "source": [
    "string_to_be_cut=\"This string needs to be cut in pieces\"\n",
    "#SOLUTION_START\n",
    "#a\n",
    "List_string_cut=string_to_be_cut.split()\n",
    "#b\n",
    "Series_string_cut=pd.Series(List_string_cut)\n",
    "print (Series_string_cut)\n",
    "#c\n",
    "first_place=string_to_be_cut.find('n') + 1 # + 1 because first postion is 0\n",
    "print(first_place)\n",
    "#d\n",
    "three_parts=string_to_be_cut.partition(\"cut\")\n",
    "print(pd.Series([three_parts[0],three_parts[1],three_parts[2]]))\n",
    "#SOLUTION_END"
   ],
   "metadata": {
    "collapsed": false,
    "ExecuteTime": {
     "end_time": "2025-02-04T12:59:57.102382Z",
     "start_time": "2025-02-04T12:59:57.091352Z"
    }
   },
   "outputs": [
    {
     "name": "stdout",
     "output_type": "stream",
     "text": [
      "0      This\n",
      "1    string\n",
      "2     needs\n",
      "3        to\n",
      "4        be\n",
      "5       cut\n",
      "6        in\n",
      "7    pieces\n",
      "dtype: object\n",
      "10\n",
      "29\n",
      "0    This string needs to be \n",
      "1                         cut\n",
      "2                   in pieces\n",
      "dtype: object\n"
     ]
    }
   ],
   "execution_count": 22
  },
  {
   "cell_type": "markdown",
   "source": [
    "7.  Create a dataframe with a column 'first_name' and a column 'last_name' with the first and last name of the famous people.\\\n",
    "*Tip 1: Take a look at the split() n parameter*\\\n",
    "*Tip 2: str.get() can be used to get the different strings from the split()*"
   ],
   "metadata": {
    "collapsed": false
   }
  },
  {
   "cell_type": "code",
   "source": [
    "#SOLUTION_START\n",
    "split_names = names.str.split(n=1)\n",
    "df_name = pd.DataFrame({'first': split_names.str.get(0), 'last': split_names.str.get(1)})\n",
    "df_name\n",
    "#SOLUTION_END"
   ],
   "metadata": {
    "ExecuteTime": {
     "end_time": "2025-02-04T16:21:46.265825Z",
     "start_time": "2025-02-04T16:21:46.223112Z"
    }
   },
   "outputs": [
    {
     "data": {
      "text/plain": [
       "        first        last\n",
       "0    Leonardo    DiCaprio\n",
       "1       Meryl      Streep\n",
       "2      Denzel  Washington\n",
       "3    Scarlett   Johansson\n",
       "4       Kevin   De Bruyne\n",
       "5     Natalie     Portman\n",
       "6      Leonel       Messi\n",
       "7         Tom       Hanks\n",
       "8    Angelina       Jolie\n",
       "9   Christian        Bale\n",
       "10      Kevin       Bacon"
      ],
      "text/html": [
       "<div>\n",
       "<style scoped>\n",
       "    .dataframe tbody tr th:only-of-type {\n",
       "        vertical-align: middle;\n",
       "    }\n",
       "\n",
       "    .dataframe tbody tr th {\n",
       "        vertical-align: top;\n",
       "    }\n",
       "\n",
       "    .dataframe thead th {\n",
       "        text-align: right;\n",
       "    }\n",
       "</style>\n",
       "<table border=\"1\" class=\"dataframe\">\n",
       "  <thead>\n",
       "    <tr style=\"text-align: right;\">\n",
       "      <th></th>\n",
       "      <th>first</th>\n",
       "      <th>last</th>\n",
       "    </tr>\n",
       "  </thead>\n",
       "  <tbody>\n",
       "    <tr>\n",
       "      <th>0</th>\n",
       "      <td>Leonardo</td>\n",
       "      <td>DiCaprio</td>\n",
       "    </tr>\n",
       "    <tr>\n",
       "      <th>1</th>\n",
       "      <td>Meryl</td>\n",
       "      <td>Streep</td>\n",
       "    </tr>\n",
       "    <tr>\n",
       "      <th>2</th>\n",
       "      <td>Denzel</td>\n",
       "      <td>Washington</td>\n",
       "    </tr>\n",
       "    <tr>\n",
       "      <th>3</th>\n",
       "      <td>Scarlett</td>\n",
       "      <td>Johansson</td>\n",
       "    </tr>\n",
       "    <tr>\n",
       "      <th>4</th>\n",
       "      <td>Kevin</td>\n",
       "      <td>De Bruyne</td>\n",
       "    </tr>\n",
       "    <tr>\n",
       "      <th>5</th>\n",
       "      <td>Natalie</td>\n",
       "      <td>Portman</td>\n",
       "    </tr>\n",
       "    <tr>\n",
       "      <th>6</th>\n",
       "      <td>Leonel</td>\n",
       "      <td>Messi</td>\n",
       "    </tr>\n",
       "    <tr>\n",
       "      <th>7</th>\n",
       "      <td>Tom</td>\n",
       "      <td>Hanks</td>\n",
       "    </tr>\n",
       "    <tr>\n",
       "      <th>8</th>\n",
       "      <td>Angelina</td>\n",
       "      <td>Jolie</td>\n",
       "    </tr>\n",
       "    <tr>\n",
       "      <th>9</th>\n",
       "      <td>Christian</td>\n",
       "      <td>Bale</td>\n",
       "    </tr>\n",
       "    <tr>\n",
       "      <th>10</th>\n",
       "      <td>Kevin</td>\n",
       "      <td>Bacon</td>\n",
       "    </tr>\n",
       "  </tbody>\n",
       "</table>\n",
       "</div>"
      ]
     },
     "execution_count": 54,
     "metadata": {},
     "output_type": "execute_result"
    }
   ],
   "execution_count": 54
  },
  {
   "cell_type": "markdown",
   "source": "6) Make a df_replaced where you replace all the white spaces with '\\\\_' in the list of famous people.\\",
   "metadata": {
    "collapsed": false
   }
  },
  {
   "cell_type": "code",
   "source": [
    "#SOLUTION_START\n",
    "df_replaced = df.str.replace(\" \",\"_\")\n",
    "print(df2)\n",
    "#SOLUTION_END"
   ],
   "metadata": {
    "collapsed": false,
    "ExecuteTime": {
     "end_time": "2025-02-06T07:41:49.053705Z",
     "start_time": "2025-02-06T07:41:49.035782Z"
    }
   },
   "outputs": [
    {
     "name": "stdout",
     "output_type": "stream",
     "text": [
      "0      Leonardo_DiCaprio\n",
      "1           Meryl_Streep\n",
      "2      Denzel_Washington\n",
      "3     Scarlett_Johansson\n",
      "4      __Kevin_De_Bruyne\n",
      "5        Natalie_Portman\n",
      "6           Leonel_Messi\n",
      "7            _Tom_Hanks_\n",
      "8         Angelina_Jolie\n",
      "9         Christian_Bale\n",
      "10         _Kevin_Bacon_\n",
      "Name: famous, dtype: object\n"
     ]
    }
   ],
   "execution_count": 56
  },
  {
   "cell_type": "markdown",
   "source": "7. In de cell below we have a Series with some rubbish in it.\\",
   "metadata": {
    "collapsed": false
   }
  },
  {
   "cell_type": "code",
   "source": [
    "rubbish=pd.Series(['just a phrase',\n",
    "\"123\",\n",
    "'45,56',\n",
    "'HI',\n",
    "\"\\u0030\",\n",
    "'Natalie Portman',\n",
    "\"\\u00B2\",\n",
    "'22.23',\n",
    "'Angelina Jolie',\n",
    "'Christian Bale',\n",
    "' Kevin Bacon '              ],name=\"rubbish\")"
   ],
   "metadata": {
    "collapsed": false,
    "ExecuteTime": {
     "end_time": "2025-02-06T07:46:41.245541Z",
     "start_time": "2025-02-06T07:46:41.228722Z"
    }
   },
   "outputs": [],
   "execution_count": 57
  },
  {
   "cell_type": "markdown",
   "source": [
    "a) For each element print whether the string is numeric\\\n",
    "b) For each element print whether the string is decimal. Check wheter the results are what you expect.\\\n",
    "c) For each element print whether the string contains the substring 'Ba'\\\n",
    "d)  For each element print whether the strings start with a alphabetic character and ends with an alphabetic character using regex."
   ],
   "metadata": {
    "collapsed": false
   }
  },
  {
   "cell_type": "code",
   "source": [
    "#SOLUTION_START\n",
    "#a\n",
    "print(rubbish.str.isnumeric())\n",
    "# Entry 4 and 6 considered as True because these are the unicode characters for 0 and ²\n",
    "#b\n",
    "print(rubbish.str.isdecimal())\n",
    "#c\n",
    "print(rubbish.str.contains('Ba'))\n",
    "#alternative with regular expressions\n",
    "print(rubbish.str.contains('Ba',regex=True))\n",
    "#d\n",
    "print(rubbish.str.contains('^[a-zA-Z].*[a-zA-Z]$',regex=True))\n",
    "#SOLUTION_END"
   ],
   "metadata": {
    "collapsed": false,
    "ExecuteTime": {
     "end_time": "2025-02-06T08:02:08.963493Z",
     "start_time": "2025-02-06T08:02:08.926017Z"
    }
   },
   "outputs": [
    {
     "name": "stdout",
     "output_type": "stream",
     "text": [
      "0     False\n",
      "1      True\n",
      "2     False\n",
      "3     False\n",
      "4      True\n",
      "5     False\n",
      "6      True\n",
      "7     False\n",
      "8     False\n",
      "9     False\n",
      "10    False\n",
      "Name: rubbish, dtype: bool\n",
      "0     False\n",
      "1      True\n",
      "2     False\n",
      "3     False\n",
      "4      True\n",
      "5     False\n",
      "6     False\n",
      "7     False\n",
      "8     False\n",
      "9     False\n",
      "10    False\n",
      "Name: rubbish, dtype: bool\n",
      "0     False\n",
      "1     False\n",
      "2     False\n",
      "3     False\n",
      "4     False\n",
      "5     False\n",
      "6     False\n",
      "7     False\n",
      "8     False\n",
      "9      True\n",
      "10     True\n",
      "Name: rubbish, dtype: bool\n",
      "0     False\n",
      "1     False\n",
      "2     False\n",
      "3     False\n",
      "4     False\n",
      "5     False\n",
      "6     False\n",
      "7     False\n",
      "8     False\n",
      "9      True\n",
      "10     True\n",
      "Name: rubbish, dtype: bool\n",
      "0      True\n",
      "1     False\n",
      "2     False\n",
      "3      True\n",
      "4     False\n",
      "5      True\n",
      "6     False\n",
      "7     False\n",
      "8      True\n",
      "9      True\n",
      "10    False\n",
      "Name: rubbish, dtype: bool\n"
     ]
    }
   ],
   "execution_count": 61
  }
 ],
 "metadata": {
  "kernelspec": {
   "display_name": "Python 3",
   "language": "python",
   "name": "python3"
  },
  "language_info": {
   "codemirror_mode": {
    "name": "ipython",
    "version": 2
   },
   "file_extension": ".py",
   "mimetype": "text/x-python",
   "name": "python",
   "nbconvert_exporter": "python",
   "pygments_lexer": "ipython2",
   "version": "2.7.6"
  }
 },
 "nbformat": 4,
 "nbformat_minor": 0
}
