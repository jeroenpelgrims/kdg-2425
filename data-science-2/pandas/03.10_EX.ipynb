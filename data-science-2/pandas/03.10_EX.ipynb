{
  "cells": [
    {
      "cell_type": "markdown",
      "source": [
        "## Strings methods and strings methods with regular expressions\n",
        "\n",
        "### Strings methods\n",
        "\n",
        "\n",
        "In the cell below a Series object is created with names."
      ],
      "metadata": {
        "collapsed": false
      }
    },
    {
      "cell_type": "code",
      "source": [
        "import pandas as pd\n",
        "import re\n",
        "\n",
        "\n",
        "df=pd.Series(['Leonardo DiCaprio',\n",
        "'Meryl Streep',\n",
        "'Denzel Washington',\n",
        "'Scarlett Johansson',\n",
        "'  Kevin De Bruyne',\n",
        "'Natalie Portman',\n",
        "'Leonel Messi',\n",
        "' Tom Hanks ',\n",
        "'Angelina Jolie',\n",
        "'Christian Bale',\n",
        "' Kevin Bacon '              ],name=\"famous\")"
      ],
      "metadata": {
        "collapsed": false,
        "ExecuteTime": {
          "end_time": "2025-02-04T12:57:01.682515Z",
          "start_time": "2025-02-04T12:57:01.677020Z"
        }
      },
      "outputs": [],
      "execution_count": 7
    },
    {
      "cell_type": "markdown",
      "source": "1) In the list we have some blanks in the beginning and the end. Remove them. Call the Series names.",
      "metadata": {
        "collapsed": false
      }
    },
    {
      "cell_type": "code",
      "source": [],
      "metadata": {
        "collapsed": false,
        "ExecuteTime": {
          "end_time": "2025-02-04T12:57:01.725117Z",
          "start_time": "2025-02-04T12:57:01.718834Z"
        }
      },
      "outputs": [],
      "execution_count": 8
    },
    {
      "cell_type": "markdown",
      "source": [
        "2) Make a series with the len of all the actor names in it."
      ],
      "metadata": {
        "collapsed": false
      }
    },
    {
      "cell_type": "code",
      "source": [],
      "metadata": {
        "collapsed": false,
        "ExecuteTime": {
          "end_time": "2025-02-04T12:57:01.769773Z",
          "start_time": "2025-02-04T12:57:01.761129Z"
        }
      },
      "outputs": [],
      "execution_count": 9
    },
    {
      "cell_type": "markdown",
      "source": [
        "3) Make a list which will transform all the actors name in lower case"
      ],
      "metadata": {
        "collapsed": false
      }
    },
    {
      "cell_type": "code",
      "source": [],
      "metadata": {
        "collapsed": false,
        "ExecuteTime": {
          "end_time": "2025-02-04T12:57:01.820892Z",
          "start_time": "2025-02-04T12:57:01.815276Z"
        }
      },
      "outputs": [],
      "execution_count": 10
    },
    {
      "cell_type": "raw",
      "source": "4) Create a dataframe with column 'name' with the names in uppercase and column 'length' with the length\n",
      "metadata": {
        "collapsed": false
      }
    },
    {
      "cell_type": "code",
      "source": [],
      "metadata": {
        "collapsed": false,
        "ExecuteTime": {
          "end_time": "2025-02-04T12:57:01.883580Z",
          "start_time": "2025-02-04T12:57:01.870430Z"
        }
      },
      "outputs": [],
      "execution_count": 11
    },
    {
      "cell_type": "markdown",
      "source": [
        "5) Make a dataframe df_short with:\\\n",
        "   a) Column first_five with only the first 5 characters of each string in the Series names.\\\n",
        "   b) Column not_last_six which will show the string except the last 6 characters of each string of Series names.\\\n",
        "   c) Column last_seven with only the last 7 characters in each string\\"
      ],
      "metadata": {
        "collapsed": false
      }
    },
    {
      "cell_type": "code",
      "source": [],
      "metadata": {
        "collapsed": false,
        "ExecuteTime": {
          "end_time": "2025-02-04T12:57:02.117473Z",
          "start_time": "2025-02-04T12:57:02.103843Z"
        }
      },
      "outputs": [],
      "execution_count": 12
    },
    {
      "cell_type": "markdown",
      "source": [
        "6) a) Make a list of all the words in string_to_be_cut.\\\n",
        "   b) Convert the list to a pandas Series\\\n",
        "   c) Use a string function to display the position of the first 'n'\\\n",
        "   d) Split the string in three parts with 'cut' in the middle and print  the 3 parts.\n"
      ],
      "metadata": {
        "collapsed": false
      }
    },
    {
      "cell_type": "code",
      "source": [
        "string_to_be_cut=\"This string needs to be cut in pieces\"\n"
      ],
      "metadata": {
        "collapsed": false,
        "ExecuteTime": {
          "end_time": "2025-02-04T12:59:57.102382Z",
          "start_time": "2025-02-04T12:59:57.091352Z"
        }
      },
      "outputs": [],
      "execution_count": 22
    },
    {
      "cell_type": "markdown",
      "source": [
        "7.  Create a dataframe with a column 'first_name' and a column 'last_name' with the first and last name of the famous people.\\\n",
        "*Tip 1: Take a look at the split() n parameter*\\\n",
        "*Tip 2: str.get() can be used to get the different strings from the split()*"
      ],
      "metadata": {
        "collapsed": false
      }
    },
    {
      "cell_type": "code",
      "source": [],
      "metadata": {
        "ExecuteTime": {
          "end_time": "2025-02-04T16:21:46.265825Z",
          "start_time": "2025-02-04T16:21:46.223112Z"
        }
      },
      "outputs": [],
      "execution_count": 54
    },
    {
      "cell_type": "markdown",
      "source": "6) Make a df_replaced where you replace all the white spaces with '\\\\_' in the list of famous people.\\",
      "metadata": {
        "collapsed": false
      }
    },
    {
      "cell_type": "code",
      "source": [],
      "metadata": {
        "collapsed": false,
        "ExecuteTime": {
          "end_time": "2025-02-06T07:41:49.053705Z",
          "start_time": "2025-02-06T07:41:49.035782Z"
        }
      },
      "outputs": [],
      "execution_count": 56
    },
    {
      "cell_type": "markdown",
      "source": "7. In de cell below we have a Series with some rubbish in it.\\",
      "metadata": {
        "collapsed": false
      }
    },
    {
      "cell_type": "code",
      "source": [
        "rubbish=pd.Series(['just a phrase',\n",
        "\"123\",\n",
        "'45,56',\n",
        "'HI',\n",
        "\"\\u0030\",\n",
        "'Natalie Portman',\n",
        "\"\\u00B2\",\n",
        "'22.23',\n",
        "'Angelina Jolie',\n",
        "'Christian Bale',\n",
        "' Kevin Bacon '              ],name=\"rubbish\")"
      ],
      "metadata": {
        "collapsed": false,
        "ExecuteTime": {
          "end_time": "2025-02-06T07:46:41.245541Z",
          "start_time": "2025-02-06T07:46:41.228722Z"
        }
      },
      "outputs": [],
      "execution_count": 57
    },
    {
      "cell_type": "markdown",
      "source": [
        "a) For each element print whether the string is numeric\\\n",
        "b) For each element print whether the string is decimal. Check wheter the results are what you expect.\\\n",
        "c) For each element print whether the string contains the substring 'Ba'\\\n",
        "d)  For each element print whether the strings start with a alphabetic character and ends with an alphabetic character using regex."
      ],
      "metadata": {
        "collapsed": false
      }
    },
    {
      "cell_type": "code",
      "source": [],
      "metadata": {
        "collapsed": false,
        "ExecuteTime": {
          "end_time": "2025-02-06T08:02:08.963493Z",
          "start_time": "2025-02-06T08:02:08.926017Z"
        }
      },
      "outputs": [],
      "execution_count": 61
    }
  ],
  "metadata": {
    "kernelspec": {
      "display_name": "Python 3",
      "language": "python",
      "name": "python3"
    },
    "language_info": {
      "codemirror_mode": {
        "name": "ipython",
        "version": 2
      },
      "file_extension": ".py",
      "mimetype": "text/x-python",
      "name": "python",
      "nbconvert_exporter": "python",
      "pygments_lexer": "ipython2",
      "version": "2.7.6"
    }
  },
  "nbformat": 4,
  "nbformat_minor": 0
}